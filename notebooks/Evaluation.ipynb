{
 "cells": [
  {
   "cell_type": "markdown",
   "metadata": {},
   "source": [
    "## Load persisted models "
   ]
  },
  {
   "cell_type": "code",
   "execution_count": 2,
   "metadata": {
    "collapsed": true
   },
   "outputs": [],
   "source": [
    "from sklearn.externals import joblib\n",
    "models = joblib.load('models.pkl')"
   ]
  },
  {
   "cell_type": "code",
   "execution_count": 9,
   "metadata": {
    "collapsed": false
   },
   "outputs": [
    {
     "name": "stdout",
     "output_type": "stream",
     "text": [
      "RandomForestClassifier :\n",
      "\tPrecision for attack:0.365            \n",
      "\tPrecision for vandalism:0.607            \n",
      "\tPrecision for spam:0.843            \n",
      "\tPrecision for OK:0.956           \n",
      "GradientBoostingClassifier :\n",
      "\tPrecision for attack:0.473            \n",
      "\tPrecision for vandalism:0.636            \n",
      "\tPrecision for spam:0.836            \n",
      "\tPrecision for OK:0.945           \n",
      "SVC :\n",
      "\tPrecision for attack:0.471            \n",
      "\tPrecision for vandalism:0.651            \n",
      "\tPrecision for spam:0.569            \n",
      "\tPrecision for OK:0.979           \n",
      "GaussianNB :\n",
      "\tPrecision for attack:0.042            \n",
      "\tPrecision for vandalism:0.297            \n",
      "\tPrecision for spam:0.343            \n",
      "\tPrecision for OK:0.518           \n"
     ]
    }
   ],
   "source": [
    "for model in models:\n",
    "    print (\"%s :\\n\\tPrecision for attack:%.3f \\\n",
    "           \\n\\tPrecision for vandalism:%.3f \\\n",
    "           \\n\\tPrecision for spam:%.3f \\\n",
    "           \\n\\tPrecision for OK:%.3f \\\n",
    "          \" %(model[\"name\"], \\\n",
    "              model[\"metrics_for_attack\"][0], \\\n",
    "              model[\"metrics_for_vandalism\"][0], \\\n",
    "              model[\"metrics_for_spam\"][0], \\\n",
    "              model[\"metrics_for_OK\"][0]\\\n",
    "             ))"
   ]
  }
 ],
 "metadata": {
  "kernelspec": {
   "display_name": "Python 3",
   "language": "python",
   "name": "python3"
  },
  "language_info": {
   "codemirror_mode": {
    "name": "ipython",
    "version": 3
   },
   "file_extension": ".py",
   "mimetype": "text/x-python",
   "name": "python",
   "nbconvert_exporter": "python",
   "pygments_lexer": "ipython3",
   "version": "3.4.3"
  }
 },
 "nbformat": 4,
 "nbformat_minor": 0
}
