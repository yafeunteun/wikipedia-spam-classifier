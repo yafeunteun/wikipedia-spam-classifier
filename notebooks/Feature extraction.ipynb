{
 "cells": [
  {
   "cell_type": "code",
   "execution_count": 117,
   "metadata": {
    "collapsed": false
   },
   "outputs": [
    {
     "name": "stdout",
     "output_type": "stream",
     "text": [
      "Requirement already satisfied (use --upgrade to upgrade): pandas in /usr/local/lib/python3.4/dist-packages\n",
      "Requirement already satisfied (use --upgrade to upgrade): numpy>=1.7.0 in /usr/lib/python3/dist-packages (from pandas)\n",
      "Requirement already satisfied (use --upgrade to upgrade): python-dateutil>=2 in /usr/local/lib/python3.4/dist-packages (from pandas)\n",
      "Requirement already satisfied (use --upgrade to upgrade): pytz>=2011k in /root/.local/lib/python3.4/site-packages (from pandas)\n",
      "Requirement already satisfied (use --upgrade to upgrade): six>=1.5 in /usr/local/lib/python3.4/dist-packages (from python-dateutil>=2->pandas)\n",
      "\u001b[33mYou are using pip version 8.1.2, however version 9.0.1 is available.\n",
      "You should consider upgrading via the 'pip install --upgrade pip' command.\u001b[0m\n",
      "Requirement already satisfied (use --upgrade to upgrade): matplotlib in /usr/local/lib/python3.4/dist-packages\n",
      "Requirement already satisfied (use --upgrade to upgrade): pytz in /root/.local/lib/python3.4/site-packages (from matplotlib)\n",
      "Requirement already satisfied (use --upgrade to upgrade): numpy>=1.6 in /usr/lib/python3/dist-packages (from matplotlib)\n",
      "Requirement already satisfied (use --upgrade to upgrade): cycler in /usr/local/lib/python3.4/dist-packages (from matplotlib)\n",
      "Requirement already satisfied (use --upgrade to upgrade): python-dateutil in /usr/local/lib/python3.4/dist-packages (from matplotlib)\n",
      "Requirement already satisfied (use --upgrade to upgrade): pyparsing!=2.0.0,!=2.0.4,!=2.1.2,>=1.5.6 in /usr/local/lib/python3.4/dist-packages (from matplotlib)\n",
      "Requirement already satisfied (use --upgrade to upgrade): six in /usr/local/lib/python3.4/dist-packages (from cycler->matplotlib)\n",
      "\u001b[33mYou are using pip version 8.1.2, however version 9.0.1 is available.\n",
      "You should consider upgrading via the 'pip install --upgrade pip' command.\u001b[0m\n",
      "Reading package lists... Done\n",
      "Building dependency tree       \n",
      "Reading state information... Done\n",
      "python3-tk is already the newest version.\n",
      "0 upgraded, 0 newly installed, 0 to remove and 0 not upgraded.\n"
     ]
    }
   ],
   "source": [
    "# Install some more libs\n",
    "! sudo pip install pandas\n",
    "! sudo pip install matplotlib\n",
    "! sudo apt-get -y install python3-tk"
   ]
  },
  {
   "cell_type": "code",
   "execution_count": 3,
   "metadata": {
    "collapsed": true
   },
   "outputs": [],
   "source": [
    "# import required libs\n",
    "from revscoring.dependencies import solve\n",
    "from revscoring.features import wikitext\n",
    "import pandas as pd\n",
    "import re\n",
    "import matplotlib.pyplot as plt\n",
    "import numpy as np\n",
    "%matplotlib inline"
   ]
  },
  {
   "cell_type": "code",
   "execution_count": 4,
   "metadata": {
    "collapsed": false
   },
   "outputs": [
    {
     "data": {
      "text/html": [
       "<div>\n",
       "<table border=\"1\" class=\"dataframe\">\n",
       "  <thead>\n",
       "    <tr style=\"text-align: right;\">\n",
       "      <th></th>\n",
       "      <th>page_title</th>\n",
       "      <th>rev_id</th>\n",
       "      <th>creation_timestamp</th>\n",
       "      <th>archived</th>\n",
       "      <th>draft_quality</th>\n",
       "      <th>censored_text</th>\n",
       "    </tr>\n",
       "  </thead>\n",
       "  <tbody>\n",
       "    <tr>\n",
       "      <th>0</th>\n",
       "      <td>Government_Achuthan_girls_hss</td>\n",
       "      <td>688249460</td>\n",
       "      <td>20151030165831</td>\n",
       "      <td>1</td>\n",
       "      <td>spam</td>\n",
       "      <td>125 years ago APPU NEDUNGADI  STARTED THIS SCH...</td>\n",
       "    </tr>\n",
       "    <tr>\n",
       "      <th>1</th>\n",
       "      <td>Spiromax_EDMS</td>\n",
       "      <td>731688963</td>\n",
       "      <td>20160726220726</td>\n",
       "      <td>1</td>\n",
       "      <td>spam</td>\n",
       "      <td>Spiromax is a British technology media and com...</td>\n",
       "    </tr>\n",
       "    <tr>\n",
       "      <th>2</th>\n",
       "      <td>Steph_Curry_UA_2</td>\n",
       "      <td>693824273</td>\n",
       "      <td>20151205035603</td>\n",
       "      <td>1</td>\n",
       "      <td>spam</td>\n",
       "      <td>The Steph Curry UA two Shoes are a hot-selling...</td>\n",
       "    </tr>\n",
       "    <tr>\n",
       "      <th>3</th>\n",
       "      <td>Valletta_Cruise_Port</td>\n",
       "      <td>722151405</td>\n",
       "      <td>20160526085302</td>\n",
       "      <td>1</td>\n",
       "      <td>spam</td>\n",
       "      <td>''Valletta Cruise Port plc''' is a private com...</td>\n",
       "    </tr>\n",
       "    <tr>\n",
       "      <th>4</th>\n",
       "      <td>RWG_Mobile</td>\n",
       "      <td>731355950</td>\n",
       "      <td>20160724204124</td>\n",
       "      <td>1</td>\n",
       "      <td>spam</td>\n",
       "      <td>[[File:RWGmobile.png|thumb|RWG Mobile logo]]\\n...</td>\n",
       "    </tr>\n",
       "  </tbody>\n",
       "</table>\n",
       "</div>"
      ],
      "text/plain": [
       "                      page_title     rev_id  creation_timestamp  archived  \\\n",
       "0  Government_Achuthan_girls_hss  688249460      20151030165831         1   \n",
       "1                  Spiromax_EDMS  731688963      20160726220726         1   \n",
       "2               Steph_Curry_UA_2  693824273      20151205035603         1   \n",
       "3           Valletta_Cruise_Port  722151405      20160526085302         1   \n",
       "4                     RWG_Mobile  731355950      20160724204124         1   \n",
       "\n",
       "  draft_quality                                      censored_text  \n",
       "0          spam  125 years ago APPU NEDUNGADI  STARTED THIS SCH...  \n",
       "1          spam  Spiromax is a British technology media and com...  \n",
       "2          spam  The Steph Curry UA two Shoes are a hot-selling...  \n",
       "3          spam  ''Valletta Cruise Port plc''' is a private com...  \n",
       "4          spam  [[File:RWGmobile.png|thumb|RWG Mobile logo]]\\n...  "
      ]
     },
     "execution_count": 4,
     "metadata": {},
     "output_type": "execute_result"
    }
   ],
   "source": [
    "# Load dataset\n",
    "df = pd.read_csv(\"./data/enwiki.draft_quality.75_not_OK_sample.censored.tsv\", sep=\"\\t\")\n",
    "df.head()"
   ]
  },
  {
   "cell_type": "markdown",
   "metadata": {},
   "source": [
    "### Character features"
   ]
  },
  {
   "cell_type": "code",
   "execution_count": 71,
   "metadata": {
    "collapsed": false
   },
   "outputs": [],
   "source": [
    "# The number of characters\n",
    "chars = lambda x:list(solve([ wikitext.revision.chars], cache={'datasource.revision.text': x}))[0]\n",
    "df[\"chars\"] = df[\"censored_text\"].apply(chars)\n",
    "\n",
    "# whitespace_chars\n",
    "whitespace_chars = lambda x:list(solve([ wikitext.revision.whitespace_chars], cache={'datasource.revision.text': x}))[0]\n",
    "df[\"whitespace_chars\"] = df[\"censored_text\"].apply(whitespace_chars)\n",
    "\n",
    "# The number of wikitext markup characters\n",
    "markup_chars = lambda x:list(solve([ wikitext.revision.markup_chars], cache={'datasource.revision.text': x}))[0]\n",
    "df[\"markup_chars\"] = df[\"censored_text\"].apply(markup_chars)\n",
    "\n",
    "# The number of Chinese/Japanese/Korean characters\n",
    "cjk_chars = lambda x:list(solve([ wikitext.revision.cjk_chars], cache={'datasource.revision.text': x}))[0]\n",
    "df[\"cjk_chars\"] = df[\"censored_text\"].apply(cjk_chars)\n",
    "\n",
    "# The number of HTML entity characters\n",
    "entity_chars = lambda x:list(solve([ wikitext.revision.entity_chars], cache={'datasource.revision.text': x}))[0]\n",
    "df[\"entity_chars\"] = df[\"censored_text\"].apply(entity_chars)\n",
    "\n",
    "# The number of URL characters\n",
    "url_chars = lambda x:list(solve([ wikitext.revision.url_chars], cache={'datasource.revision.text': x}))[0]\n",
    "df[\"url_chars\"] = df[\"censored_text\"].apply(url_chars)\n",
    "\n",
    "# The number of word characters\n",
    "word_chars = lambda x:list(solve([ wikitext.revision.word_chars], cache={'datasource.revision.text': x}))[0]\n",
    "df[\"word_chars\"] = df[\"censored_text\"].apply(word_chars)\n",
    "\n",
    "# The number of UPPERCASE WORD characters\n",
    "uppercase_word_chars = lambda x:list(solve([ wikitext.revision.uppercase_word_chars], cache={'datasource.revision.text': x}))[0]\n",
    "df[\"uppercase_word_chars\"] = df[\"censored_text\"].apply(uppercase_word_chars)\n",
    "\n",
    "# The number of punctuation characters\n",
    "punctuation_chars = lambda x:list(solve([ wikitext.revision.punctuation_chars], cache={'datasource.revision.text': x}))[0]\n",
    "df[\"punctuation_chars\"] = df[\"censored_text\"].apply(punctuation_chars)\n",
    "\n",
    "# The number of break characters\n",
    "break_chars = lambda x:list(solve([ wikitext.revision.break_chars], cache={'datasource.revision.text': x}))[0]\n",
    "df[\"break_chars\"] = df[\"censored_text\"].apply(break_chars)\n",
    "\n",
    "# The length of the most longest character repetition\n",
    "longest_repeated_char = lambda x:list(solve([ wikitext.revision.longest_repeated_char], cache={'datasource.revision.text': x}))[0]\n",
    "df[\"longest_repeated_char\"] = df[\"censored_text\"].apply(longest_repeated_char)"
   ]
  },
  {
   "cell_type": "markdown",
   "metadata": {},
   "source": [
    "### Tokenized features "
   ]
  },
  {
   "cell_type": "code",
   "execution_count": 73,
   "metadata": {
    "collapsed": false
   },
   "outputs": [],
   "source": [
    "# The number of tokens\n",
    "tokens = lambda x:list(solve([ wikitext.revision.tokens], cache={'datasource.revision.text': x}))[0]\n",
    "df[\"tokens\"] = df[\"censored_text\"].apply(tokens)\n",
    "\n",
    "# The number of number tokens\n",
    "numbers = lambda x:list(solve([ wikitext.revision.numbers], cache={'datasource.revision.text': x}))[0]\n",
    "df[\"numbers\"] = df[\"censored_text\"].apply(numbers)\n",
    "\n",
    "# The number of whitespace tokens\n",
    "whitespaces = lambda x:list(solve([ wikitext.revision.whitespaces], cache={'datasource.revision.text': x}))[0]\n",
    "df[\"whitespaces\"] = df[\"censored_text\"].apply(whitespaces)\n",
    "\n",
    "# The number of markup tokens\n",
    "markups = lambda x:list(solve([ wikitext.revision.markups], cache={'datasource.revision.text': x}))[0]\n",
    "df[\"markups\"] = df[\"censored_text\"].apply(markups)\n",
    "\n",
    "# The number of Chinese/Japanese/Korean tokens\n",
    "cjks = lambda x:list(solve([ wikitext.revision.cjks], cache={'datasource.revision.text': x}))[0]\n",
    "df[\"cjks\"] = df[\"censored_text\"].apply(cjks)\n",
    "\n",
    "# The number of HTML entity tokens\n",
    "entities = lambda x:list(solve([ wikitext.revision.entities], cache={'datasource.revision.text': x}))[0]\n",
    "df[\"entities\"] = df[\"censored_text\"].apply(entities)\n",
    "\n",
    "# The number of URL tokens\n",
    "urls = lambda x:list(solve([ wikitext.revision.urls], cache={'datasource.revision.text': x}))[0]\n",
    "df[\"urls\"] = df[\"censored_text\"].apply(urls)\n",
    "\n",
    "# The number of word tokens\n",
    "words = lambda x:list(solve([ wikitext.revision.words], cache={'datasource.revision.text': x}))[0]\n",
    "df[\"words\"] = df[\"censored_text\"].apply(words)\n",
    "\n",
    "# The number of UPPERCASE word tokens\n",
    "uppercase_words = lambda x:list(solve([ wikitext.revision.uppercase_words], cache={'datasource.revision.text': x}))[0]\n",
    "df[\"uppercase_words\"] = df[\"censored_text\"].apply(uppercase_words)\n",
    "\n",
    "# The number of punctuation tokens\n",
    "punctuations = lambda x:list(solve([ wikitext.revision.punctuations], cache={'datasource.revision.text': x}))[0]\n",
    "df[\"punctuations\"] = df[\"censored_text\"].apply(punctuations)\n",
    "\n",
    "# The number of break tokens\n",
    "breaks = lambda x:list(solve([ wikitext.revision.breaks], cache={'datasource.revision.text': x}))[0]\n",
    "df[\"breaks\"] = df[\"censored_text\"].apply(breaks)\n",
    "\n",
    "# The length of the longest token\n",
    "longest_token = lambda x:list(solve([ wikitext.revision.longest_token], cache={'datasource.revision.text': x}))[0]\n",
    "df[\"longest_token\"] = df[\"censored_text\"].apply(longest_token)\n",
    "\n",
    "# The length of the longest word-token\n",
    "longest_word = lambda x:list(solve([ wikitext.revision.longest_word], cache={'datasource.revision.text': x}))[0]\n",
    "df[\"longest_word\"] = df[\"censored_text\"].apply(longest_word)"
   ]
  },
  {
   "cell_type": "markdown",
   "metadata": {},
   "source": [
    "### Parsed features"
   ]
  },
  {
   "cell_type": "code",
   "execution_count": 74,
   "metadata": {
    "collapsed": false
   },
   "outputs": [],
   "source": [
    "# The number of characters of viewable content (no markup or templates)\n",
    "content_chars = lambda x:list(solve([ wikitext.revision.content_chars], cache={'datasource.revision.text': x}))[0]\n",
    "df[\"content_chars\"] = df[\"censored_text\"].apply(content_chars)\n",
    "\n",
    "# The number of headings\n",
    "headings = lambda x:list(solve([ wikitext.revision.headings], cache={'datasource.revision.text': x}))[0]\n",
    "df[\"headings\"] = df[\"censored_text\"].apply(headings)\n",
    "\n",
    "# The number of external links\n",
    "external_links = lambda x:list(solve([ wikitext.revision.external_links], cache={'datasource.revision.text': x}))[0]\n",
    "df[\"external_links\"] = df[\"censored_text\"].apply(external_links)\n",
    "\n",
    "# The number of wikilinks (internal to other pages in the wiki)\n",
    "wikilinks = lambda x:list(solve([ wikitext.revision.wikilinks], cache={'datasource.revision.text': x}))[0]\n",
    "df[\"wikilinks\"] = df[\"censored_text\"].apply(wikilinks)\n",
    "\n",
    "# The number of HTML tags\n",
    "tags = lambda x:list(solve([ wikitext.revision.tags], cache={'datasource.revision.text': x}))[0]\n",
    "df[\"tags\"] = df[\"censored_text\"].apply(tags)\n",
    "\n",
    "# The number of <ref> tags\n",
    "ref_tags = lambda x:list(solve([ wikitext.revision.ref_tags], cache={'datasource.revision.text': x}))[0]\n",
    "df[\"ref_tags\"] = df[\"censored_text\"].apply(ref_tags)\n",
    "\n",
    "# The number of templates\n",
    "templates = lambda x:list(solve([ wikitext.revision.templates], cache={'datasource.revision.text': x}))[0]\n",
    "df[\"templates\"] = df[\"censored_text\"].apply(templates)"
   ]
  },
  {
   "cell_type": "code",
   "execution_count": null,
   "metadata": {
    "collapsed": false
   },
   "outputs": [],
   "source": []
  },
  {
   "cell_type": "markdown",
   "metadata": {},
   "source": [
    "### Custom features"
   ]
  },
  {
   "cell_type": "code",
   "execution_count": 39,
   "metadata": {
    "collapsed": true
   },
   "outputs": [],
   "source": [
    "df[\"whitespace_chars_norm\"] = df[\"whitespace_chars\"] / df[\"chars\"]\n",
    "df[\"markup_chars_norm\"] = df[\"markup_chars\"] / df[\"chars\"]\n",
    "df[\"cjk_chars_norm\"] = df[\"cjk_chars\"] / df[\"chars\"]\n",
    "df[\"entity_chars_norm\"] = df[\"entity_chars\"] / df[\"chars\"]\n",
    "df[\"url_chars_norm\"] = df[\"url_chars\"] / df[\"chars\"]\n",
    "df[\"word_chars_norm\"] = df[\"word_chars\"] / df[\"chars\"]\n",
    "df[\"uppercase_word_chars_norm\"] = df[\"uppercase_word_chars\"] / df[\"chars\"]\n",
    "df[\"punctuation_chars_norm\"] = df[\"punctuation_chars\"] / df[\"chars\"]\n",
    "df[\"break_chars_norm\"] = df[\"break_chars\"] / df[\"chars\"]\n",
    "df[\"longest_repeated_char_norm\"] = df[\"longest_repeated_char\"] / df[\"chars\"]"
   ]
  },
  {
   "cell_type": "code",
   "execution_count": 40,
   "metadata": {
    "collapsed": true
   },
   "outputs": [],
   "source": [
    "df[\"numbers_norm\"] = df[\"numbers\"] / df[\"tokens\"]\n",
    "df[\"whitespaces_norm\"] = df[\"whitespaces\"] / df[\"tokens\"]\n",
    "df[\"markups_norm\"] = df[\"markups\"] / df[\"tokens\"]\n",
    "df[\"cjks_norm\"] = df[\"cjks\"] / df[\"tokens\"]\n",
    "df[\"entities_norm\"] = df[\"entities\"] / df[\"tokens\"]\n",
    "df[\"urls_norm\"] = df[\"urls\"] / df[\"tokens\"]\n",
    "df[\"words_norm\"] = df[\"words\"] / df[\"tokens\"]\n",
    "df[\"uppercase_words_norm\"] = df[\"uppercase_words\"] / df[\"tokens\"]\n",
    "df[\"punctuations_norm\"] = df[\"punctuations\"] / df[\"tokens\"]\n",
    "df[\"breaks_norm\"] = df[\"breaks\"] / df[\"tokens\"]\n",
    "df[\"longest_token_norm\"] = df[\"longest_token\"] / df[\"tokens\"]"
   ]
  },
  {
   "cell_type": "code",
   "execution_count": 76,
   "metadata": {
    "collapsed": false
   },
   "outputs": [
    {
     "data": {
      "text/plain": [
       "Index(['page_title', 'rev_id', 'creation_timestamp', 'archived',\n",
       "       'draft_quality', 'censored_text', 'chars', 'whitespace_chars',\n",
       "       'markup_chars', 'cjk_chars', 'entity_chars', 'url_chars', 'word_chars',\n",
       "       'uppercase_word_chars', 'punctuation_chars', 'break_chars',\n",
       "       'longest_repeated_char', 'tokens', 'numbers', 'whitespaces', 'markups',\n",
       "       'cjks', 'entities', 'urls', 'words', 'uppercase_words', 'punctuations',\n",
       "       'breaks', 'longest_token', 'longest_word', 'content_chars', 'headings',\n",
       "       'external_links', 'wikilinks', 'tags', 'ref_tags', 'templates',\n",
       "       'whitespace_chars_norm', 'markup_chars_norm', 'cjk_chars_norm',\n",
       "       'entity_chars_norm', 'url_chars_norm', 'word_chars_norm',\n",
       "       'uppercase_word_chars_norm', 'punctuation_chars_norm',\n",
       "       'break_chars_norm', 'longest_repeated_char_norm', 'numbers_norm',\n",
       "       'whitespaces_norm', 'markups_norm', 'cjks_norm', 'entities_norm',\n",
       "       'urls_norm', 'words_norm', 'uppercase_words_norm', 'punctuations_norm',\n",
       "       'breaks_norm', 'longest_token_norm'],\n",
       "      dtype='object')"
      ]
     },
     "execution_count": 76,
     "metadata": {},
     "output_type": "execute_result"
    }
   ],
   "source": [
    "df.columns"
   ]
  },
  {
   "cell_type": "code",
   "execution_count": null,
   "metadata": {
    "collapsed": true
   },
   "outputs": [],
   "source": []
  },
  {
   "cell_type": "markdown",
   "metadata": {},
   "source": [
    "### Feature selection "
   ]
  },
  {
   "cell_type": "code",
   "execution_count": null,
   "metadata": {
    "collapsed": true
   },
   "outputs": [],
   "source": []
  },
  {
   "cell_type": "code",
   "execution_count": 46,
   "metadata": {
    "collapsed": true
   },
   "outputs": [],
   "source": [
    "### We consider only the features we've defined above \n",
    "features = df.columns[6:] \n",
    "target = df.columns[4]"
   ]
  },
  {
   "cell_type": "code",
   "execution_count": 62,
   "metadata": {
    "collapsed": false
   },
   "outputs": [
    {
     "name": "stdout",
     "output_type": "stream",
     "text": [
      "[False False False False False False False False False False False False\n",
      " False False False False False False False False False False False False\n",
      " False False  True False False  True False False False False False False\n",
      " False False False False  True False  True False False False False False\n",
      " False False False False]\n",
      "[27 22 19 29 42 26 24 23  7 44  8 25 17 20 11 32 47  4 21  5  6 43 31 13 36\n",
      " 49  1 10 18  1  9 12 16 40 46 33  3 34 30 48  1 35  1 15 39 41 38  2 37 28\n",
      " 45 14]\n"
     ]
    },
    {
     "data": {
      "text/plain": [
       "Index(['external_links', 'ref_tags', 'longest_repeated_char_norm',\n",
       "       'whitespaces_norm'],\n",
       "      dtype='object')"
      ]
     },
     "execution_count": 62,
     "metadata": {},
     "output_type": "execute_result"
    }
   ],
   "source": [
    "# Recursive Feature Elimination\n",
    "from sklearn.feature_selection import RFE\n",
    "from sklearn.linear_model import LogisticRegression\n",
    "\n",
    "# create a base classifier used to evaluate a subset of attributes\n",
    "model = LogisticRegression()\n",
    "# create the RFE model and select 4 attributes\n",
    "rfe = RFE(model, 4)\n",
    "rfe = rfe.fit(df[features], df[target])\n",
    "# summarize the selection of the attributes\n",
    "print(rfe.support_)\n",
    "print(rfe.ranking_)\n",
    "\n",
    "features[rfe.support_]"
   ]
  },
  {
   "cell_type": "code",
   "execution_count": 81,
   "metadata": {
    "collapsed": false
   },
   "outputs": [
    {
     "data": {
      "text/plain": [
       "0.54666666666666663"
      ]
     },
     "execution_count": 81,
     "metadata": {},
     "output_type": "execute_result"
    }
   ],
   "source": [
    "rfe.score(df[features], df[target])"
   ]
  },
  {
   "cell_type": "code",
   "execution_count": 82,
   "metadata": {
    "collapsed": false
   },
   "outputs": [
    {
     "name": "stdout",
     "output_type": "stream",
     "text": [
      "[ 0.02049697  0.01694762  0.01626072  0.00024242  0.          0.005\n",
      "  0.03927267  0.01900784  0.02436952  0.          0.03812483  0.03092687\n",
      "  0.039094    0.02349133  0.00691032  0.          0.          0.0305236\n",
      "  0.04682405  0.01973879  0.02211349  0.          0.0581788   0.02443281\n",
      "  0.02859943  0.          0.00886214  0.01474188  0.01918981  0.00726838\n",
      "  0.0068746   0.05906191  0.02038535  0.          0.          0.02115748\n",
      "  0.03242204  0.02316447  0.03906209  0.          0.02076605  0.02582237\n",
      "  0.03933084  0.0272472   0.00053333  0.          0.01818356  0.0163917\n",
      "  0.00995372  0.07053026  0.          0.00849474]\n"
     ]
    }
   ],
   "source": [
    "# Feature Importance\n",
    "from sklearn import metrics\n",
    "from sklearn.ensemble import ExtraTreesClassifier\n",
    "# fit an Extra Trees model to the data\n",
    "model = ExtraTreesClassifier()\n",
    "model.fit(df[features], df[target])\n",
    "# display the relative importance of each attribute\n",
    "print(model.feature_importances_)"
   ]
  },
  {
   "cell_type": "code",
   "execution_count": 83,
   "metadata": {
    "collapsed": false
   },
   "outputs": [
    {
     "data": {
      "text/plain": [
       "1.0"
      ]
     },
     "execution_count": 83,
     "metadata": {},
     "output_type": "execute_result"
    }
   ],
   "source": [
    "model.score(df[features], df[target])"
   ]
  },
  {
   "cell_type": "code",
   "execution_count": 113,
   "metadata": {
    "collapsed": false
   },
   "outputs": [],
   "source": [
    "from sklearn.cross_validation import train_test_split\n",
    "X_train, X_test, y_train, y_test = train_test_split(df[features], df[target], test_size=0.08, random_state=0)"
   ]
  },
  {
   "cell_type": "code",
   "execution_count": 114,
   "metadata": {
    "collapsed": false
   },
   "outputs": [
    {
     "data": {
      "text/plain": [
       "ExtraTreesClassifier(bootstrap=False, class_weight=None, criterion='gini',\n",
       "           max_depth=None, max_features='auto', max_leaf_nodes=None,\n",
       "           min_samples_leaf=1, min_samples_split=2,\n",
       "           min_weight_fraction_leaf=0.0, n_estimators=10, n_jobs=1,\n",
       "           oob_score=False, random_state=None, verbose=0, warm_start=False)"
      ]
     },
     "execution_count": 114,
     "metadata": {},
     "output_type": "execute_result"
    }
   ],
   "source": [
    "model2 = ExtraTreesClassifier()\n",
    "model2.fit(X_train, y_train)"
   ]
  },
  {
   "cell_type": "code",
   "execution_count": 115,
   "metadata": {
    "collapsed": false
   },
   "outputs": [
    {
     "data": {
      "text/plain": [
       "0.83333333333333337"
      ]
     },
     "execution_count": 115,
     "metadata": {},
     "output_type": "execute_result"
    }
   ],
   "source": [
    "model2.score(X_test,y_test)"
   ]
  },
  {
   "cell_type": "code",
   "execution_count": 116,
   "metadata": {
    "collapsed": false
   },
   "outputs": [
    {
     "data": {
      "text/plain": [
       "52    vandalism\n",
       "57    vandalism\n",
       "22         spam\n",
       "74    vandalism\n",
       "28       attack\n",
       "26       attack\n",
       "Name: draft_quality, dtype: object"
      ]
     },
     "execution_count": 116,
     "metadata": {},
     "output_type": "execute_result"
    }
   ],
   "source": [
    "y_test"
   ]
  },
  {
   "cell_type": "code",
   "execution_count": 54,
   "metadata": {
    "collapsed": false
   },
   "outputs": [
    {
     "data": {
      "text/html": [
       "<div>\n",
       "<table border=\"1\" class=\"dataframe\">\n",
       "  <thead>\n",
       "    <tr style=\"text-align: right;\">\n",
       "      <th></th>\n",
       "      <th>rev_id</th>\n",
       "      <th>creation_timestamp</th>\n",
       "      <th>archived</th>\n",
       "      <th>external_links</th>\n",
       "      <th>chars</th>\n",
       "      <th>whitespace_chars</th>\n",
       "      <th>markup_chars</th>\n",
       "      <th>cjk_chars</th>\n",
       "      <th>entity_chars</th>\n",
       "      <th>url_chars</th>\n",
       "      <th>...</th>\n",
       "      <th>punctuations</th>\n",
       "      <th>breaks</th>\n",
       "      <th>longest_token</th>\n",
       "      <th>longest_word</th>\n",
       "      <th>content_chars</th>\n",
       "      <th>headings</th>\n",
       "      <th>wikilinks</th>\n",
       "      <th>tags</th>\n",
       "      <th>ref_tags</th>\n",
       "      <th>templates</th>\n",
       "    </tr>\n",
       "  </thead>\n",
       "  <tbody>\n",
       "    <tr>\n",
       "      <th>count</th>\n",
       "      <td>7.500000e+01</td>\n",
       "      <td>7.500000e+01</td>\n",
       "      <td>75.0</td>\n",
       "      <td>75.000000</td>\n",
       "      <td>75.000000</td>\n",
       "      <td>75.000000</td>\n",
       "      <td>75.000000</td>\n",
       "      <td>75.000000</td>\n",
       "      <td>75.0</td>\n",
       "      <td>75.000000</td>\n",
       "      <td>...</td>\n",
       "      <td>75.000000</td>\n",
       "      <td>75.0</td>\n",
       "      <td>75.000000</td>\n",
       "      <td>75.000000</td>\n",
       "      <td>75.00000</td>\n",
       "      <td>75.0</td>\n",
       "      <td>75.000000</td>\n",
       "      <td>75.000000</td>\n",
       "      <td>75.000000</td>\n",
       "      <td>75.000000</td>\n",
       "    </tr>\n",
       "    <tr>\n",
       "      <th>mean</th>\n",
       "      <td>7.055759e+08</td>\n",
       "      <td>2.015705e+13</td>\n",
       "      <td>1.0</td>\n",
       "      <td>2.360000</td>\n",
       "      <td>2311.813333</td>\n",
       "      <td>331.066667</td>\n",
       "      <td>49.960000</td>\n",
       "      <td>3.533333</td>\n",
       "      <td>0.0</td>\n",
       "      <td>167.786667</td>\n",
       "      <td>...</td>\n",
       "      <td>37.760000</td>\n",
       "      <td>0.0</td>\n",
       "      <td>37.293333</td>\n",
       "      <td>12.613333</td>\n",
       "      <td>1943.48000</td>\n",
       "      <td>0.0</td>\n",
       "      <td>7.973333</td>\n",
       "      <td>2.880000</td>\n",
       "      <td>1.400000</td>\n",
       "      <td>1.360000</td>\n",
       "    </tr>\n",
       "    <tr>\n",
       "      <th>std</th>\n",
       "      <td>1.687496e+07</td>\n",
       "      <td>4.548500e+09</td>\n",
       "      <td>0.0</td>\n",
       "      <td>10.995871</td>\n",
       "      <td>5458.414872</td>\n",
       "      <td>812.644953</td>\n",
       "      <td>225.294908</td>\n",
       "      <td>30.599564</td>\n",
       "      <td>0.0</td>\n",
       "      <td>768.499737</td>\n",
       "      <td>...</td>\n",
       "      <td>102.076659</td>\n",
       "      <td>0.0</td>\n",
       "      <td>61.015455</td>\n",
       "      <td>5.117256</td>\n",
       "      <td>4776.54306</td>\n",
       "      <td>0.0</td>\n",
       "      <td>48.086626</td>\n",
       "      <td>9.422457</td>\n",
       "      <td>7.139536</td>\n",
       "      <td>7.201051</td>\n",
       "    </tr>\n",
       "    <tr>\n",
       "      <th>min</th>\n",
       "      <td>6.770522e+08</td>\n",
       "      <td>2.015082e+13</td>\n",
       "      <td>1.0</td>\n",
       "      <td>0.000000</td>\n",
       "      <td>1.000000</td>\n",
       "      <td>0.000000</td>\n",
       "      <td>0.000000</td>\n",
       "      <td>0.000000</td>\n",
       "      <td>0.0</td>\n",
       "      <td>0.000000</td>\n",
       "      <td>...</td>\n",
       "      <td>0.000000</td>\n",
       "      <td>0.0</td>\n",
       "      <td>1.000000</td>\n",
       "      <td>1.000000</td>\n",
       "      <td>0.00000</td>\n",
       "      <td>0.0</td>\n",
       "      <td>0.000000</td>\n",
       "      <td>0.000000</td>\n",
       "      <td>0.000000</td>\n",
       "      <td>0.000000</td>\n",
       "    </tr>\n",
       "    <tr>\n",
       "      <th>25%</th>\n",
       "      <td>6.905391e+08</td>\n",
       "      <td>2.015111e+13</td>\n",
       "      <td>1.0</td>\n",
       "      <td>0.000000</td>\n",
       "      <td>168.000000</td>\n",
       "      <td>29.500000</td>\n",
       "      <td>0.000000</td>\n",
       "      <td>0.000000</td>\n",
       "      <td>0.0</td>\n",
       "      <td>0.000000</td>\n",
       "      <td>...</td>\n",
       "      <td>2.000000</td>\n",
       "      <td>0.0</td>\n",
       "      <td>10.000000</td>\n",
       "      <td>10.000000</td>\n",
       "      <td>152.00000</td>\n",
       "      <td>0.0</td>\n",
       "      <td>0.000000</td>\n",
       "      <td>0.000000</td>\n",
       "      <td>0.000000</td>\n",
       "      <td>0.000000</td>\n",
       "    </tr>\n",
       "    <tr>\n",
       "      <th>50%</th>\n",
       "      <td>7.073848e+08</td>\n",
       "      <td>2.016023e+13</td>\n",
       "      <td>1.0</td>\n",
       "      <td>0.000000</td>\n",
       "      <td>631.000000</td>\n",
       "      <td>93.000000</td>\n",
       "      <td>0.000000</td>\n",
       "      <td>0.000000</td>\n",
       "      <td>0.0</td>\n",
       "      <td>0.000000</td>\n",
       "      <td>...</td>\n",
       "      <td>8.000000</td>\n",
       "      <td>0.0</td>\n",
       "      <td>13.000000</td>\n",
       "      <td>12.000000</td>\n",
       "      <td>526.00000</td>\n",
       "      <td>0.0</td>\n",
       "      <td>0.000000</td>\n",
       "      <td>0.000000</td>\n",
       "      <td>0.000000</td>\n",
       "      <td>0.000000</td>\n",
       "    </tr>\n",
       "    <tr>\n",
       "      <th>75%</th>\n",
       "      <td>7.215654e+08</td>\n",
       "      <td>2.016052e+13</td>\n",
       "      <td>1.0</td>\n",
       "      <td>1.000000</td>\n",
       "      <td>1715.000000</td>\n",
       "      <td>253.000000</td>\n",
       "      <td>12.000000</td>\n",
       "      <td>0.000000</td>\n",
       "      <td>0.0</td>\n",
       "      <td>43.000000</td>\n",
       "      <td>...</td>\n",
       "      <td>21.500000</td>\n",
       "      <td>0.0</td>\n",
       "      <td>42.000000</td>\n",
       "      <td>14.000000</td>\n",
       "      <td>1432.50000</td>\n",
       "      <td>0.0</td>\n",
       "      <td>0.000000</td>\n",
       "      <td>1.000000</td>\n",
       "      <td>0.000000</td>\n",
       "      <td>0.000000</td>\n",
       "    </tr>\n",
       "    <tr>\n",
       "      <th>max</th>\n",
       "      <td>7.318231e+08</td>\n",
       "      <td>2.016073e+13</td>\n",
       "      <td>1.0</td>\n",
       "      <td>93.000000</td>\n",
       "      <td>36704.000000</td>\n",
       "      <td>6167.000000</td>\n",
       "      <td>1619.000000</td>\n",
       "      <td>265.000000</td>\n",
       "      <td>0.0</td>\n",
       "      <td>6461.000000</td>\n",
       "      <td>...</td>\n",
       "      <td>732.000000</td>\n",
       "      <td>0.0</td>\n",
       "      <td>404.000000</td>\n",
       "      <td>33.000000</td>\n",
       "      <td>36704.00000</td>\n",
       "      <td>0.0</td>\n",
       "      <td>404.000000</td>\n",
       "      <td>64.000000</td>\n",
       "      <td>59.000000</td>\n",
       "      <td>60.000000</td>\n",
       "    </tr>\n",
       "  </tbody>\n",
       "</table>\n",
       "<p>8 rows × 34 columns</p>\n",
       "</div>"
      ],
      "text/plain": [
       "             rev_id  creation_timestamp  archived  external_links  \\\n",
       "count  7.500000e+01        7.500000e+01      75.0       75.000000   \n",
       "mean   7.055759e+08        2.015705e+13       1.0        2.360000   \n",
       "std    1.687496e+07        4.548500e+09       0.0       10.995871   \n",
       "min    6.770522e+08        2.015082e+13       1.0        0.000000   \n",
       "25%    6.905391e+08        2.015111e+13       1.0        0.000000   \n",
       "50%    7.073848e+08        2.016023e+13       1.0        0.000000   \n",
       "75%    7.215654e+08        2.016052e+13       1.0        1.000000   \n",
       "max    7.318231e+08        2.016073e+13       1.0       93.000000   \n",
       "\n",
       "              chars  whitespace_chars  markup_chars   cjk_chars  entity_chars  \\\n",
       "count     75.000000         75.000000     75.000000   75.000000          75.0   \n",
       "mean    2311.813333        331.066667     49.960000    3.533333           0.0   \n",
       "std     5458.414872        812.644953    225.294908   30.599564           0.0   \n",
       "min        1.000000          0.000000      0.000000    0.000000           0.0   \n",
       "25%      168.000000         29.500000      0.000000    0.000000           0.0   \n",
       "50%      631.000000         93.000000      0.000000    0.000000           0.0   \n",
       "75%     1715.000000        253.000000     12.000000    0.000000           0.0   \n",
       "max    36704.000000       6167.000000   1619.000000  265.000000           0.0   \n",
       "\n",
       "         url_chars    ...      punctuations  breaks  longest_token  \\\n",
       "count    75.000000    ...         75.000000    75.0      75.000000   \n",
       "mean    167.786667    ...         37.760000     0.0      37.293333   \n",
       "std     768.499737    ...        102.076659     0.0      61.015455   \n",
       "min       0.000000    ...          0.000000     0.0       1.000000   \n",
       "25%       0.000000    ...          2.000000     0.0      10.000000   \n",
       "50%       0.000000    ...          8.000000     0.0      13.000000   \n",
       "75%      43.000000    ...         21.500000     0.0      42.000000   \n",
       "max    6461.000000    ...        732.000000     0.0     404.000000   \n",
       "\n",
       "       longest_word  content_chars  headings   wikilinks       tags  \\\n",
       "count     75.000000       75.00000      75.0   75.000000  75.000000   \n",
       "mean      12.613333     1943.48000       0.0    7.973333   2.880000   \n",
       "std        5.117256     4776.54306       0.0   48.086626   9.422457   \n",
       "min        1.000000        0.00000       0.0    0.000000   0.000000   \n",
       "25%       10.000000      152.00000       0.0    0.000000   0.000000   \n",
       "50%       12.000000      526.00000       0.0    0.000000   0.000000   \n",
       "75%       14.000000     1432.50000       0.0    0.000000   1.000000   \n",
       "max       33.000000    36704.00000       0.0  404.000000  64.000000   \n",
       "\n",
       "        ref_tags  templates  \n",
       "count  75.000000  75.000000  \n",
       "mean    1.400000   1.360000  \n",
       "std     7.139536   7.201051  \n",
       "min     0.000000   0.000000  \n",
       "25%     0.000000   0.000000  \n",
       "50%     0.000000   0.000000  \n",
       "75%     0.000000   0.000000  \n",
       "max    59.000000  60.000000  \n",
       "\n",
       "[8 rows x 34 columns]"
      ]
     },
     "execution_count": 54,
     "metadata": {},
     "output_type": "execute_result"
    }
   ],
   "source": [
    "df.describe()"
   ]
  },
  {
   "cell_type": "code",
   "execution_count": 63,
   "metadata": {
    "collapsed": false
   },
   "outputs": [
    {
     "data": {
      "text/plain": [
       "array([[<matplotlib.axes._subplots.AxesSubplot object at 0x7f06fbc6b4a8>,\n",
       "        <matplotlib.axes._subplots.AxesSubplot object at 0x7f06f9568828>],\n",
       "       [<matplotlib.axes._subplots.AxesSubplot object at 0x7f06f951cf60>,\n",
       "        <matplotlib.axes._subplots.AxesSubplot object at 0x7f06f94db320>]], dtype=object)"
      ]
     },
     "execution_count": 63,
     "metadata": {},
     "output_type": "execute_result"
    },
    {
     "data": {
      "image/png": "[encoded data removed]",
      "text/plain": [
       "<matplotlib.figure.Figure at 0x7f06f8f5a630>"
      ]
     },
     "metadata": {},
     "output_type": "display_data"
    }
   ],
   "source": [
    "df.boxplot(by='draft_quality', column=['external_links', 'ref_tags', 'whitespaces_norm', 'longest_repeated_char_norm'], figsize=(15,15))"
   ]
  },
  {
   "cell_type": "code",
   "execution_count": 64,
   "metadata": {
    "collapsed": false
   },
   "outputs": [
    {
     "name": "stdout",
     "output_type": "stream",
     "text": [
      "Feature ranking:\n",
      "1. feature 49 (0.049087)\n",
      "2. feature 31 (0.045342)\n",
      "3. feature 42 (0.043308)\n",
      "4. feature 38 (0.034415)\n",
      "5. feature 12 (0.033604)\n",
      "6. feature 41 (0.033449)\n",
      "7. feature 22 (0.032388)\n",
      "8. feature 8 (0.031477)\n",
      "9. feature 35 (0.031151)\n",
      "10. feature 24 (0.030493)\n",
      "11. feature 20 (0.030303)\n",
      "12. feature 46 (0.029376)\n",
      "13. feature 7 (0.028693)\n",
      "14. feature 36 (0.027524)\n",
      "15. feature 40 (0.027380)\n",
      "16. feature 19 (0.027296)\n",
      "17. feature 23 (0.026684)\n",
      "18. feature 0 (0.026623)\n",
      "19. feature 11 (0.025916)\n",
      "20. feature 13 (0.025820)\n",
      "21. feature 47 (0.025798)\n",
      "22. feature 6 (0.025226)\n",
      "23. feature 51 (0.024981)\n",
      "24. feature 48 (0.023292)\n",
      "25. feature 18 (0.023255)\n",
      "26. feature 10 (0.023160)\n",
      "27. feature 37 (0.022239)\n",
      "28. feature 1 (0.021534)\n",
      "29. feature 17 (0.021274)\n",
      "30. feature 32 (0.020912)\n",
      "31. feature 28 (0.019264)\n",
      "32. feature 5 (0.018531)\n",
      "33. feature 26 (0.018344)\n",
      "34. feature 43 (0.016746)\n",
      "35. feature 14 (0.013977)\n",
      "36. feature 2 (0.012523)\n",
      "37. feature 29 (0.010117)\n",
      "38. feature 27 (0.007638)\n",
      "39. feature 30 (0.006901)\n",
      "40. feature 15 (0.001569)\n",
      "41. feature 33 (0.001072)\n",
      "42. feature 3 (0.000682)\n",
      "43. feature 44 (0.000638)\n",
      "44. feature 50 (0.000000)\n",
      "45. feature 4 (0.000000)\n",
      "46. feature 16 (0.000000)\n",
      "47. feature 45 (0.000000)\n",
      "48. feature 9 (0.000000)\n",
      "49. feature 21 (0.000000)\n",
      "50. feature 39 (0.000000)\n",
      "51. feature 34 (0.000000)\n",
      "52. feature 25 (0.000000)\n"
     ]
    },
    {
     "data": {
      "image/png": "[encoded data removed]",
      "text/plain": [
       "<matplotlib.figure.Figure at 0x7f06f9337dd8>"
      ]
     },
     "metadata": {},
     "output_type": "display_data"
    }
   ],
   "source": [
    "\n",
    "X = df[features]\n",
    "y = df[target]\n",
    "# Build a forest and compute the feature importances\n",
    "forest = ExtraTreesClassifier(n_estimators=250,\n",
    "                              random_state=0)\n",
    "\n",
    "forest.fit(X, y)\n",
    "importances = forest.feature_importances_\n",
    "std = np.std([tree.feature_importances_ for tree in forest.estimators_],\n",
    "             axis=0)\n",
    "indices = np.argsort(importances)[::-1]\n",
    "\n",
    "# Print the feature ranking\n",
    "print(\"Feature ranking:\")\n",
    "\n",
    "for f in range(X.shape[1]):\n",
    "    print(\"%d. feature %d (%f)\" % (f + 1, indices[f], importances[indices[f]]))\n",
    "\n",
    "# Plot the feature importances of the forest\n",
    "plt.figure()\n",
    "plt.title(\"Feature importances\")\n",
    "plt.bar(range(X.shape[1]), importances[indices],\n",
    "       color=\"r\", yerr=std[indices], align=\"center\")\n",
    "plt.xticks(range(X.shape[1]), indices)\n",
    "plt.xlim([-1, X.shape[1]])\n",
    "plt.show()"
   ]
  },
  {
   "cell_type": "code",
   "execution_count": 69,
   "metadata": {
    "collapsed": false
   },
   "outputs": [
    {
     "data": {
      "text/plain": [
       "1.0"
      ]
     },
     "execution_count": 69,
     "metadata": {},
     "output_type": "execute_result"
    }
   ],
   "source": [
    "forest.score(X,y)"
   ]
  },
  {
   "cell_type": "code",
   "execution_count": null,
   "metadata": {
    "collapsed": true
   },
   "outputs": [],
   "source": [
    "# On termine avec un modèle parfait.. Paye ton overfit à mon avis"
   ]
  }
 ],
 "metadata": {
  "kernelspec": {
   "display_name": "Python 3",
   "language": "python",
   "name": "python3"
  },
  "language_info": {
   "codemirror_mode": {
    "name": "ipython",
    "version": 3
   },
   "file_extension": ".py",
   "mimetype": "text/x-python",
   "name": "python",
   "nbconvert_exporter": "python",
   "pygments_lexer": "ipython3",
   "version": "3.4.3"
  }
 },
 "nbformat": 4,
 "nbformat_minor": 0
}
