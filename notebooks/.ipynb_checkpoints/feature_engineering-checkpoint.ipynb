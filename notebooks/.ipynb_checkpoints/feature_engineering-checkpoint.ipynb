{
 "cells": [
  {
   "cell_type": "markdown",
   "metadata": {},
   "source": [
    "# Feature engineering\n",
    "This notebook will teach you how to extract feature values using `revscoring`'s built-in feature library as well as to build your own features.  "
   ]
  },
  {
   "cell_type": "markdown",
   "metadata": {},
   "source": [
    "## Set up the feature extractor\n",
    "This line constructs a \"feature extractor\" that uses Wikipedia's API.  We'll need to use it later, so we'll construct it first.  "
   ]
  },
  {
   "cell_type": "code",
   "execution_count": 29,
   "metadata": {
    "collapsed": true
   },
   "outputs": [],
   "source": [
    "import sys\n",
    "sys.path.append(\"/usr/local/lib/python3.4/dist-packages/\")\n",
    "sys.path.append(\"/usr/local/lib/python3.4/dist-packages/revscoring/\")\n",
    "sys.path.append(\"/usr/local/lib/python3.4/dist-packages/more_itertools/\")\n",
    "sys.path.append(\"/usr/local/lib/python3.4/dist-packages/deltas/\")"
   ]
  },
  {
   "cell_type": "code",
   "execution_count": 30,
   "metadata": {
    "collapsed": false
   },
   "outputs": [
    {
     "name": "stdout",
     "output_type": "stream",
     "text": [
      "Requirement already satisfied (use --upgrade to upgrade): dependencies in /usr/local/lib/python3.4/dist-packages\r\n",
      "Requirement already satisfied (use --upgrade to upgrade): deltas in /usr/local/lib/python3.4/dist-packages\r\n",
      "Cleaning up...\r\n"
     ]
    }
   ],
   "source": [
    "!sudo pip3 install dependencies deltas"
   ]
  },
  {
   "cell_type": "code",
   "execution_count": 33,
   "metadata": {
    "collapsed": false
   },
   "outputs": [
    {
     "ename": "ImportError",
     "evalue": "cannot import name 'dependencies'",
     "output_type": "error",
     "traceback": [
      "\u001b[1;31m---------------------------------------------------------------------------\u001b[0m",
      "\u001b[1;31mImportError\u001b[0m                               Traceback (most recent call last)",
      "\u001b[1;32m<ipython-input-33-6e18ecb37322>\u001b[0m in \u001b[0;36m<module>\u001b[1;34m()\u001b[0m\n\u001b[1;32m----> 1\u001b[1;33m \u001b[1;32mfrom\u001b[0m \u001b[0mrevscoring\u001b[0m\u001b[1;33m.\u001b[0m\u001b[0mextractors\u001b[0m \u001b[1;32mimport\u001b[0m \u001b[0mapi\u001b[0m\u001b[1;33m\u001b[0m\u001b[0m\n\u001b[0m\u001b[0;32m      2\u001b[0m \u001b[1;32mimport\u001b[0m \u001b[0mmwapi\u001b[0m\u001b[1;33m\u001b[0m\u001b[0m\n\u001b[0;32m      3\u001b[0m \u001b[1;33m\u001b[0m\u001b[0m\n\u001b[0;32m      4\u001b[0m extractor = api.Extractor(mwapi.Session(\"https://en.wikipedia.org\",\n\u001b[0;32m      5\u001b[0m                                         user_agent=\"Revscoring feature demo ahalfaker@wikimedia.org\"))\n",
      "\u001b[1;32m/usr/local/lib/python3.4/dist-packages/revscoring/extractors/api/__init__.py\u001b[0m in \u001b[0;36m<module>\u001b[1;34m()\u001b[0m\n\u001b[1;32m----> 1\u001b[1;33m \u001b[1;32mfrom\u001b[0m \u001b[1;33m.\u001b[0m\u001b[0mextractor\u001b[0m \u001b[1;32mimport\u001b[0m \u001b[0mExtractor\u001b[0m\u001b[1;33m\u001b[0m\u001b[0m\n\u001b[0m\u001b[0;32m      2\u001b[0m \u001b[1;33m\u001b[0m\u001b[0m\n\u001b[0;32m      3\u001b[0m \u001b[0m__all__\u001b[0m \u001b[1;33m=\u001b[0m \u001b[1;33m[\u001b[0m\u001b[0mExtractor\u001b[0m\u001b[1;33m]\u001b[0m\u001b[1;33m\u001b[0m\u001b[0m\n",
      "\u001b[1;32m/usr/local/lib/python3.4/dist-packages/revscoring/extractors/api/extractor.py\u001b[0m in \u001b[0;36m<module>\u001b[1;34m()\u001b[0m\n\u001b[0;32m      4\u001b[0m \u001b[1;32mimport\u001b[0m \u001b[0mmwapi\u001b[0m\u001b[1;33m\u001b[0m\u001b[0m\n\u001b[0;32m      5\u001b[0m \u001b[1;33m\u001b[0m\u001b[0m\n\u001b[1;32m----> 6\u001b[1;33m \u001b[1;32mfrom\u001b[0m \u001b[1;33m.\u001b[0m \u001b[1;32mimport\u001b[0m \u001b[0mdatasources\u001b[0m\u001b[1;33m\u001b[0m\u001b[0m\n\u001b[0m\u001b[0;32m      7\u001b[0m \u001b[1;32mfrom\u001b[0m \u001b[1;33m.\u001b[0m\u001b[1;33m.\u001b[0m \u001b[1;32mimport\u001b[0m \u001b[0mExtractor\u001b[0m \u001b[1;32mas\u001b[0m \u001b[0mBaseExtractor\u001b[0m\u001b[1;33m\u001b[0m\u001b[0m\n\u001b[0;32m      8\u001b[0m \u001b[1;32mfrom\u001b[0m \u001b[1;33m...\u001b[0m\u001b[0mdatasources\u001b[0m \u001b[1;32mimport\u001b[0m \u001b[0mDatasource\u001b[0m\u001b[1;33m,\u001b[0m \u001b[0mrevision_oriented\u001b[0m\u001b[1;33m\u001b[0m\u001b[0m\n",
      "\u001b[1;32m/usr/local/lib/python3.4/dist-packages/revscoring/__init__.py\u001b[0m in \u001b[0;36m<module>\u001b[1;34m()\u001b[0m\n\u001b[0;32m    116\u001b[0m \u001b[1;32mfrom\u001b[0m \u001b[1;33m.\u001b[0m\u001b[0mfeatures\u001b[0m \u001b[1;32mimport\u001b[0m \u001b[0mFeature\u001b[0m\u001b[1;33m\u001b[0m\u001b[0m\n\u001b[0;32m    117\u001b[0m \u001b[1;32mfrom\u001b[0m \u001b[1;33m.\u001b[0m\u001b[0mscorer_models\u001b[0m \u001b[1;32mimport\u001b[0m \u001b[0mScorerModel\u001b[0m\u001b[1;33m\u001b[0m\u001b[0m\n\u001b[1;32m--> 118\u001b[1;33m \u001b[1;32mfrom\u001b[0m \u001b[1;33m.\u001b[0m\u001b[0mscore_processor\u001b[0m \u001b[1;32mimport\u001b[0m \u001b[0mScoreProcessor\u001b[0m\u001b[1;33m\u001b[0m\u001b[0m\n\u001b[0m\u001b[0;32m    119\u001b[0m \u001b[1;33m\u001b[0m\u001b[0m\n\u001b[0;32m    120\u001b[0m \u001b[0m__version__\u001b[0m \u001b[1;33m=\u001b[0m \u001b[1;34m\"1.2.9\"\u001b[0m  \u001b[1;31m# Change in setup.py\u001b[0m\u001b[1;33m\u001b[0m\u001b[0m\n",
      "\u001b[1;32m/usr/local/lib/python3.4/dist-packages/revscoring/score_processor.py\u001b[0m in \u001b[0;36m<module>\u001b[1;34m()\u001b[0m\n\u001b[0;32m      5\u001b[0m \u001b[1;32mfrom\u001b[0m \u001b[0mmore_itertools\u001b[0m \u001b[1;32mimport\u001b[0m \u001b[0mchunked\u001b[0m\u001b[1;33m\u001b[0m\u001b[0m\n\u001b[0;32m      6\u001b[0m \u001b[1;33m\u001b[0m\u001b[0m\n\u001b[1;32m----> 7\u001b[1;33m \u001b[1;32mfrom\u001b[0m \u001b[1;33m.\u001b[0m \u001b[1;32mimport\u001b[0m \u001b[0mdependencies\u001b[0m\u001b[1;33m\u001b[0m\u001b[0m\n\u001b[0m\u001b[0;32m      8\u001b[0m \u001b[1;32mfrom\u001b[0m \u001b[1;33m.\u001b[0m\u001b[0mdatasources\u001b[0m \u001b[1;32mimport\u001b[0m \u001b[0mDatasource\u001b[0m\u001b[1;33m\u001b[0m\u001b[0m\n\u001b[0;32m      9\u001b[0m \u001b[1;33m\u001b[0m\u001b[0m\n",
      "\u001b[1;31mImportError\u001b[0m: cannot import name 'dependencies'"
     ]
    }
   ],
   "source": [
    "from revscoring.extractors import api\n",
    "import mwapi\n",
    "\n",
    "extractor = api.Extractor(mwapi.Session(\"https://en.wikipedia.org\",\n",
    "                                        user_agent=\"Revscoring feature demo ahalfaker@wikimedia.org\"))"
   ]
  },
  {
   "cell_type": "markdown",
   "metadata": {},
   "source": [
    "## Extract features\n",
    "The following line demonstrates a simple feature extraction.  We'll extract two features: `wikitext.revision.chars`, the number of characters added; and `wikitext.revision.diff.chars_added`, the number of characters in the entire revision.  Note that we wrap the call in a list() because it returns a generator.  "
   ]
  },
  {
   "cell_type": "raw",
   "metadata": {
    "collapsed": false
   },
   "source": [
    "from revscoring.features import wikitext\n",
    "list(extractor.extract(123456789, [wikitext.revision.chars, \n",
    "                                   wikitext.revision.diff.chars_added]))"
   ]
  },
  {
   "cell_type": "markdown",
   "metadata": {},
   "source": [
    "## Defining a custom feature\n",
    "The next block defines a new feature and sets the dependencies to be the two features we just extracted.  This feature represents the proportion of characters in the current version of the page that the current edit is responsible for adding."
   ]
  },
  {
   "cell_type": "code",
   "execution_count": 3,
   "metadata": {
    "collapsed": false
   },
   "outputs": [
    {
     "data": {
      "text/plain": [
       "[0.0002550369803621525]"
      ]
     },
     "execution_count": 3,
     "metadata": {},
     "output_type": "execute_result"
    }
   ],
   "source": [
    "from revscoring import Feature\n",
    "\n",
    "chars_added_ratio_explicit = Feature(\n",
    "    \"chars_added_ratio_explicit\", \n",
    "    lambda a,c: a/max(c, 1), # Prevents divide by zero\n",
    "    depends_on=[wikitext.revision.diff.chars_added, \n",
    "                wikitext.revision.chars],\n",
    "    returns=float)\n",
    "\n",
    "list(extractor.extract(123456789, [chars_added_ratio_explicit]))"
   ]
  },
  {
   "cell_type": "markdown",
   "metadata": {},
   "source": [
    "There's easier ways that we can do this though.  `revscoring.Feature` overloads simple mathematical operators to allow you to do math with features and get a feature returned.  `revscoring.features.modifiers` contains a set of basic functions that do the same.  This code roughly corresponds to what's going on above. "
   ]
  },
  {
   "cell_type": "code",
   "execution_count": 4,
   "metadata": {
    "collapsed": false
   },
   "outputs": [
    {
     "data": {
      "text/plain": [
       "[0.0002550369803621525]"
      ]
     },
     "execution_count": 4,
     "metadata": {},
     "output_type": "execute_result"
    }
   ],
   "source": [
    "from revscoring.features import modifiers\n",
    "\n",
    "chars_added_ratio_implicit = (wikitext.revision.diff.chars_added /\n",
    "                              modifiers.max(wikitext.revision.chars, 1))\n",
    "\n",
    "list(extractor.extract(123456789, [chars_added_ratio_implicit]))"
   ]
  },
  {
   "cell_type": "markdown",
   "metadata": {},
   "source": [
    "While the *implicit* pattern is quicker and easier than the *explicit* pattern, it's name can not be customized."
   ]
  },
  {
   "cell_type": "code",
   "execution_count": 5,
   "metadata": {
    "collapsed": false
   },
   "outputs": [
    {
     "data": {
      "text/plain": [
       "(<chars_added_ratio_explicit>,\n",
       " <(wikitext.revision.diff.chars_added / max(wikitext.revision.chars, 1))>)"
      ]
     },
     "execution_count": 5,
     "metadata": {},
     "output_type": "execute_result"
    }
   ],
   "source": [
    "chars_added_ratio_explicit, chars_added_ratio_implicit"
   ]
  },
  {
   "cell_type": "markdown",
   "metadata": {},
   "source": [
    "## Extracting datasources\n",
    "There's a also a set of `revscoring.Datasource`'s that are part of the dependency injection system.  These \"datasources\" represent the data needed for feature generation.  We can extract them just like `revscoring.Feature`'s. "
   ]
  },
  {
   "cell_type": "code",
   "execution_count": 6,
   "metadata": {
    "collapsed": false
   },
   "outputs": [
    {
     "data": {
      "text/plain": [
       "[['Ideology and policies',\n",
       "  'Political scientists [[Robert Ford]] and [[Matthew Goodwin]] characterised UKIP as \"a radical right party\".{{sfn|Ford|Goodwin|2014|p=13}}\\n\\n',\n",
       "  '{{fact}}',\n",
       "  '{{fact}}',\n",
       "  '{{fact}}',\n",
       "  '{{fact}}',\n",
       "  '{{fact}}',\n",
       "  '{{fact}}',\n",
       "  '{{fact}}',\n",
       "  '{{fact}}',\n",
       "  '{{fact}}',\n",
       "  '{{fact}}'],\n",
       " ['Policies']]"
      ]
     },
     "execution_count": 6,
     "metadata": {},
     "output_type": "execute_result"
    }
   ],
   "source": [
    "list(extractor.extract(662953550, [wikitext.revision.diff.datasources.segments_added,\n",
    "                                   wikitext.revision.diff.datasources.segments_removed]))"
   ]
  },
  {
   "cell_type": "markdown",
   "metadata": {},
   "source": [
    "OK.  Let's define a new feature for counting the number of templates added.  I'll make use of mwparserfromhell to do this.  See [the docs](http://mwparserfromhell.readthedocs.org/en/latest/)."
   ]
  },
  {
   "cell_type": "code",
   "execution_count": 7,
   "metadata": {
    "collapsed": false
   },
   "outputs": [
    {
     "data": {
      "text/plain": [
       "[11]"
      ]
     },
     "execution_count": 7,
     "metadata": {},
     "output_type": "execute_result"
    }
   ],
   "source": [
    "import mwparserfromhell as mwp\n",
    "\n",
    "templates_added = Feature(\"templates_added\", \n",
    "                          lambda add_segments: sum(len(mwp.parse(s).filter_templates()) > 0 for s in add_segments),\n",
    "                          depends_on=[wikitext.revision.diff.datasources.segments_added],\n",
    "                          returns=int)\n",
    "list(extractor.extract(662953550, [templates_added]))"
   ]
  },
  {
   "cell_type": "markdown",
   "metadata": {},
   "source": [
    "## Debugging\n",
    "There's some facilities in place to help you make sense of issues when they arise.  The most important is the draw function."
   ]
  },
  {
   "cell_type": "code",
   "execution_count": 8,
   "metadata": {
    "collapsed": false
   },
   "outputs": [
    {
     "name": "stdout",
     "output_type": "stream",
     "text": [
      " - <templates_added>\n",
      "\t - <wikitext.revision.diff.segments_added>\n",
      "\t\t - <wikitext.revision.diff.operations>\n",
      "\t\t\t - <tokenized(<revision.parent.text>)>\n",
      "\t\t\t\t - <revision.parent.text>\n",
      "\t\t\t - <tokenized(<revision.text>)>\n",
      "\t\t\t\t - <revision.text>\n",
      "\n"
     ]
    }
   ],
   "source": [
    "from revscoring.dependencies import draw\n",
    "print(draw(templates_added))"
   ]
  },
  {
   "cell_type": "markdown",
   "metadata": {},
   "source": [
    "In the tree structure above, you can see how our new feature depends on `wikitext.revision.diff.segments_added` which depends on `wikitext.revision.diff.operations` which depends (as you might imagine) on the current and parent revision.  Some features can get quite complicated."
   ]
  },
  {
   "cell_type": "code",
   "execution_count": 9,
   "metadata": {
    "collapsed": false
   },
   "outputs": [
    {
     "name": "stdout",
     "output_type": "stream",
     "text": [
      " - <wikitext.revision.diff.number_prop_delta_sum>\n",
      "\t - <values(<wikitext.revision.diff.number_prop_delta>)>\n",
      "\t\t - <wikitext.revision.diff.number_prop_delta>\n",
      "\t\t\t - <wikitext.revision.parent.number_frequency>\n",
      "\t\t\t\t - <wikitext.revision.parent.numbers>\n",
      "\t\t\t\t\t - <tokenized(<revision.parent.text>)>\n",
      "\t\t\t\t\t\t - <revision.parent.text>\n",
      "\t\t\t - <wikitext.revision.diff.number_delta>\n",
      "\t\t\t\t - <wikitext.revision.parent.number_frequency>\n",
      "\t\t\t\t\t - <wikitext.revision.parent.numbers>\n",
      "\t\t\t\t\t\t - <tokenized(<revision.parent.text>)>\n",
      "\t\t\t\t\t\t\t - <revision.parent.text>\n",
      "\t\t\t\t - <wikitext.revision.number_frequency>\n",
      "\t\t\t\t\t - <wikitext.revision.numbers>\n",
      "\t\t\t\t\t\t - <tokenized(<revision.text>)>\n",
      "\t\t\t\t\t\t\t - <revision.text>\n",
      "\n"
     ]
    }
   ],
   "source": [
    "print(draw(wikitext.revision.diff.number_prop_delta_sum))"
   ]
  },
  {
   "cell_type": "markdown",
   "metadata": {
    "collapsed": true
   },
   "source": [
    "The dependency injection system will only solve a unique dependency once for a given tree.  So, even though `<revision.parent.text>` appears twice above, it will only be extracted once and then cached.  This allows for multiple features to *share* large sections of their dependency trees -- and therefor minimize resource usage."
   ]
  },
  {
   "cell_type": "markdown",
   "metadata": {},
   "source": [
    "## Errors during extraction\n",
    "\n",
    "A `revscoring.Extractor` should be expected to throw an exception if it cannot find a missing resource during extraction.  These messages are intented to clearly convey what went wrong."
   ]
  },
  {
   "cell_type": "code",
   "execution_count": 10,
   "metadata": {
    "collapsed": false
   },
   "outputs": [
    {
     "name": "stdout",
     "output_type": "stream",
     "text": [
      "RevisionNotFound: Could not find revision ({revision}:2)\n"
     ]
    }
   ],
   "source": [
    "try:\n",
    "    list(extractor.extract(2, [wikitext.revision.diff.words_added]))\n",
    "except Exception as e:\n",
    "    print(e)"
   ]
  },
  {
   "cell_type": "code",
   "execution_count": 11,
   "metadata": {
    "collapsed": false
   },
   "outputs": [
    {
     "name": "stdout",
     "output_type": "stream",
     "text": [
      "TextDeleted: Text deleted (<revision.text>)\n"
     ]
    }
   ],
   "source": [
    "try:\n",
    "    list(extractor.extract(262721924, [wikitext.revision.diff.words_added]))\n",
    "except Exception as e:\n",
    "    print(e)"
   ]
  },
  {
   "cell_type": "code",
   "execution_count": 12,
   "metadata": {
    "collapsed": false
   },
   "outputs": [
    {
     "name": "stdout",
     "output_type": "stream",
     "text": [
      "CommentDeleted: Comment deleted (<revision.comment>)\n"
     ]
    }
   ],
   "source": [
    "from revscoring.features import revision_oriented\n",
    "try:\n",
    "    list(extractor.extract(172665816, [revision_oriented.revision.comment_matches(\"foo\")]))\n",
    "except Exception as e:\n",
    "    print(e)\n"
   ]
  },
  {
   "cell_type": "code",
   "execution_count": 13,
   "metadata": {
    "collapsed": false
   },
   "outputs": [
    {
     "name": "stdout",
     "output_type": "stream",
     "text": [
      "UserDeleted: User deleted ({revision.user})\n"
     ]
    }
   ],
   "source": [
    "from revscoring.features import temporal\n",
    "try:\n",
    "    list(extractor.extract(591839757, [revision_oriented.revision.user.text_matches(\"foo\")]))\n",
    "except Exception as e:\n",
    "    print(e)"
   ]
  }
 ],
 "metadata": {
  "kernelspec": {
   "display_name": "Python 3",
   "language": "python",
   "name": "python3"
  },
  "language_info": {
   "codemirror_mode": {
    "name": "ipython",
    "version": 3
   },
   "file_extension": ".py",
   "mimetype": "text/x-python",
   "name": "python",
   "nbconvert_exporter": "python",
   "pygments_lexer": "ipython3",
   "version": "3.4.3"
  }
 },
 "nbformat": 4,
 "nbformat_minor": 0
}
