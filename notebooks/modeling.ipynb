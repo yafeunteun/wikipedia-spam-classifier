{
 "cells": [
  {
   "cell_type": "markdown",
   "metadata": {},
   "source": [
    "## Import required libraries"
   ]
  },
  {
   "cell_type": "code",
   "execution_count": 3,
   "metadata": {
    "collapsed": false
   },
   "outputs": [
    {
     "name": "stdout",
     "output_type": "stream",
     "text": [
      "Requirement already satisfied (use --upgrade to upgrade): pandas in /usr/local/lib/python3.4/dist-packages\n",
      "Requirement already satisfied (use --upgrade to upgrade): numpy>=1.7.0 in /usr/lib/python3/dist-packages (from pandas)\n",
      "Requirement already satisfied (use --upgrade to upgrade): python-dateutil>=2 in /usr/local/lib/python3.4/dist-packages (from pandas)\n",
      "Requirement already satisfied (use --upgrade to upgrade): pytz>=2011k in /root/.local/lib/python3.4/site-packages (from pandas)\n",
      "Requirement already satisfied (use --upgrade to upgrade): six>=1.5 in /usr/local/lib/python3.4/dist-packages (from python-dateutil>=2->pandas)\n",
      "\u001b[33mYou are using pip version 8.1.2, however version 9.0.1 is available.\n",
      "You should consider upgrading via the 'pip install --upgrade pip' command.\u001b[0m\n"
     ]
    }
   ],
   "source": [
    "! sudo pip install pandas\n",
    "import pandas as pd\n",
    "from sklearn.ensemble import RandomForestClassifier\n",
    "from sklearn.ensemble import GradientBoostingClassifier\n",
    "from sklearn.svm import SVC\n",
    "from sklearn.naive_bayes import GaussianNB\n",
    "from sklearn.metrics import precision_recall_fscore_support\n",
    "from sklearn.cross_validation import train_test_split"
   ]
  },
  {
   "cell_type": "markdown",
   "metadata": {},
   "source": [
    "## Load train and test data"
   ]
  },
  {
   "cell_type": "code",
   "execution_count": 4,
   "metadata": {
    "collapsed": false
   },
   "outputs": [],
   "source": [
    "df_data = pd.read_csv(\"./enwiki.draft_quality.50k_stratified.feature_labels.tsv\", sep=\"\\t\")\n",
    "df_data[\"OK\"] = df_data['draft_quality'].apply(lambda x: x == \"OK\")\n",
    "df_data[\"spam\"] = df_data['draft_quality'].apply(lambda x: x == \"spam\")\n",
    "df_data[\"vandalism\"] = df_data['draft_quality'].apply(lambda x: x == \"vandalism\")\n",
    "df_data[\"attack\"] = df_data['draft_quality'].apply(lambda x: x == \"attack\")"
   ]
  },
  {
   "cell_type": "code",
   "execution_count": 15,
   "metadata": {
    "collapsed": false
   },
   "outputs": [
    {
     "data": {
      "text/html": [
       "<div>\n",
       "<table border=\"1\" class=\"dataframe\">\n",
       "  <thead>\n",
       "    <tr style=\"text-align: right;\">\n",
       "      <th></th>\n",
       "      <th>feature.wikitext.revision.chars</th>\n",
       "      <th>feature.wikitext.revision.whitespace_chars</th>\n",
       "      <th>feature.wikitext.revision.markup_chars</th>\n",
       "      <th>feature.wikitext.revision.cjk_chars</th>\n",
       "      <th>feature.wikitext.revision.entity_chars</th>\n",
       "      <th>feature.wikitext.revision.url_chars</th>\n",
       "      <th>feature.wikitext.revision.word_chars</th>\n",
       "      <th>feature.wikitext.revision.uppercase_word_chars</th>\n",
       "      <th>feature.wikitext.revision.punctuation_chars</th>\n",
       "      <th>feature.wikitext.revision.break_chars</th>\n",
       "      <th>...</th>\n",
       "      <th>feature.enwiki.revision.cn_templates.1</th>\n",
       "      <th>feature.(enwiki.revision.cn_templates / max(wikitext.revision.content_chars, 1)).1</th>\n",
       "      <th>feature.enwiki.main_article_templates</th>\n",
       "      <th>feature.(enwiki.main_article_templates / max(wikitext.revision.content_chars, 1))</th>\n",
       "      <th>feature.(english.stemmed.revision.stems_length / max(wikitext.revision.content_chars, 1))</th>\n",
       "      <th>draft_quality</th>\n",
       "      <th>OK</th>\n",
       "      <th>spam</th>\n",
       "      <th>vandalism</th>\n",
       "      <th>attack</th>\n",
       "    </tr>\n",
       "  </thead>\n",
       "  <tbody>\n",
       "    <tr>\n",
       "      <th>0</th>\n",
       "      <td>54</td>\n",
       "      <td>6</td>\n",
       "      <td>4</td>\n",
       "      <td>0</td>\n",
       "      <td>0</td>\n",
       "      <td>0</td>\n",
       "      <td>32</td>\n",
       "      <td>8</td>\n",
       "      <td>0</td>\n",
       "      <td>0</td>\n",
       "      <td>...</td>\n",
       "      <td>0</td>\n",
       "      <td>0.0</td>\n",
       "      <td>0</td>\n",
       "      <td>0.0</td>\n",
       "      <td>0.653061</td>\n",
       "      <td>OK</td>\n",
       "      <td>True</td>\n",
       "      <td>False</td>\n",
       "      <td>False</td>\n",
       "      <td>False</td>\n",
       "    </tr>\n",
       "    <tr>\n",
       "      <th>1</th>\n",
       "      <td>61</td>\n",
       "      <td>7</td>\n",
       "      <td>8</td>\n",
       "      <td>0</td>\n",
       "      <td>0</td>\n",
       "      <td>0</td>\n",
       "      <td>45</td>\n",
       "      <td>8</td>\n",
       "      <td>0</td>\n",
       "      <td>0</td>\n",
       "      <td>...</td>\n",
       "      <td>0</td>\n",
       "      <td>0.0</td>\n",
       "      <td>0</td>\n",
       "      <td>0.0</td>\n",
       "      <td>1.952381</td>\n",
       "      <td>OK</td>\n",
       "      <td>True</td>\n",
       "      <td>False</td>\n",
       "      <td>False</td>\n",
       "      <td>False</td>\n",
       "    </tr>\n",
       "    <tr>\n",
       "      <th>2</th>\n",
       "      <td>1914</td>\n",
       "      <td>218</td>\n",
       "      <td>106</td>\n",
       "      <td>0</td>\n",
       "      <td>0</td>\n",
       "      <td>224</td>\n",
       "      <td>1170</td>\n",
       "      <td>37</td>\n",
       "      <td>32</td>\n",
       "      <td>10</td>\n",
       "      <td>...</td>\n",
       "      <td>0</td>\n",
       "      <td>0.0</td>\n",
       "      <td>0</td>\n",
       "      <td>0.0</td>\n",
       "      <td>0.821457</td>\n",
       "      <td>OK</td>\n",
       "      <td>True</td>\n",
       "      <td>False</td>\n",
       "      <td>False</td>\n",
       "      <td>False</td>\n",
       "    </tr>\n",
       "    <tr>\n",
       "      <th>3</th>\n",
       "      <td>1007</td>\n",
       "      <td>110</td>\n",
       "      <td>96</td>\n",
       "      <td>0</td>\n",
       "      <td>0</td>\n",
       "      <td>0</td>\n",
       "      <td>727</td>\n",
       "      <td>31</td>\n",
       "      <td>22</td>\n",
       "      <td>8</td>\n",
       "      <td>...</td>\n",
       "      <td>0</td>\n",
       "      <td>0.0</td>\n",
       "      <td>0</td>\n",
       "      <td>0.0</td>\n",
       "      <td>0.904632</td>\n",
       "      <td>OK</td>\n",
       "      <td>True</td>\n",
       "      <td>False</td>\n",
       "      <td>False</td>\n",
       "      <td>False</td>\n",
       "    </tr>\n",
       "    <tr>\n",
       "      <th>4</th>\n",
       "      <td>687</td>\n",
       "      <td>82</td>\n",
       "      <td>89</td>\n",
       "      <td>0</td>\n",
       "      <td>0</td>\n",
       "      <td>39</td>\n",
       "      <td>407</td>\n",
       "      <td>0</td>\n",
       "      <td>9</td>\n",
       "      <td>7</td>\n",
       "      <td>...</td>\n",
       "      <td>0</td>\n",
       "      <td>0.0</td>\n",
       "      <td>0</td>\n",
       "      <td>0.0</td>\n",
       "      <td>1.641256</td>\n",
       "      <td>OK</td>\n",
       "      <td>True</td>\n",
       "      <td>False</td>\n",
       "      <td>False</td>\n",
       "      <td>False</td>\n",
       "    </tr>\n",
       "  </tbody>\n",
       "</table>\n",
       "<p>5 rows × 92 columns</p>\n",
       "</div>"
      ],
      "text/plain": [
       "   feature.wikitext.revision.chars  \\\n",
       "0                               54   \n",
       "1                               61   \n",
       "2                             1914   \n",
       "3                             1007   \n",
       "4                              687   \n",
       "\n",
       "   feature.wikitext.revision.whitespace_chars  \\\n",
       "0                                           6   \n",
       "1                                           7   \n",
       "2                                         218   \n",
       "3                                         110   \n",
       "4                                          82   \n",
       "\n",
       "   feature.wikitext.revision.markup_chars  \\\n",
       "0                                       4   \n",
       "1                                       8   \n",
       "2                                     106   \n",
       "3                                      96   \n",
       "4                                      89   \n",
       "\n",
       "   feature.wikitext.revision.cjk_chars  \\\n",
       "0                                    0   \n",
       "1                                    0   \n",
       "2                                    0   \n",
       "3                                    0   \n",
       "4                                    0   \n",
       "\n",
       "   feature.wikitext.revision.entity_chars  \\\n",
       "0                                       0   \n",
       "1                                       0   \n",
       "2                                       0   \n",
       "3                                       0   \n",
       "4                                       0   \n",
       "\n",
       "   feature.wikitext.revision.url_chars  feature.wikitext.revision.word_chars  \\\n",
       "0                                    0                                    32   \n",
       "1                                    0                                    45   \n",
       "2                                  224                                  1170   \n",
       "3                                    0                                   727   \n",
       "4                                   39                                   407   \n",
       "\n",
       "   feature.wikitext.revision.uppercase_word_chars  \\\n",
       "0                                               8   \n",
       "1                                               8   \n",
       "2                                              37   \n",
       "3                                              31   \n",
       "4                                               0   \n",
       "\n",
       "   feature.wikitext.revision.punctuation_chars  \\\n",
       "0                                            0   \n",
       "1                                            0   \n",
       "2                                           32   \n",
       "3                                           22   \n",
       "4                                            9   \n",
       "\n",
       "   feature.wikitext.revision.break_chars   ...    \\\n",
       "0                                      0   ...     \n",
       "1                                      0   ...     \n",
       "2                                     10   ...     \n",
       "3                                      8   ...     \n",
       "4                                      7   ...     \n",
       "\n",
       "   feature.enwiki.revision.cn_templates.1  \\\n",
       "0                                       0   \n",
       "1                                       0   \n",
       "2                                       0   \n",
       "3                                       0   \n",
       "4                                       0   \n",
       "\n",
       "   feature.(enwiki.revision.cn_templates / max(wikitext.revision.content_chars, 1)).1  \\\n",
       "0                                                0.0                                    \n",
       "1                                                0.0                                    \n",
       "2                                                0.0                                    \n",
       "3                                                0.0                                    \n",
       "4                                                0.0                                    \n",
       "\n",
       "   feature.enwiki.main_article_templates  \\\n",
       "0                                      0   \n",
       "1                                      0   \n",
       "2                                      0   \n",
       "3                                      0   \n",
       "4                                      0   \n",
       "\n",
       "   feature.(enwiki.main_article_templates / max(wikitext.revision.content_chars, 1))  \\\n",
       "0                                                0.0                                   \n",
       "1                                                0.0                                   \n",
       "2                                                0.0                                   \n",
       "3                                                0.0                                   \n",
       "4                                                0.0                                   \n",
       "\n",
       "   feature.(english.stemmed.revision.stems_length / max(wikitext.revision.content_chars, 1))  \\\n",
       "0                                           0.653061                                           \n",
       "1                                           1.952381                                           \n",
       "2                                           0.821457                                           \n",
       "3                                           0.904632                                           \n",
       "4                                           1.641256                                           \n",
       "\n",
       "   draft_quality    OK   spam  vandalism  attack  \n",
       "0             OK  True  False      False   False  \n",
       "1             OK  True  False      False   False  \n",
       "2             OK  True  False      False   False  \n",
       "3             OK  True  False      False   False  \n",
       "4             OK  True  False      False   False  \n",
       "\n",
       "[5 rows x 92 columns]"
      ]
     },
     "execution_count": 15,
     "metadata": {},
     "output_type": "execute_result"
    }
   ],
   "source": [
    "df_data.head()"
   ]
  },
  {
   "cell_type": "code",
   "execution_count": 16,
   "metadata": {
    "collapsed": false
   },
   "outputs": [],
   "source": [
    "features = df_data.columns[:-5]\n",
    "len(features)\n",
    "data = df_data[features]"
   ]
  },
  {
   "cell_type": "code",
   "execution_count": null,
   "metadata": {
    "collapsed": true
   },
   "outputs": [],
   "source": []
  },
  {
   "cell_type": "code",
   "execution_count": null,
   "metadata": {
    "collapsed": false
   },
   "outputs": [],
   "source": []
  },
  {
   "cell_type": "code",
   "execution_count": null,
   "metadata": {
    "collapsed": false
   },
   "outputs": [],
   "source": []
  },
  {
   "cell_type": "code",
   "execution_count": null,
   "metadata": {
    "collapsed": false
   },
   "outputs": [],
   "source": []
  },
  {
   "cell_type": "code",
   "execution_count": null,
   "metadata": {
    "collapsed": false
   },
   "outputs": [],
   "source": []
  },
  {
   "cell_type": "markdown",
   "metadata": {},
   "source": [
    "## Select feature columns"
   ]
  },
  {
   "cell_type": "code",
   "execution_count": null,
   "metadata": {
    "collapsed": false
   },
   "outputs": [],
   "source": []
  },
  {
   "cell_type": "code",
   "execution_count": null,
   "metadata": {
    "collapsed": false
   },
   "outputs": [],
   "source": []
  },
  {
   "cell_type": "markdown",
   "metadata": {},
   "source": [
    "## Select target columns"
   ]
  },
  {
   "cell_type": "code",
   "execution_count": 73,
   "metadata": {
    "collapsed": false
   },
   "outputs": [],
   "source": [
    "targets = [\"spam\", \"OK\", \"vandalism\", \"attack\"]"
   ]
  },
  {
   "cell_type": "markdown",
   "metadata": {},
   "source": [
    "## Train and Run models "
   ]
  },
  {
   "cell_type": "markdown",
   "metadata": {},
   "source": [
    "### Defining models "
   ]
  },
  {
   "cell_type": "code",
   "execution_count": 75,
   "metadata": {
    "collapsed": false
   },
   "outputs": [],
   "source": [
    "models = [dict(), dict(), dict(), dict()]\n",
    "models[0][\"model\"] = RandomForestClassifier(n_jobs=64)\n",
    "models[0][\"name\"] = \"RandomForestClassifier\"\n",
    "models[1][\"model\"] = GradientBoostingClassifier()\n",
    "models[1][\"name\"] = \"GradientBoostingClassifier\"\n",
    "models[2][\"model\"] = SVC()\n",
    "models[2][\"name\"] = \"SVC\"\n",
    "models[3][\"model\"] = GaussianNB()\n",
    "models[3][\"name\"] = \"GaussianNB\""
   ]
  },
  {
   "cell_type": "markdown",
   "metadata": {},
   "source": [
    "### Adding model parametes"
   ]
  },
  {
   "cell_type": "code",
   "execution_count": 76,
   "metadata": {
    "collapsed": false
   },
   "outputs": [],
   "source": [
    "for model in models : \n",
    "    model[\"params\"] = model[\"model\"].get_params()"
   ]
  },
  {
   "cell_type": "markdown",
   "metadata": {},
   "source": [
    "### Training models"
   ]
  },
  {
   "cell_type": "code",
   "execution_count": 77,
   "metadata": {
    "collapsed": false
   },
   "outputs": [],
   "source": [
    "for model in models : \n",
    "    for category in targets : \n",
    "        X_train, X_test, y_train, y_test = train_test_split(df_data[features], df_data[category], test_size=0.4, random_state=0)\n",
    "        \n",
    "        model[\"model\"].fit(X_train, y_train)\n",
    "        y_pred = model[\"model\"].predict(X_test)\n",
    "        model[\"metrics_for_\" + category] = precision_recall_fscore_support(y_test, y_pred, average='binary')\n",
    "    mean_precision = 0.0\n",
    "    mean_recall = 0.0\n",
    "    for category in targets : \n",
    "        mean_precision += model[\"metrics_for_\" + category][0]\n",
    "        mean_recall += model[\"metrics_for_\" + category][1]\n",
    "    model[\"mean_precision\"] = mean_precision / len(targets)\n",
    "    model[\"mean_recall\"] = mean_recall / len(targets)"
   ]
  },
  {
   "cell_type": "markdown",
   "metadata": {},
   "source": [
    "## Evaluation"
   ]
  },
  {
   "cell_type": "raw",
   "metadata": {},
   "source": [
    "The precision is the ratio tp / (tp + fp) where tp is the number of true positives and fp the number of false positives. The precision is intuitively the ability of the classifier not to label as positive a sample that is negative."
   ]
  },
  {
   "cell_type": "raw",
   "metadata": {},
   "source": [
    "The recall is the ratio tp / (tp + fn) where tp is the number of true positives and fn the number of false negatives. The recall is intuitively the ability of the classifier to find all the positive samples."
   ]
  },
  {
   "cell_type": "raw",
   "metadata": {},
   "source": []
  },
  {
   "cell_type": "code",
   "execution_count": 78,
   "metadata": {
    "collapsed": false
   },
   "outputs": [
    {
     "name": "stdout",
     "output_type": "stream",
     "text": [
      "RandomForestClassifier\n",
      "\tPrecision: 0.69\n",
      "\tRecall: 0.54\n",
      "\n",
      "\n",
      "GradientBoostingClassifier\n",
      "\tPrecision: 0.72\n",
      "\tRecall: 0.56\n",
      "\n",
      "\n",
      "SVC\n",
      "\tPrecision: 0.67\n",
      "\tRecall: 0.46\n",
      "\n",
      "\n",
      "GaussianNB\n",
      "\tPrecision: 0.30\n",
      "\tRecall: 0.75\n",
      "\n",
      "\n"
     ]
    }
   ],
   "source": [
    "for model in models: \n",
    "    print (\"%s\\n\\tPrecision: %.2f\\n\\tRecall: %.2f\\n\\n\" % (model[\"name\"],  model[\"mean_precision\"], model[\"mean_recall\"]))"
   ]
  },
  {
   "cell_type": "code",
   "execution_count": 80,
   "metadata": {
    "collapsed": false
   },
   "outputs": [
    {
     "data": {
      "text/plain": [
       "[{'mean_precision': 0.69314216782224825,\n",
       "  'mean_recall': 0.54143947489662647,\n",
       "  'metrics_for_OK': (0.95641838351822506,\n",
       "   0.92234215302321143,\n",
       "   0.93907123753950905,\n",
       "   None),\n",
       "  'metrics_for_attack': (0.36548223350253806,\n",
       "   0.088452088452088448,\n",
       "   0.14243323442136496,\n",
       "   None),\n",
       "  'metrics_for_spam': (0.84326064686082247,\n",
       "   0.8130379568223508,\n",
       "   0.82787356321839078,\n",
       "   None),\n",
       "  'metrics_for_vandalism': (0.6074074074074074,\n",
       "   0.34192570128885519,\n",
       "   0.43754547659471255,\n",
       "   None),\n",
       "  'model': RandomForestClassifier(bootstrap=True, class_weight=None, criterion='gini',\n",
       "              max_depth=None, max_features='auto', max_leaf_nodes=None,\n",
       "              min_samples_leaf=1, min_samples_split=2,\n",
       "              min_weight_fraction_leaf=0.0, n_estimators=10, n_jobs=64,\n",
       "              oob_score=False, random_state=None, verbose=0,\n",
       "              warm_start=False),\n",
       "  'name': 'RandomForestClassifier',\n",
       "  'params': {'bootstrap': True,\n",
       "   'class_weight': None,\n",
       "   'criterion': 'gini',\n",
       "   'max_depth': None,\n",
       "   'max_features': 'auto',\n",
       "   'max_leaf_nodes': None,\n",
       "   'min_samples_leaf': 1,\n",
       "   'min_samples_split': 2,\n",
       "   'min_weight_fraction_leaf': 0.0,\n",
       "   'n_estimators': 10,\n",
       "   'n_jobs': 64,\n",
       "   'oob_score': False,\n",
       "   'random_state': None,\n",
       "   'verbose': 0,\n",
       "   'warm_start': False}},\n",
       " {'mean_precision': 0.72271138618009134,\n",
       "  'mean_recall': 0.56430114789910635,\n",
       "  'metrics_for_OK': (0.94545629758118921,\n",
       "   0.93714776960550195,\n",
       "   0.94128369951069757,\n",
       "   None),\n",
       "  'metrics_for_attack': (0.47340425531914893,\n",
       "   0.10933660933660934,\n",
       "   0.17764471057884232,\n",
       "   None),\n",
       "  'metrics_for_spam': (0.83568269762299618,\n",
       "   0.85325243403414708,\n",
       "   0.84437617817496347,\n",
       "   None),\n",
       "  'metrics_for_vandalism': (0.63630229419703099,\n",
       "   0.35746777862016682,\n",
       "   0.45776699029126211,\n",
       "   None),\n",
       "  'model': GradientBoostingClassifier(init=None, learning_rate=0.1, loss='deviance',\n",
       "                max_depth=3, max_features=None, max_leaf_nodes=None,\n",
       "                min_samples_leaf=1, min_samples_split=2,\n",
       "                min_weight_fraction_leaf=0.0, n_estimators=100,\n",
       "                presort='auto', random_state=None, subsample=1.0, verbose=0,\n",
       "                warm_start=False),\n",
       "  'name': 'GradientBoostingClassifier',\n",
       "  'params': {'init': None,\n",
       "   'learning_rate': 0.1,\n",
       "   'loss': 'deviance',\n",
       "   'max_depth': 3,\n",
       "   'max_features': None,\n",
       "   'max_leaf_nodes': None,\n",
       "   'min_samples_leaf': 1,\n",
       "   'min_samples_split': 2,\n",
       "   'min_weight_fraction_leaf': 0.0,\n",
       "   'n_estimators': 100,\n",
       "   'presort': 'auto',\n",
       "   'random_state': None,\n",
       "   'subsample': 1.0,\n",
       "   'verbose': 0,\n",
       "   'warm_start': False}},\n",
       " {'mean_precision': 0.66753987287151406,\n",
       "  'mean_recall': 0.46079958644687213,\n",
       "  'metrics_for_OK': (0.97944630872483218,\n",
       "   0.66911834941255133,\n",
       "   0.79507405936098963,\n",
       "   None),\n",
       "  'metrics_for_attack': (0.47058823529411764,\n",
       "   0.0098280098280098278,\n",
       "   0.01925391095066185,\n",
       "   None),\n",
       "  'metrics_for_spam': (0.5693312966734555,\n",
       "   0.946662903908565,\n",
       "   0.7110381007895713,\n",
       "   None),\n",
       "  'metrics_for_vandalism': (0.65079365079365081,\n",
       "   0.21758908263836241,\n",
       "   0.32613636363636367,\n",
       "   None),\n",
       "  'model': SVC(C=1.0, cache_size=200, class_weight=None, coef0=0.0,\n",
       "    decision_function_shape=None, degree=3, gamma='auto', kernel='rbf',\n",
       "    max_iter=-1, probability=False, random_state=None, shrinking=True,\n",
       "    tol=0.001, verbose=False),\n",
       "  'name': 'SVC',\n",
       "  'params': {'C': 1.0,\n",
       "   'cache_size': 200,\n",
       "   'class_weight': None,\n",
       "   'coef0': 0.0,\n",
       "   'decision_function_shape': None,\n",
       "   'degree': 3,\n",
       "   'gamma': 'auto',\n",
       "   'kernel': 'rbf',\n",
       "   'max_iter': -1,\n",
       "   'probability': False,\n",
       "   'random_state': None,\n",
       "   'shrinking': True,\n",
       "   'tol': 0.001,\n",
       "   'verbose': False}},\n",
       " {'mean_precision': 0.30001932908522894,\n",
       "  'mean_recall': 0.75231439950948586,\n",
       "  'metrics_for_OK': (0.51765943590000496,\n",
       "   0.98700926545037726,\n",
       "   0.67913243509694365,\n",
       "   None),\n",
       "  'metrics_for_attack': (0.042308902170493864,\n",
       "   0.99140049140049136,\n",
       "   0.081154465004022527,\n",
       "   None),\n",
       "  'metrics_for_spam': (0.34347976478727082,\n",
       "   0.98080993368138847,\n",
       "   0.50878348704435672,\n",
       "   None),\n",
       "  'metrics_for_vandalism': (0.29662921348314608,\n",
       "   0.050037907505686124,\n",
       "   0.085630879013947434,\n",
       "   None),\n",
       "  'model': GaussianNB(),\n",
       "  'name': 'GaussianNB',\n",
       "  'params': {}}]"
      ]
     },
     "execution_count": 80,
     "metadata": {},
     "output_type": "execute_result"
    }
   ],
   "source": [
    "models"
   ]
  },
  {
   "cell_type": "code",
   "execution_count": 83,
   "metadata": {
    "collapsed": true
   },
   "outputs": [],
   "source": [
    "from sklearn.externals import joblib"
   ]
  },
  {
   "cell_type": "code",
   "execution_count": 85,
   "metadata": {
    "collapsed": false
   },
   "outputs": [],
   "source": [
    "joblib.dump(models, 'models.pkl')\n",
    "models2 = joblib.load('models.pkl')"
   ]
  },
  {
   "cell_type": "code",
   "execution_count": null,
   "metadata": {
    "collapsed": false
   },
   "outputs": [],
   "source": []
  }
 ],
 "metadata": {
  "kernelspec": {
   "display_name": "Python 3",
   "language": "python",
   "name": "python3"
  },
  "language_info": {
   "codemirror_mode": {
    "name": "ipython",
    "version": 3
   },
   "file_extension": ".py",
   "mimetype": "text/x-python",
   "name": "python",
   "nbconvert_exporter": "python",
   "pygments_lexer": "ipython3",
   "version": "3.4.3"
  }
 },
 "nbformat": 4,
 "nbformat_minor": 0
}
