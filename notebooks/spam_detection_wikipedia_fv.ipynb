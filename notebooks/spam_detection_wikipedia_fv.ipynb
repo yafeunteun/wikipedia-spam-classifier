{
 "cells": [
  {
   "cell_type": "markdown",
   "metadata": {},
   "source": [
    "# Spam detection\n",
    "The main aim of this project is to build a machine learning classifier that is able to automatically detect \n",
    "spammy articles, based on their content. "
   ]
  },
  {
   "cell_type": "code",
   "execution_count": 6,
   "metadata": {
    "collapsed": false
   },
   "outputs": [
    {
     "name": "stdout",
     "output_type": "stream",
     "text": [
      "Requirement already satisfied (use --upgrade to upgrade): pandas in /usr/local/lib/python3.4/dist-packages\n",
      "Collecting matplotlib\n",
      "  Downloading matplotlib-2.0.0-cp34-cp34m-manylinux1_x86_64.whl (14.7MB)\n",
      "\u001b[K    100% |████████████████████████████████| 14.7MB 100kB/s \n",
      "\u001b[?25hRequirement already satisfied (use --upgrade to upgrade): pytz>=2011k in /root/.local/lib/python3.4/site-packages (from pandas)\n",
      "Requirement already satisfied (use --upgrade to upgrade): numpy>=1.7.0 in /usr/lib/python3/dist-packages (from pandas)\n",
      "Requirement already satisfied (use --upgrade to upgrade): python-dateutil>=2 in /usr/local/lib/python3.4/dist-packages (from pandas)\n",
      "Collecting pyparsing!=2.0.0,!=2.0.4,!=2.1.2,!=2.1.6,>=1.5.6 (from matplotlib)\n",
      "  Downloading pyparsing-2.2.0-py2.py3-none-any.whl (56kB)\n",
      "\u001b[K    100% |████████████████████████████████| 61kB 2.0MB/s \n",
      "\u001b[?25hCollecting cycler>=0.10 (from matplotlib)\n",
      "  Downloading cycler-0.10.0-py2.py3-none-any.whl\n",
      "Requirement already satisfied (use --upgrade to upgrade): six>=1.10 in /usr/local/lib/python3.4/dist-packages (from matplotlib)\n",
      "Installing collected packages: pyparsing, cycler, matplotlib\n",
      "Successfully installed cycler-0.10.0 matplotlib-2.0.0 pyparsing-2.2.0\n",
      "\u001b[33mYou are using pip version 8.1.2, however version 9.0.1 is available.\n",
      "You should consider upgrading via the 'pip install --upgrade pip' command.\u001b[0m\n"
     ]
    }
   ],
   "source": [
    "! sh bootstrap.sh"
   ]
  },
  {
   "cell_type": "code",
   "execution_count": 2,
   "metadata": {
    "collapsed": false
   },
   "outputs": [
    {
     "name": "stderr",
     "output_type": "stream",
     "text": [
      "C:\\Users\\karim_000\\Anaconda3\\lib\\site-packages\\sklearn\\cross_validation.py:44: DeprecationWarning: This module was deprecated in version 0.18 in favor of the model_selection module into which all the refactored classes and functions are moved. Also note that the interface of the new CV iterators are different from that of this module. This module will be removed in 0.20.\n",
      "  \"This module will be removed in 0.20.\", DeprecationWarning)\n"
     ]
    }
   ],
   "source": [
    "from sklearn.cluster import KMeans\n",
    "import numpy as np\n",
    "import pandas as pd\n",
    "import matplotlib.pyplot as plt\n",
    "import random\n",
    "from sklearn.utils import shuffle\n",
    "from sklearn.metrics import f1_score\n",
    "from sklearn.cross_validation import KFold\n",
    "from sklearn.metrics import recall_score\n",
    "from sklearn.ensemble import RandomForestClassifier\n",
    "from sklearn.metrics import confusion_matrix\n",
    "from sklearn.linear_model import LogisticRegression\n",
    "from sklearn.naive_bayes import BernoulliNB"
   ]
  },
  {
   "cell_type": "code",
   "execution_count": 3,
   "metadata": {
    "collapsed": false
   },
   "outputs": [],
   "source": [
    "#Load testing dataset\n",
    "df = pd.read_csv(\"enwiki.draft_quality.50k_stratified.feature_labels.tsv\", sep=\"\\t\")\n",
    "\n",
    "#Replace strings with integers : 1 for OK and 0 for Not OK\n",
    "df[\"draft_quality\"] = df[\"draft_quality\"].replace({\"OK\" : 1, \"vandalism\" : 0, \"spam\" : 0, \"attack\" : 0})\n",
    "#Put features and labels on differents dataframes\n",
    "X=df.drop([\"draft_quality\"], 1)\n",
    "Y=df[\"draft_quality\"]\n",
    "\n",
    "# Loading training dataset\n",
    "df2 = pd.read_csv(\"enwiki.draft_quality.201608-201701.feature_labels.tsv\", sep=\"\\t\")\n",
    "df2[\"draft_quality\"] = df2[\"draft_quality\"].replace({\"OK\" : 1, \"vandalism\" : 0, \"spam\" : 0, \"attack\" : 0})\n",
    "X2=df2.drop([\"draft_quality\"], 1)\n",
    "Y2=df2[\"draft_quality\"]\n",
    "\n",
    "# Converting dataframes to array\n",
    "X2=np.array(X2)\n",
    "Y2=np.array(Y2)\n",
    "X=np.array(X)\n",
    "Y=np.array(Y)"
   ]
  },
  {
   "cell_type": "code",
   "execution_count": 4,
   "metadata": {
    "collapsed": false
   },
   "outputs": [
    {
     "name": "stdout",
     "output_type": "stream",
     "text": [
      "52518\n",
      "324570\n"
     ]
    }
   ],
   "source": [
    "#lenghts of boths datasets\n",
    "print(len(X))\n",
    "print(len(X2))"
   ]
  },
  {
   "cell_type": "markdown",
   "metadata": {},
   "source": [
    "# Modeling\n",
    "We tried out various models and selected the best performing models (with the best performing parameter settings for each model). At the end, we retained 3 models which are:\n",
    "1.\tNaïve Bayes Gaussian\n",
    "2.\tRandom forest\n",
    "3.\tLogistic regression"
   ]
  },
  {
   "cell_type": "markdown",
   "metadata": {},
   "source": [
    "#### Naïve Bayes Gaussian"
   ]
  },
  {
   "cell_type": "code",
   "execution_count": 5,
   "metadata": {
    "collapsed": false
   },
   "outputs": [
    {
     "name": "stdout",
     "output_type": "stream",
     "text": [
      "[[23797  2464]\n",
      " [ 2681 23576]]\n",
      "Over all the not-OK articles included in the dataset, we detect:\n",
      "0.90617265146\n",
      "Over all the articles predicted as being not-OK, only this proportion is really not-OK:\n",
      "0.898746128862\n"
     ]
    }
   ],
   "source": [
    "weights=np.array([0.7,1-0.7])\n",
    "clf = BernoulliNB(alpha=22, class_prior=weights)\n",
    "clf.fit(X2, Y2)\n",
    "prediction_nb=clf.predict(X)\n",
    "confusion=confusion_matrix(Y, prediction_nb, labels=None, sample_weight=None)\n",
    "print(confusion)\n",
    "recall=confusion[0,0]/(confusion[0,0]+confusion[0,1])\n",
    "precision=confusion[0,0]/(confusion[0,0]+confusion[1,0])\n",
    "print(\"Over all the not-OK articles included in the dataset, we detect:\")\n",
    "print(recall)\n",
    "print(\"Over all the articles predicted as being not-OK, only this proportion is really not-OK:\")\n",
    "print(precision)"
   ]
  },
  {
   "cell_type": "markdown",
   "metadata": {},
   "source": [
    "#### logistic regression"
   ]
  },
  {
   "cell_type": "code",
   "execution_count": 6,
   "metadata": {
    "collapsed": false
   },
   "outputs": [
    {
     "name": "stdout",
     "output_type": "stream",
     "text": [
      "[[22936  3325]\n",
      " [ 1095 25162]]\n",
      "Over all the not-OK articles included in the dataset, we detect:\n",
      "0.873386390465\n",
      "Over all the articles predicted as being not-OK, only this proportion is really not-OK:\n",
      "0.954433856269\n"
     ]
    }
   ],
   "source": [
    "clf2 = LogisticRegression(penalty='l1', random_state=0, class_weight={1:0.1, 0: 0.9})\n",
    "clf2.fit(X2, Y2)\n",
    "prediction_lr=clf2.predict(X)\n",
    "confusion=confusion_matrix(Y, prediction_lr, labels=None, sample_weight=None)\n",
    "print(confusion)\n",
    "recall=confusion[0,0]/(confusion[0,0]+confusion[0,1])\n",
    "precision=confusion[0,0]/(confusion[0,0]+confusion[1,0])\n",
    "print(\"Over all the not-OK articles included in the dataset, we detect:\")\n",
    "print(recall)\n",
    "print(\"Over all the articles predicted as being not-OK, only this proportion is really not-OK:\")\n",
    "print(precision)"
   ]
  },
  {
   "cell_type": "markdown",
   "metadata": {},
   "source": [
    "#### random forest"
   ]
  },
  {
   "cell_type": "code",
   "execution_count": 7,
   "metadata": {
    "collapsed": false
   },
   "outputs": [
    {
     "name": "stdout",
     "output_type": "stream",
     "text": [
      "[[18530  7731]\n",
      " [  816 25441]]\n",
      "Over all the not-OK articles included in the dataset, we detect:\n",
      "0.705609078101\n",
      "Over all the articles predicted as being not-OK, only this proportion is really not-OK:\n",
      "0.957820738137\n"
     ]
    }
   ],
   "source": [
    "clf3 = RandomForestClassifier(n_estimators=2, min_samples_leaf=1, random_state=25, class_weight={1:0.9, 0: 0.1})\n",
    "clf3.fit(X2, Y2)\n",
    "prediction_rf=clf3.predict(X)\n",
    "confusion=confusion_matrix(Y, prediction_rf, labels=None, sample_weight=None)\n",
    "print(confusion)\n",
    "recall=confusion[0,0]/(confusion[0,0]+confusion[0,1])\n",
    "precision=confusion[0,0]/(confusion[0,0]+confusion[1,0])\n",
    "print(\"Over all the not-OK articles included in the dataset, we detect:\")\n",
    "print(recall)\n",
    "print(\"Over all the articles predicted as being not-OK, only this proportion is really not-OK:\")\n",
    "print(precision)"
   ]
  },
  {
   "cell_type": "markdown",
   "metadata": {},
   "source": [
    "## Combination 1\n",
    "We decided to try combining these models in order to construct a better and more consistent one."
   ]
  },
  {
   "cell_type": "markdown",
   "metadata": {
    "collapsed": true
   },
   "source": [
    "### voting system"
   ]
  },
  {
   "cell_type": "code",
   "execution_count": 8,
   "metadata": {
    "collapsed": true
   },
   "outputs": [],
   "source": [
    "#Here we construct our voting function\n",
    "def voting(pred1, pred2, pred3):\n",
    "    final_prediction=np.zeros_like(pred1)\n",
    "    for i in range(len(pred1)):\n",
    "        if pred1[i]==pred2[i]:\n",
    "            final_prediction[i]=pred1[i]\n",
    "        elif pred1[i]==pred3[i]:\n",
    "            final_prediction[i]=pred1[i]\n",
    "        elif pred2[i]==pred3[i]:\n",
    "            final_prediction[i]=pred2[i]\n",
    "    return final_prediction"
   ]
  },
  {
   "cell_type": "code",
   "execution_count": 9,
   "metadata": {
    "collapsed": false
   },
   "outputs": [
    {
     "name": "stdout",
     "output_type": "stream",
     "text": [
      "[[23013  3248]\n",
      " [ 1077 25180]]\n",
      "Over all the not-OK articles included in the dataset, we detect:\n",
      "0.876318495107\n",
      "Over all the articles predicted as being not-OK, only this proportion is really not-OK:\n",
      "0.955292652553\n"
     ]
    }
   ],
   "source": [
    "#Here we make the prediction using voting function (with the three models defined above)\n",
    "prediction= voting(prediction_lr, prediction_nb, prediction_rf)\n",
    "from sklearn.metrics import confusion_matrix\n",
    "confusion=confusion_matrix(Y, prediction, labels=None, sample_weight=None)\n",
    "print(confusion)\n",
    "recall=confusion[0,0]/(confusion[0,0]+confusion[0,1])\n",
    "precision=confusion[0,0]/(confusion[0,0]+confusion[1,0])\n",
    "print(\"Over all the not-OK articles included in the dataset, we detect:\")\n",
    "print(recall)\n",
    "print(\"Over all the articles predicted as being not-OK, only this proportion is really not-OK:\")\n",
    "print(precision)"
   ]
  },
  {
   "cell_type": "markdown",
   "metadata": {},
   "source": [
    "### customizing"
   ]
  },
  {
   "cell_type": "code",
   "execution_count": 10,
   "metadata": {
    "collapsed": true
   },
   "outputs": [],
   "source": [
    "#Since we are inerested in negatives (not-OK) we will analyze how many times a model detects a not-OK article while\n",
    "#the others don't\n",
    "def get_missclasified_indexes(pred1, Y_true, Class):\n",
    "    index_list=[]\n",
    "    a=0\n",
    "    b=1\n",
    "    if Class==\"negative\":\n",
    "        a=1\n",
    "        b=0  \n",
    "    for i in range(len(pred1)):\n",
    "        if pred1[i]==a and Y_true[i]==b:\n",
    "            index_list.append(i)\n",
    "    return index_list"
   ]
  },
  {
   "cell_type": "code",
   "execution_count": 11,
   "metadata": {
    "collapsed": false
   },
   "outputs": [
    {
     "name": "stdout",
     "output_type": "stream",
     "text": [
      "3248\n",
      "1128\n",
      "245\n",
      "551\n"
     ]
    }
   ],
   "source": [
    "false_negative_indexes=get_missclasified_indexes(prediction, Y, \"negative\")\n",
    "print(len(prediction[false_negative_indexes]))\n",
    "print(np.sum(prediction_nb[false_negative_indexes]!=prediction[false_negative_indexes]))\n",
    "print(np.sum(prediction_rf[false_negative_indexes]!=prediction[false_negative_indexes]))\n",
    "print(np.sum(prediction_lr[false_negative_indexes]!=prediction[false_negative_indexes]))"
   ]
  },
  {
   "cell_type": "code",
   "execution_count": 12,
   "metadata": {
    "collapsed": false
   },
   "outputs": [],
   "source": [
    "##Here we define our function based on the results above\n",
    "def voting_customized(pred1, pred2, pred3):\n",
    "    final_prediction=np.zeros_like(pred1)\n",
    "    for i in range(len(pred1)):\n",
    "        if pred1[i]==0:\n",
    "            final_prediction[i]=0\n",
    "        else:\n",
    "            final_prediction[i]=pred3[i]\n",
    "    return final_prediction"
   ]
  },
  {
   "cell_type": "code",
   "execution_count": 13,
   "metadata": {
    "collapsed": false
   },
   "outputs": [
    {
     "name": "stdout",
     "output_type": "stream",
     "text": [
      "[[23809  2452]\n",
      " [ 1385 24872]]\n",
      "Over all the not-OK articles included in the dataset, we detect:\n",
      "0.906629602833\n",
      "Over all the articles predicted as being not-OK, only this proportion is really not-OK:\n",
      "0.945026593633\n"
     ]
    }
   ],
   "source": [
    "#making a prediction with our new function\n",
    "prediction= voting_customized(prediction_lr, prediction_nb, prediction_rf)\n",
    "confusion=confusion_matrix(Y, prediction, labels=None, sample_weight=None)\n",
    "print(confusion)\n",
    "recall=confusion[0,0]/(confusion[0,0]+confusion[0,1])\n",
    "precision=confusion[0,0]/(confusion[0,0]+confusion[1,0])\n",
    "print(\"Over all the not-OK articles included in the dataset, we detect:\")\n",
    "print(recall)\n",
    "print(\"Over all the articles predicted as being not-OK, only this proportion is really not-OK:\")\n",
    "print(precision)"
   ]
  },
  {
   "cell_type": "code",
   "execution_count": 14,
   "metadata": {
    "collapsed": false
   },
   "outputs": [
    {
     "name": "stdout",
     "output_type": "stream",
     "text": [
      "2452\n",
      "1128\n",
      "0\n",
      "0\n"
     ]
    }
   ],
   "source": [
    "false_negative_indexes=get_missclasified_indexes(prediction, Y, \"negative\")\n",
    "print(len(prediction[false_negative_indexes]))\n",
    "print(np.sum(prediction_nb[false_negative_indexes]!=prediction[false_negative_indexes]))\n",
    "print(np.sum(prediction_rf[false_negative_indexes]!=prediction[false_negative_indexes]))\n",
    "print(np.sum(prediction_lr[false_negative_indexes]!=prediction[false_negative_indexes]))"
   ]
  },
  {
   "cell_type": "markdown",
   "metadata": {},
   "source": [
    "Here you can see that benefited from the good behavior of the logistic regression and the random forest. By contrast,\n",
    "we couldn't do the same with the naive bayse, because, this makes as missclassify a lot of OK articles, which leads to\n",
    "a low precision."
   ]
  },
  {
   "cell_type": "markdown",
   "metadata": {},
   "source": [
    "## Combination 2\n",
    "Now, we would like the capture more of the not-OK articles. To this end, we decided to include a few false positives \n",
    "in the training datasets. In order so in an intelligent way and to select some representative samples, we first \n",
    "analyzed these false positives. "
   ]
  },
  {
   "cell_type": "code",
   "execution_count": 19,
   "metadata": {
    "collapsed": false
   },
   "outputs": [
    {
     "data": {
      "image/png": "[encoded data removed]",
      "text/plain": [
       "<matplotlib.figure.Figure at 0x1aa80baa4e0>"
      ]
     },
     "metadata": {},
     "output_type": "display_data"
    }
   ],
   "source": [
    "from scipy.cluster.hierarchy import dendrogram, linkage\n",
    "Z = linkage(X[false_negative_indexes], 'ward')\n",
    "plt.figure(figsize=(25, 25))\n",
    "plt.title('Hierarchical Clustering Dendrogram')\n",
    "plt.xlabel('sample index')\n",
    "plt.ylabel('distance')\n",
    "dendrogram(\n",
    "    Z,\n",
    "    leaf_rotation=90., \n",
    "    leaf_font_size=11.,  \n",
    ")\n",
    "plt.show()"
   ]
  },
  {
   "cell_type": "markdown",
   "metadata": {},
   "source": [
    "This means that we have two big clusters of false positives (green and red). We have chosen to pick up \n",
    "randomly 50 samples of each cluster. "
   ]
  },
  {
   "cell_type": "code",
   "execution_count": 20,
   "metadata": {
    "collapsed": false
   },
   "outputs": [
    {
     "name": "stdout",
     "output_type": "stream",
     "text": [
      "[0 0 0 ..., 0 0 0]\n",
      "[0 1]\n"
     ]
    }
   ],
   "source": [
    "#we perform a kmeans clustering with 2 clusters\n",
    "kmeans = KMeans(n_clusters=2, random_state=0).fit(X[false_negative_indexes])\n",
    "cluster_labels=kmeans.labels_\n",
    "print(cluster_labels)\n",
    "print(np.unique(cluster_labels))"
   ]
  },
  {
   "cell_type": "code",
   "execution_count": 21,
   "metadata": {
    "collapsed": false
   },
   "outputs": [],
   "source": [
    "#Picking up the sapmles from theclusters and adding them to the training dataset.\n",
    "\n",
    "false_negatives_cluster0=[]\n",
    "false_negatives_cluster1=[]\n",
    "\n",
    "for i in range(1,11):\n",
    "    random.seed(a=i)\n",
    "    false_negatives_cluster0.append(random.choice([w for index_w, w in enumerate(false_negative_indexes) if cluster_labels[index_w] == 0]))\n",
    "for i in range(1,11):\n",
    "    random.seed(a=i)\n",
    "    false_negatives_cluster1.append(random.choice([w for index_w, w in enumerate(false_negative_indexes) if cluster_labels[index_w] == 1]))\n",
    "\n",
    "\n",
    "#adding 1st cluster's samples\n",
    "Y2=np.reshape(np.dstack(Y2), (len(Y2),1))\n",
    "temp_arr=np.array([Y[false_negatives_cluster0]])\n",
    "temp_arr=np.reshape(np.dstack(temp_arr), (10,1))\n",
    "\n",
    "X2_new = np.vstack((X2, X[false_negatives_cluster0]))\n",
    "Y2_new=np.vstack((Y2, temp_arr))\n",
    "# Second\n",
    "temp_arr2=np.array([Y[false_negatives_cluster1]])\n",
    "temp_arr2=np.reshape(np.dstack(temp_arr2), (10,1))\n",
    "\n",
    "X2_new = np.vstack((X2_new, X[false_negatives_cluster1]))\n",
    "Y2_new=np.vstack((Y2_new, temp_arr2))\n"
   ]
  },
  {
   "cell_type": "markdown",
   "metadata": {},
   "source": [
    "### Now we do the prediction again"
   ]
  },
  {
   "cell_type": "markdown",
   "metadata": {},
   "source": [
    "#### random forest"
   ]
  },
  {
   "cell_type": "code",
   "execution_count": 22,
   "metadata": {
    "collapsed": false
   },
   "outputs": [
    {
     "name": "stdout",
     "output_type": "stream",
     "text": [
      "[[18774  7487]\n",
      " [  791 25466]]\n",
      "Over all the not-OK articles included in the dataset, we detect:\n",
      "0.71490042268\n",
      "Over all the articles predicted as being not-OK, only this proportion is really not-OK:\n",
      "0.959570661896\n"
     ]
    }
   ],
   "source": [
    "Y2_new=np.reshape(np.dstack(Y2_new), (len(Y2_new),))\n",
    "\n",
    "clf3.fit(X2_new, Y2_new)\n",
    "prediction_rf_new=clf3.predict(X)\n",
    "confusion=confusion_matrix(Y, prediction_rf_new, labels=None, sample_weight=None)\n",
    "print(confusion)\n",
    "recall=confusion[0,0]/(confusion[0,0]+confusion[0,1])\n",
    "precision=confusion[0,0]/(confusion[0,0]+confusion[1,0])\n",
    "print(\"Over all the not-OK articles included in the dataset, we detect:\")\n",
    "print(recall)\n",
    "print(\"Over all the articles predicted as being not-OK, only this proportion is really not-OK:\")\n",
    "print(precision)\n"
   ]
  },
  {
   "cell_type": "markdown",
   "metadata": {},
   "source": [
    "#### logistic regression"
   ]
  },
  {
   "cell_type": "code",
   "execution_count": 23,
   "metadata": {
    "collapsed": false
   },
   "outputs": [
    {
     "name": "stdout",
     "output_type": "stream",
     "text": [
      "[[22913  3348]\n",
      " [ 1097 25160]]\n",
      "Over all the not-OK articles included in the dataset, we detect:\n",
      "0.872510567\n",
      "Over all the articles predicted as being not-OK, only this proportion is really not-OK:\n",
      "0.954310703873\n"
     ]
    }
   ],
   "source": [
    "clf2.fit(X2_new, Y2_new)\n",
    "prediction_lr_new=clf2.predict(X)\n",
    "confusion=confusion_matrix(Y, prediction_lr_new, labels=None, sample_weight=None)\n",
    "print(confusion)\n",
    "recall=confusion[0,0]/(confusion[0,0]+confusion[0,1])\n",
    "precision=confusion[0,0]/(confusion[0,0]+confusion[1,0])\n",
    "print(\"Over all the not-OK articles included in the dataset, we detect:\")\n",
    "print(recall)\n",
    "print(\"Over all the articles predicted as being not-OK, only this proportion is really not-OK:\")\n",
    "print(precision)"
   ]
  },
  {
   "cell_type": "markdown",
   "metadata": {},
   "source": [
    "#### Naive Bayse"
   ]
  },
  {
   "cell_type": "code",
   "execution_count": 24,
   "metadata": {
    "collapsed": false
   },
   "outputs": [
    {
     "name": "stdout",
     "output_type": "stream",
     "text": [
      "[[23818  2443]\n",
      " [ 2723 23534]]\n",
      "Over all the not-OK articles included in the dataset, we detect:\n",
      "0.906972316363\n",
      "Over all the articles predicted as being not-OK, only this proportion is really not-OK:\n",
      "0.897404016427\n"
     ]
    }
   ],
   "source": [
    "from sklearn.naive_bayes import BernoulliNB\n",
    "weights=np.array([0.7,1-0.7])\n",
    "clf = BernoulliNB(alpha=22, class_prior=weights)\n",
    "clf.fit(X2_new, Y2_new)\n",
    "prediction_nb_new=clf.predict(X)\n",
    "confusion=confusion_matrix(Y, prediction_nb_new, labels=None, sample_weight=None)\n",
    "print(confusion)\n",
    "recall=confusion[0,0]/(confusion[0,0]+confusion[0,1])\n",
    "precision=confusion[0,0]/(confusion[0,0]+confusion[1,0])\n",
    "print(\"Over all the not-OK articles included in the dataset, we detect:\")\n",
    "print(recall)\n",
    "print(\"Over all the articles predicted as being not-OK, only this proportion is really not-OK:\")\n",
    "print(precision)"
   ]
  },
  {
   "cell_type": "markdown",
   "metadata": {},
   "source": [
    "#### Voting"
   ]
  },
  {
   "cell_type": "code",
   "execution_count": 25,
   "metadata": {
    "collapsed": false
   },
   "outputs": [
    {
     "name": "stdout",
     "output_type": "stream",
     "text": [
      "[[23034  3227]\n",
      " [ 1100 25157]]\n",
      "Over all the not-OK articles included in the dataset, we detect:\n",
      "0.877118160009\n",
      "Over all the articles predicted as being not-OK, only this proportion is really not-OK:\n",
      "0.954421148587\n"
     ]
    }
   ],
   "source": [
    "prediction= voting(prediction_lr_new, prediction_nb_new, prediction_rf_new)\n",
    "confusion=confusion_matrix(Y, prediction, labels=None, sample_weight=None)\n",
    "print(confusion)\n",
    "recall=confusion[0,0]/(confusion[0,0]+confusion[0,1])\n",
    "precision=confusion[0,0]/(confusion[0,0]+confusion[1,0])\n",
    "print(\"Over all the not-OK articles included in the dataset, we detect:\")\n",
    "print(recall)\n",
    "print(\"Over all the articles predicted as being not-OK, only this proportion is really not-OK:\")\n",
    "print(precision)"
   ]
  },
  {
   "cell_type": "markdown",
   "metadata": {},
   "source": [
    "#### Customizing"
   ]
  },
  {
   "cell_type": "code",
   "execution_count": 26,
   "metadata": {
    "collapsed": false
   },
   "outputs": [],
   "source": [
    "def voting_customized2(pred1, pred2, pred3):\n",
    "    final_prediction=np.zeros_like(pred1)\n",
    "    for i in range(len(pred1)):\n",
    "        if pred1[i]==0:\n",
    "            final_prediction[i]=0     \n",
    "        else:\n",
    "            final_prediction[i]=pred2[i]\n",
    "    return final_prediction"
   ]
  },
  {
   "cell_type": "code",
   "execution_count": 27,
   "metadata": {
    "collapsed": false
   },
   "outputs": [
    {
     "name": "stdout",
     "output_type": "stream",
     "text": [
      "[[24696  1565]\n",
      " [ 2911 23346]]\n",
      "Over all the not-OK articles included in the dataset, we detect:\n",
      "0.940405925136\n",
      "Over all the articles predicted as being not-OK, only this proportion is really not-OK:\n",
      "0.89455572862\n"
     ]
    }
   ],
   "source": [
    "prediction= voting_customized2(prediction_lr_new, prediction_nb_new, prediction_rf_new)\n",
    "confusion=confusion_matrix(Y, prediction, labels=None, sample_weight=None)\n",
    "print(confusion)\n",
    "recall=confusion[0,0]/(confusion[0,0]+confusion[0,1])\n",
    "precision=confusion[0,0]/(confusion[0,0]+confusion[1,0])\n",
    "print(\"Over all the not-OK articles included in the dataset, we detect:\")\n",
    "print(recall)\n",
    "print(\"Over all the articles predicted as being not-OK, only this proportion is really not-OK:\")\n",
    "print(precision)"
   ]
  },
  {
   "cell_type": "code",
   "execution_count": null,
   "metadata": {
    "collapsed": false
   },
   "outputs": [],
   "source": []
  },
  {
   "cell_type": "code",
   "execution_count": null,
   "metadata": {
    "collapsed": false
   },
   "outputs": [],
   "source": []
  },
  {
   "cell_type": "code",
   "execution_count": null,
   "metadata": {
    "collapsed": false
   },
   "outputs": [],
   "source": []
  },
  {
   "cell_type": "code",
   "execution_count": null,
   "metadata": {
    "collapsed": false
   },
   "outputs": [],
   "source": []
  },
  {
   "cell_type": "code",
   "execution_count": null,
   "metadata": {
    "collapsed": false
   },
   "outputs": [],
   "source": []
  },
  {
   "cell_type": "code",
   "execution_count": null,
   "metadata": {
    "collapsed": false
   },
   "outputs": [],
   "source": []
  },
  {
   "cell_type": "code",
   "execution_count": null,
   "metadata": {
    "collapsed": false
   },
   "outputs": [],
   "source": []
  },
  {
   "cell_type": "code",
   "execution_count": null,
   "metadata": {
    "collapsed": false
   },
   "outputs": [],
   "source": []
  },
  {
   "cell_type": "code",
   "execution_count": null,
   "metadata": {
    "collapsed": false
   },
   "outputs": [],
   "source": []
  },
  {
   "cell_type": "code",
   "execution_count": null,
   "metadata": {
    "collapsed": true
   },
   "outputs": [],
   "source": []
  }
 ],
 "metadata": {
  "anaconda-cloud": {},
  "kernelspec": {
   "display_name": "Python [default]",
   "language": "python",
   "name": "python3"
  },
  "language_info": {
   "codemirror_mode": {
    "name": "ipython",
    "version": 3
   },
   "file_extension": ".py",
   "mimetype": "text/x-python",
   "name": "python",
   "nbconvert_exporter": "python",
   "pygments_lexer": "ipython3",
   "version": "3.5.2"
  }
 },
 "nbformat": 4,
 "nbformat_minor": 1
}
