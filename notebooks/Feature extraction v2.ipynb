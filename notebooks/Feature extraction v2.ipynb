{
 "cells": [
  {
   "cell_type": "code",
   "execution_count": 1,
   "metadata": {
    "collapsed": false
   },
   "outputs": [
    {
     "name": "stdout",
     "output_type": "stream",
     "text": [
      "Requirement already satisfied (use --upgrade to upgrade): pandas in /usr/local/lib/python3.4/dist-packages\n",
      "Requirement already satisfied (use --upgrade to upgrade): python-dateutil>=2 in /usr/local/lib/python3.4/dist-packages (from pandas)\n",
      "Requirement already satisfied (use --upgrade to upgrade): pytz>=2011k in /root/.local/lib/python3.4/site-packages (from pandas)\n",
      "Requirement already satisfied (use --upgrade to upgrade): numpy>=1.7.0 in /usr/lib/python3/dist-packages (from pandas)\n",
      "Requirement already satisfied (use --upgrade to upgrade): six>=1.5 in /usr/local/lib/python3.4/dist-packages (from python-dateutil>=2->pandas)\n",
      "\u001b[33mYou are using pip version 8.1.2, however version 9.0.1 is available.\n",
      "You should consider upgrading via the 'pip install --upgrade pip' command.\u001b[0m\n",
      "Requirement already satisfied (use --upgrade to upgrade): matplotlib in /usr/local/lib/python3.4/dist-packages\n",
      "Requirement already satisfied (use --upgrade to upgrade): pyparsing!=2.0.0,!=2.0.4,!=2.1.2,>=1.5.6 in /usr/local/lib/python3.4/dist-packages (from matplotlib)\n",
      "Requirement already satisfied (use --upgrade to upgrade): pytz in /root/.local/lib/python3.4/site-packages (from matplotlib)\n",
      "Requirement already satisfied (use --upgrade to upgrade): python-dateutil in /usr/local/lib/python3.4/dist-packages (from matplotlib)\n",
      "Requirement already satisfied (use --upgrade to upgrade): cycler in /usr/local/lib/python3.4/dist-packages (from matplotlib)\n",
      "Requirement already satisfied (use --upgrade to upgrade): numpy>=1.6 in /usr/lib/python3/dist-packages (from matplotlib)\n",
      "Requirement already satisfied (use --upgrade to upgrade): six>=1.5 in /usr/local/lib/python3.4/dist-packages (from python-dateutil->matplotlib)\n",
      "\u001b[33mYou are using pip version 8.1.2, however version 9.0.1 is available.\n",
      "You should consider upgrading via the 'pip install --upgrade pip' command.\u001b[0m\n",
      "Reading package lists... Done\n",
      "Building dependency tree       \n",
      "Reading state information... Done\n",
      "python3-tk is already the newest version.\n",
      "0 upgraded, 0 newly installed, 0 to remove and 0 not upgraded.\n"
     ]
    }
   ],
   "source": [
    "# Install some more libs\n",
    "! sudo pip install pandas\n",
    "! sudo pip install matplotlib\n",
    "! sudo apt-get -y install python3-tk"
   ]
  },
  {
   "cell_type": "code",
   "execution_count": 2,
   "metadata": {
    "collapsed": true
   },
   "outputs": [],
   "source": [
    "# import required libs\n",
    "from revscoring.dependencies import solve\n",
    "from revscoring.features import wikitext\n",
    "import pandas as pd\n",
    "import re\n",
    "import matplotlib.pyplot as plt\n",
    "import numpy as np\n",
    "%matplotlib inline"
   ]
  },
  {
   "cell_type": "code",
   "execution_count": 3,
   "metadata": {
    "collapsed": false
   },
   "outputs": [
    {
     "data": {
      "text/html": [
       "<div>\n",
       "<table border=\"1\" class=\"dataframe\">\n",
       "  <thead>\n",
       "    <tr style=\"text-align: right;\">\n",
       "      <th></th>\n",
       "      <th>page_title</th>\n",
       "      <th>rev_id</th>\n",
       "      <th>creation_timestamp</th>\n",
       "      <th>archived</th>\n",
       "      <th>draft_quality</th>\n",
       "      <th>censored_text</th>\n",
       "    </tr>\n",
       "  </thead>\n",
       "  <tbody>\n",
       "    <tr>\n",
       "      <th>0</th>\n",
       "      <td>Government_Achuthan_girls_hss</td>\n",
       "      <td>688249460</td>\n",
       "      <td>20151030165831</td>\n",
       "      <td>1</td>\n",
       "      <td>spam</td>\n",
       "      <td>125 years ago APPU NEDUNGADI  STARTED THIS SCH...</td>\n",
       "    </tr>\n",
       "    <tr>\n",
       "      <th>1</th>\n",
       "      <td>Spiromax_EDMS</td>\n",
       "      <td>731688963</td>\n",
       "      <td>20160726220726</td>\n",
       "      <td>1</td>\n",
       "      <td>spam</td>\n",
       "      <td>Spiromax is a British technology media and com...</td>\n",
       "    </tr>\n",
       "    <tr>\n",
       "      <th>2</th>\n",
       "      <td>Steph_Curry_UA_2</td>\n",
       "      <td>693824273</td>\n",
       "      <td>20151205035603</td>\n",
       "      <td>1</td>\n",
       "      <td>spam</td>\n",
       "      <td>The Steph Curry UA two Shoes are a hot-selling...</td>\n",
       "    </tr>\n",
       "    <tr>\n",
       "      <th>3</th>\n",
       "      <td>Valletta_Cruise_Port</td>\n",
       "      <td>722151405</td>\n",
       "      <td>20160526085302</td>\n",
       "      <td>1</td>\n",
       "      <td>spam</td>\n",
       "      <td>''Valletta Cruise Port plc''' is a private com...</td>\n",
       "    </tr>\n",
       "    <tr>\n",
       "      <th>4</th>\n",
       "      <td>RWG_Mobile</td>\n",
       "      <td>731355950</td>\n",
       "      <td>20160724204124</td>\n",
       "      <td>1</td>\n",
       "      <td>spam</td>\n",
       "      <td>[[File:RWGmobile.png|thumb|RWG Mobile logo]]\\n...</td>\n",
       "    </tr>\n",
       "  </tbody>\n",
       "</table>\n",
       "</div>"
      ],
      "text/plain": [
       "                      page_title     rev_id  creation_timestamp  archived  \\\n",
       "0  Government_Achuthan_girls_hss  688249460      20151030165831         1   \n",
       "1                  Spiromax_EDMS  731688963      20160726220726         1   \n",
       "2               Steph_Curry_UA_2  693824273      20151205035603         1   \n",
       "3           Valletta_Cruise_Port  722151405      20160526085302         1   \n",
       "4                     RWG_Mobile  731355950      20160724204124         1   \n",
       "\n",
       "  draft_quality                                      censored_text  \n",
       "0          spam  125 years ago APPU NEDUNGADI  STARTED THIS SCH...  \n",
       "1          spam  Spiromax is a British technology media and com...  \n",
       "2          spam  The Steph Curry UA two Shoes are a hot-selling...  \n",
       "3          spam  ''Valletta Cruise Port plc''' is a private com...  \n",
       "4          spam  [[File:RWGmobile.png|thumb|RWG Mobile logo]]\\n...  "
      ]
     },
     "execution_count": 3,
     "metadata": {},
     "output_type": "execute_result"
    }
   ],
   "source": [
    "# Load dataset\n",
    "df = pd.read_csv(\"enwiki.draft_quality.75_not_OK_sample.censored.tsv\", sep=\"\\t\")\n",
    "df.head()"
   ]
  },
  {
   "cell_type": "markdown",
   "metadata": {},
   "source": [
    "### Character features"
   ]
  },
  {
   "cell_type": "code",
   "execution_count": 4,
   "metadata": {
    "collapsed": false
   },
   "outputs": [],
   "source": [
    "# The number of characters\n",
    "chars = lambda x:list(solve([ wikitext.revision.chars], cache={'datasource.revision.text': x}))[0]\n",
    "df[\"chars\"] = df[\"censored_text\"].apply(chars)\n",
    "\n",
    "# whitespace_chars\n",
    "whitespace_chars = lambda x:list(solve([ wikitext.revision.whitespace_chars], cache={'datasource.revision.text': x}))[0]\n",
    "df[\"whitespace_chars\"] = df[\"censored_text\"].apply(whitespace_chars)\n",
    "\n",
    "# The number of wikitext markup characters\n",
    "markup_chars = lambda x:list(solve([ wikitext.revision.markup_chars], cache={'datasource.revision.text': x}))[0]\n",
    "df[\"markup_chars\"] = df[\"censored_text\"].apply(markup_chars)\n",
    "\n",
    "# The number of Chinese/Japanese/Korean characters\n",
    "cjk_chars = lambda x:list(solve([ wikitext.revision.cjk_chars], cache={'datasource.revision.text': x}))[0]\n",
    "df[\"cjk_chars\"] = df[\"censored_text\"].apply(cjk_chars)\n",
    "\n",
    "# The number of HTML entity characters\n",
    "entity_chars = lambda x:list(solve([ wikitext.revision.entity_chars], cache={'datasource.revision.text': x}))[0]\n",
    "df[\"entity_chars\"] = df[\"censored_text\"].apply(entity_chars)\n",
    "\n",
    "# The number of URL characters\n",
    "url_chars = lambda x:list(solve([ wikitext.revision.url_chars], cache={'datasource.revision.text': x}))[0]\n",
    "df[\"url_chars\"] = df[\"censored_text\"].apply(url_chars)\n",
    "\n",
    "# The number of word characters\n",
    "word_chars = lambda x:list(solve([ wikitext.revision.word_chars], cache={'datasource.revision.text': x}))[0]\n",
    "df[\"word_chars\"] = df[\"censored_text\"].apply(word_chars)\n",
    "\n",
    "# The number of UPPERCASE WORD characters\n",
    "uppercase_word_chars = lambda x:list(solve([ wikitext.revision.uppercase_word_chars], cache={'datasource.revision.text': x}))[0]\n",
    "df[\"uppercase_word_chars\"] = df[\"censored_text\"].apply(uppercase_word_chars)\n",
    "\n",
    "# The number of punctuation characters\n",
    "punctuation_chars = lambda x:list(solve([ wikitext.revision.punctuation_chars], cache={'datasource.revision.text': x}))[0]\n",
    "df[\"punctuation_chars\"] = df[\"censored_text\"].apply(punctuation_chars)\n",
    "\n",
    "# The number of break characters\n",
    "break_chars = lambda x:list(solve([ wikitext.revision.break_chars], cache={'datasource.revision.text': x}))[0]\n",
    "df[\"break_chars\"] = df[\"censored_text\"].apply(break_chars)\n",
    "\n",
    "# The length of the most longest character repetition\n",
    "longest_repeated_char = lambda x:list(solve([ wikitext.revision.longest_repeated_char], cache={'datasource.revision.text': x}))[0]\n",
    "df[\"longest_repeated_char\"] = df[\"censored_text\"].apply(longest_repeated_char)"
   ]
  },
  {
   "cell_type": "markdown",
   "metadata": {},
   "source": [
    "### Tokenized features "
   ]
  },
  {
   "cell_type": "code",
   "execution_count": 5,
   "metadata": {
    "collapsed": false
   },
   "outputs": [],
   "source": [
    "# The number of tokens\n",
    "tokens = lambda x:list(solve([ wikitext.revision.tokens], cache={'datasource.revision.text': x}))[0]\n",
    "df[\"tokens\"] = df[\"censored_text\"].apply(tokens)\n",
    "\n",
    "# The number of number tokens\n",
    "numbers = lambda x:list(solve([ wikitext.revision.numbers], cache={'datasource.revision.text': x}))[0]\n",
    "df[\"numbers\"] = df[\"censored_text\"].apply(numbers)\n",
    "\n",
    "# The number of whitespace tokens\n",
    "whitespaces = lambda x:list(solve([ wikitext.revision.whitespaces], cache={'datasource.revision.text': x}))[0]\n",
    "df[\"whitespaces\"] = df[\"censored_text\"].apply(whitespaces)\n",
    "\n",
    "# The number of markup tokens\n",
    "markups = lambda x:list(solve([ wikitext.revision.markups], cache={'datasource.revision.text': x}))[0]\n",
    "df[\"markups\"] = df[\"censored_text\"].apply(markups)\n",
    "\n",
    "# The number of Chinese/Japanese/Korean tokens\n",
    "cjks = lambda x:list(solve([ wikitext.revision.cjks], cache={'datasource.revision.text': x}))[0]\n",
    "df[\"cjks\"] = df[\"censored_text\"].apply(cjks)\n",
    "\n",
    "# The number of HTML entity tokens\n",
    "entities = lambda x:list(solve([ wikitext.revision.entities], cache={'datasource.revision.text': x}))[0]\n",
    "df[\"entities\"] = df[\"censored_text\"].apply(entities)\n",
    "\n",
    "# The number of URL tokens\n",
    "urls = lambda x:list(solve([ wikitext.revision.urls], cache={'datasource.revision.text': x}))[0]\n",
    "df[\"urls\"] = df[\"censored_text\"].apply(urls)\n",
    "\n",
    "# The number of word tokens\n",
    "words = lambda x:list(solve([ wikitext.revision.words], cache={'datasource.revision.text': x}))[0]\n",
    "df[\"words\"] = df[\"censored_text\"].apply(words)\n",
    "\n",
    "# The number of UPPERCASE word tokens\n",
    "uppercase_words = lambda x:list(solve([ wikitext.revision.uppercase_words], cache={'datasource.revision.text': x}))[0]\n",
    "df[\"uppercase_words\"] = df[\"censored_text\"].apply(uppercase_words)\n",
    "\n",
    "# The number of punctuation tokens\n",
    "punctuations = lambda x:list(solve([ wikitext.revision.punctuations], cache={'datasource.revision.text': x}))[0]\n",
    "df[\"punctuations\"] = df[\"censored_text\"].apply(punctuations)\n",
    "\n",
    "# The number of break tokens\n",
    "breaks = lambda x:list(solve([ wikitext.revision.breaks], cache={'datasource.revision.text': x}))[0]\n",
    "df[\"breaks\"] = df[\"censored_text\"].apply(breaks)\n",
    "\n",
    "# The length of the longest token\n",
    "longest_token = lambda x:list(solve([ wikitext.revision.longest_token], cache={'datasource.revision.text': x}))[0]\n",
    "df[\"longest_token\"] = df[\"censored_text\"].apply(longest_token)\n",
    "\n",
    "# The length of the longest word-token\n",
    "longest_word = lambda x:list(solve([ wikitext.revision.longest_word], cache={'datasource.revision.text': x}))[0]\n",
    "df[\"longest_word\"] = df[\"censored_text\"].apply(longest_word)"
   ]
  },
  {
   "cell_type": "markdown",
   "metadata": {},
   "source": [
    "### Parsed features"
   ]
  },
  {
   "cell_type": "code",
   "execution_count": 6,
   "metadata": {
    "collapsed": false
   },
   "outputs": [],
   "source": [
    "# The number of characters of viewable content (no markup or templates)\n",
    "content_chars = lambda x:list(solve([ wikitext.revision.content_chars], cache={'datasource.revision.text': x}))[0]\n",
    "df[\"content_chars\"] = df[\"censored_text\"].apply(content_chars)\n",
    "\n",
    "# The number of headings\n",
    "headings = lambda x:list(solve([ wikitext.revision.headings], cache={'datasource.revision.text': x}))[0]\n",
    "df[\"headings\"] = df[\"censored_text\"].apply(headings)\n",
    "\n",
    "# The number of external links\n",
    "external_links = lambda x:list(solve([ wikitext.revision.external_links], cache={'datasource.revision.text': x}))[0]\n",
    "df[\"external_links\"] = df[\"censored_text\"].apply(external_links)\n",
    "\n",
    "# The number of wikilinks (internal to other pages in the wiki)\n",
    "wikilinks = lambda x:list(solve([ wikitext.revision.wikilinks], cache={'datasource.revision.text': x}))[0]\n",
    "df[\"wikilinks\"] = df[\"censored_text\"].apply(wikilinks)\n",
    "\n",
    "# The number of HTML tags\n",
    "tags = lambda x:list(solve([ wikitext.revision.tags], cache={'datasource.revision.text': x}))[0]\n",
    "df[\"tags\"] = df[\"censored_text\"].apply(tags)\n",
    "\n",
    "# The number of <ref> tags\n",
    "ref_tags = lambda x:list(solve([ wikitext.revision.ref_tags], cache={'datasource.revision.text': x}))[0]\n",
    "df[\"ref_tags\"] = df[\"censored_text\"].apply(ref_tags)\n",
    "\n",
    "# The number of templates\n",
    "templates = lambda x:list(solve([ wikitext.revision.templates], cache={'datasource.revision.text': x}))[0]\n",
    "df[\"templates\"] = df[\"censored_text\"].apply(templates)"
   ]
  },
  {
   "cell_type": "code",
   "execution_count": null,
   "metadata": {
    "collapsed": false
   },
   "outputs": [],
   "source": []
  },
  {
   "cell_type": "markdown",
   "metadata": {},
   "source": [
    "### Custom features"
   ]
  },
  {
   "cell_type": "raw",
   "metadata": {},
   "source": [
    "Same features as above but we consider frequencies instead of numbers"
   ]
  },
  {
   "cell_type": "code",
   "execution_count": 7,
   "metadata": {
    "collapsed": true
   },
   "outputs": [],
   "source": [
    "df[\"whitespace_chars_norm\"] = df[\"whitespace_chars\"] / df[\"chars\"]\n",
    "df[\"markup_chars_norm\"] = df[\"markup_chars\"] / df[\"chars\"]\n",
    "df[\"cjk_chars_norm\"] = df[\"cjk_chars\"] / df[\"chars\"]\n",
    "df[\"entity_chars_norm\"] = df[\"entity_chars\"] / df[\"chars\"]\n",
    "df[\"url_chars_norm\"] = df[\"url_chars\"] / df[\"chars\"]\n",
    "df[\"word_chars_norm\"] = df[\"word_chars\"] / df[\"chars\"]\n",
    "df[\"uppercase_word_chars_norm\"] = df[\"uppercase_word_chars\"] / df[\"chars\"]\n",
    "df[\"punctuation_chars_norm\"] = df[\"punctuation_chars\"] / df[\"chars\"]\n",
    "df[\"break_chars_norm\"] = df[\"break_chars\"] / df[\"chars\"]\n",
    "df[\"longest_repeated_char_norm\"] = df[\"longest_repeated_char\"] / df[\"chars\"]"
   ]
  },
  {
   "cell_type": "code",
   "execution_count": 8,
   "metadata": {
    "collapsed": true
   },
   "outputs": [],
   "source": [
    "df[\"numbers_norm\"] = df[\"numbers\"] / df[\"tokens\"]\n",
    "df[\"whitespaces_norm\"] = df[\"whitespaces\"] / df[\"tokens\"]\n",
    "df[\"markups_norm\"] = df[\"markups\"] / df[\"tokens\"]\n",
    "df[\"cjks_norm\"] = df[\"cjks\"] / df[\"tokens\"]\n",
    "df[\"entities_norm\"] = df[\"entities\"] / df[\"tokens\"]\n",
    "df[\"urls_norm\"] = df[\"urls\"] / df[\"tokens\"]\n",
    "df[\"words_norm\"] = df[\"words\"] / df[\"tokens\"]\n",
    "df[\"uppercase_words_norm\"] = df[\"uppercase_words\"] / df[\"tokens\"]\n",
    "df[\"punctuations_norm\"] = df[\"punctuations\"] / df[\"tokens\"]\n",
    "df[\"breaks_norm\"] = df[\"breaks\"] / df[\"tokens\"]\n",
    "df[\"longest_token_norm\"] = df[\"longest_token\"] / df[\"tokens\"]"
   ]
  },
  {
   "cell_type": "code",
   "execution_count": 9,
   "metadata": {
    "collapsed": false
   },
   "outputs": [
    {
     "data": {
      "text/plain": [
       "Index(['page_title', 'rev_id', 'creation_timestamp', 'archived',\n",
       "       'draft_quality', 'censored_text', 'chars', 'whitespace_chars',\n",
       "       'markup_chars', 'cjk_chars', 'entity_chars', 'url_chars', 'word_chars',\n",
       "       'uppercase_word_chars', 'punctuation_chars', 'break_chars',\n",
       "       'longest_repeated_char', 'tokens', 'numbers', 'whitespaces', 'markups',\n",
       "       'cjks', 'entities', 'urls', 'words', 'uppercase_words', 'punctuations',\n",
       "       'breaks', 'longest_token', 'longest_word', 'content_chars', 'headings',\n",
       "       'external_links', 'wikilinks', 'tags', 'ref_tags', 'templates',\n",
       "       'whitespace_chars_norm', 'markup_chars_norm', 'cjk_chars_norm',\n",
       "       'entity_chars_norm', 'url_chars_norm', 'word_chars_norm',\n",
       "       'uppercase_word_chars_norm', 'punctuation_chars_norm',\n",
       "       'break_chars_norm', 'longest_repeated_char_norm', 'numbers_norm',\n",
       "       'whitespaces_norm', 'markups_norm', 'cjks_norm', 'entities_norm',\n",
       "       'urls_norm', 'words_norm', 'uppercase_words_norm', 'punctuations_norm',\n",
       "       'breaks_norm', 'longest_token_norm'],\n",
       "      dtype='object')"
      ]
     },
     "execution_count": 9,
     "metadata": {},
     "output_type": "execute_result"
    }
   ],
   "source": [
    "### Recap the columns in the main dataframe\n",
    "df.columns"
   ]
  },
  {
   "cell_type": "code",
   "execution_count": null,
   "metadata": {
    "collapsed": true
   },
   "outputs": [],
   "source": []
  },
  {
   "cell_type": "markdown",
   "metadata": {},
   "source": [
    "### Feature selection "
   ]
  },
  {
   "cell_type": "code",
   "execution_count": null,
   "metadata": {
    "collapsed": true
   },
   "outputs": [],
   "source": []
  },
  {
   "cell_type": "code",
   "execution_count": 10,
   "metadata": {
    "collapsed": true
   },
   "outputs": [],
   "source": [
    "### We consider only the features we've defined above \n",
    "features = df.columns[6:] \n",
    "### We consider only the features we've defined above \n",
    "target = df.columns[4]"
   ]
  },
  {
   "cell_type": "code",
   "execution_count": 11,
   "metadata": {
    "collapsed": false
   },
   "outputs": [
    {
     "name": "stdout",
     "output_type": "stream",
     "text": [
      "[False False False False False False False False False False False False\n",
      " False False False False False False False False False False False False\n",
      " False False  True False False  True False False False False False False\n",
      " False False False False  True False  True False False False False False\n",
      " False False False False]\n",
      "[28 22 19 29 43 27 24 25  7 47  8 26 17 20 11 33 44  4 21  5  6 45 31 13 35\n",
      " 49  1 10 18  1  9 12 16 40 48 32  3 34 30 46  1 36  1 15 39 42 38  2 37 23\n",
      " 41 14]\n"
     ]
    },
    {
     "data": {
      "text/plain": [
       "Index(['external_links', 'ref_tags', 'longest_repeated_char_norm',\n",
       "       'whitespaces_norm'],\n",
       "      dtype='object')"
      ]
     },
     "execution_count": 11,
     "metadata": {},
     "output_type": "execute_result"
    }
   ],
   "source": [
    "# Recursive Feature Elimination\n",
    "from sklearn.feature_selection import RFE\n",
    "from sklearn.linear_model import LogisticRegression\n",
    "\n",
    "# create a base classifier used to evaluate a subset of attributes\n",
    "model = LogisticRegression()\n",
    "# create the RFE model and select 4 attributes\n",
    "rfe = RFE(model, 4)\n",
    "rfe = rfe.fit(df[features], df[target])\n",
    "# summarize the selection of the attributes\n",
    "print(rfe.support_)\n",
    "print(rfe.ranking_)\n",
    "features[rfe.support_]"
   ]
  },
  {
   "cell_type": "code",
   "execution_count": 12,
   "metadata": {
    "collapsed": false
   },
   "outputs": [
    {
     "data": {
      "text/plain": [
       "0.54666666666666663"
      ]
     },
     "execution_count": 12,
     "metadata": {},
     "output_type": "execute_result"
    }
   ],
   "source": [
    "rfe.score(df[features], df[target])"
   ]
  },
  {
   "cell_type": "code",
   "execution_count": 13,
   "metadata": {
    "collapsed": false
   },
   "outputs": [
    {
     "name": "stdout",
     "output_type": "stream",
     "text": [
      "[ 0.02242708  0.02013383  0.00327857  0.003       0.          0.01405852\n",
      "  0.04051879  0.0288158   0.02686494  0.          0.01993469  0.02514189\n",
      "  0.02579609  0.02749638  0.00461111  0.00209474  0.          0.01846405\n",
      "  0.00969322  0.0211931   0.03594521  0.          0.03385794  0.04222701\n",
      "  0.03490241  0.          0.00452698  0.00667216  0.02981208  0.00732097\n",
      "  0.01397508  0.04622916  0.03295663  0.          0.          0.02118819\n",
      "  0.0175171   0.02494762  0.03371686  0.          0.03176076  0.02065031\n",
      "  0.06273696  0.02446866  0.          0.          0.02926535  0.03336858\n",
      "  0.020728    0.05009944  0.          0.02760372]\n"
     ]
    }
   ],
   "source": [
    "# Feature Importance\n",
    "from sklearn import metrics\n",
    "from sklearn.ensemble import ExtraTreesClassifier\n",
    "# fit an Extra Trees model to the data\n",
    "model = ExtraTreesClassifier()\n",
    "model.fit(df[features], df[target])\n",
    "# display the relative importance of each attribute\n",
    "print(model.feature_importances_)"
   ]
  },
  {
   "cell_type": "code",
   "execution_count": 14,
   "metadata": {
    "collapsed": false
   },
   "outputs": [
    {
     "data": {
      "text/plain": [
       "1.0"
      ]
     },
     "execution_count": 14,
     "metadata": {},
     "output_type": "execute_result"
    }
   ],
   "source": [
    "model.score(df[features], df[target])"
   ]
  },
  {
   "cell_type": "code",
   "execution_count": 15,
   "metadata": {
    "collapsed": false
   },
   "outputs": [],
   "source": [
    "from sklearn.cross_validation import train_test_split\n",
    "X_train, X_test, y_train, y_test = train_test_split(df[features], df[target], test_size=0.08, random_state=0)"
   ]
  },
  {
   "cell_type": "code",
   "execution_count": 16,
   "metadata": {
    "collapsed": false
   },
   "outputs": [
    {
     "data": {
      "text/plain": [
       "ExtraTreesClassifier(bootstrap=False, class_weight=None, criterion='gini',\n",
       "           max_depth=None, max_features='auto', max_leaf_nodes=None,\n",
       "           min_samples_leaf=1, min_samples_split=2,\n",
       "           min_weight_fraction_leaf=0.0, n_estimators=10, n_jobs=1,\n",
       "           oob_score=False, random_state=None, verbose=0, warm_start=False)"
      ]
     },
     "execution_count": 16,
     "metadata": {},
     "output_type": "execute_result"
    }
   ],
   "source": [
    "model2 = ExtraTreesClassifier()\n",
    "model2.fit(X_train, y_train)"
   ]
  },
  {
   "cell_type": "code",
   "execution_count": 17,
   "metadata": {
    "collapsed": false
   },
   "outputs": [
    {
     "data": {
      "text/plain": [
       "0.66666666666666663"
      ]
     },
     "execution_count": 17,
     "metadata": {},
     "output_type": "execute_result"
    }
   ],
   "source": [
    "model2.score(X_test,y_test)"
   ]
  },
  {
   "cell_type": "code",
   "execution_count": 18,
   "metadata": {
    "collapsed": false
   },
   "outputs": [
    {
     "data": {
      "text/plain": [
       "52    vandalism\n",
       "57    vandalism\n",
       "22         spam\n",
       "74    vandalism\n",
       "28       attack\n",
       "26       attack\n",
       "Name: draft_quality, dtype: object"
      ]
     },
     "execution_count": 18,
     "metadata": {},
     "output_type": "execute_result"
    }
   ],
   "source": [
    "y_test"
   ]
  },
  {
   "cell_type": "code",
   "execution_count": 19,
   "metadata": {
    "collapsed": false
   },
   "outputs": [
    {
     "data": {
      "text/html": [
       "<div>\n",
       "<table border=\"1\" class=\"dataframe\">\n",
       "  <thead>\n",
       "    <tr style=\"text-align: right;\">\n",
       "      <th></th>\n",
       "      <th>rev_id</th>\n",
       "      <th>creation_timestamp</th>\n",
       "      <th>archived</th>\n",
       "      <th>chars</th>\n",
       "      <th>whitespace_chars</th>\n",
       "      <th>markup_chars</th>\n",
       "      <th>cjk_chars</th>\n",
       "      <th>entity_chars</th>\n",
       "      <th>url_chars</th>\n",
       "      <th>word_chars</th>\n",
       "      <th>...</th>\n",
       "      <th>whitespaces_norm</th>\n",
       "      <th>markups_norm</th>\n",
       "      <th>cjks_norm</th>\n",
       "      <th>entities_norm</th>\n",
       "      <th>urls_norm</th>\n",
       "      <th>words_norm</th>\n",
       "      <th>uppercase_words_norm</th>\n",
       "      <th>punctuations_norm</th>\n",
       "      <th>breaks_norm</th>\n",
       "      <th>longest_token_norm</th>\n",
       "    </tr>\n",
       "  </thead>\n",
       "  <tbody>\n",
       "    <tr>\n",
       "      <th>count</th>\n",
       "      <td>7.500000e+01</td>\n",
       "      <td>7.500000e+01</td>\n",
       "      <td>75.0</td>\n",
       "      <td>75.000000</td>\n",
       "      <td>75.000000</td>\n",
       "      <td>75.000000</td>\n",
       "      <td>75.000000</td>\n",
       "      <td>75.0</td>\n",
       "      <td>75.000000</td>\n",
       "      <td>75.000000</td>\n",
       "      <td>...</td>\n",
       "      <td>75.000000</td>\n",
       "      <td>75.000000</td>\n",
       "      <td>75.000000</td>\n",
       "      <td>75.0</td>\n",
       "      <td>75.000000</td>\n",
       "      <td>75.000000</td>\n",
       "      <td>75.000000</td>\n",
       "      <td>75.000000</td>\n",
       "      <td>75.0</td>\n",
       "      <td>75.000000</td>\n",
       "    </tr>\n",
       "    <tr>\n",
       "      <th>mean</th>\n",
       "      <td>7.055759e+08</td>\n",
       "      <td>2.015705e+13</td>\n",
       "      <td>1.0</td>\n",
       "      <td>2311.813333</td>\n",
       "      <td>331.066667</td>\n",
       "      <td>49.960000</td>\n",
       "      <td>3.533333</td>\n",
       "      <td>0.0</td>\n",
       "      <td>167.786667</td>\n",
       "      <td>1634.026667</td>\n",
       "      <td>...</td>\n",
       "      <td>0.396819</td>\n",
       "      <td>0.025265</td>\n",
       "      <td>0.006040</td>\n",
       "      <td>0.0</td>\n",
       "      <td>0.002316</td>\n",
       "      <td>0.454844</td>\n",
       "      <td>0.013982</td>\n",
       "      <td>0.042309</td>\n",
       "      <td>0.0</td>\n",
       "      <td>0.205263</td>\n",
       "    </tr>\n",
       "    <tr>\n",
       "      <th>std</th>\n",
       "      <td>1.687496e+07</td>\n",
       "      <td>4.548500e+09</td>\n",
       "      <td>0.0</td>\n",
       "      <td>5458.414872</td>\n",
       "      <td>812.644953</td>\n",
       "      <td>225.294908</td>\n",
       "      <td>30.599564</td>\n",
       "      <td>0.0</td>\n",
       "      <td>768.499737</td>\n",
       "      <td>3945.208764</td>\n",
       "      <td>...</td>\n",
       "      <td>0.097645</td>\n",
       "      <td>0.061800</td>\n",
       "      <td>0.052307</td>\n",
       "      <td>0.0</td>\n",
       "      <td>0.004710</td>\n",
       "      <td>0.081163</td>\n",
       "      <td>0.043556</td>\n",
       "      <td>0.026546</td>\n",
       "      <td>0.0</td>\n",
       "      <td>0.250185</td>\n",
       "    </tr>\n",
       "    <tr>\n",
       "      <th>min</th>\n",
       "      <td>6.770522e+08</td>\n",
       "      <td>2.015082e+13</td>\n",
       "      <td>1.0</td>\n",
       "      <td>1.000000</td>\n",
       "      <td>0.000000</td>\n",
       "      <td>0.000000</td>\n",
       "      <td>0.000000</td>\n",
       "      <td>0.0</td>\n",
       "      <td>0.000000</td>\n",
       "      <td>1.000000</td>\n",
       "      <td>...</td>\n",
       "      <td>0.000000</td>\n",
       "      <td>0.000000</td>\n",
       "      <td>0.000000</td>\n",
       "      <td>0.0</td>\n",
       "      <td>0.000000</td>\n",
       "      <td>0.210256</td>\n",
       "      <td>0.000000</td>\n",
       "      <td>0.000000</td>\n",
       "      <td>0.0</td>\n",
       "      <td>0.001913</td>\n",
       "    </tr>\n",
       "    <tr>\n",
       "      <th>25%</th>\n",
       "      <td>6.905391e+08</td>\n",
       "      <td>2.015111e+13</td>\n",
       "      <td>1.0</td>\n",
       "      <td>168.000000</td>\n",
       "      <td>29.500000</td>\n",
       "      <td>0.000000</td>\n",
       "      <td>0.000000</td>\n",
       "      <td>0.0</td>\n",
       "      <td>0.000000</td>\n",
       "      <td>126.500000</td>\n",
       "      <td>...</td>\n",
       "      <td>0.384018</td>\n",
       "      <td>0.000000</td>\n",
       "      <td>0.000000</td>\n",
       "      <td>0.0</td>\n",
       "      <td>0.000000</td>\n",
       "      <td>0.430794</td>\n",
       "      <td>0.000000</td>\n",
       "      <td>0.023999</td>\n",
       "      <td>0.0</td>\n",
       "      <td>0.042273</td>\n",
       "    </tr>\n",
       "    <tr>\n",
       "      <th>50%</th>\n",
       "      <td>7.073848e+08</td>\n",
       "      <td>2.016023e+13</td>\n",
       "      <td>1.0</td>\n",
       "      <td>631.000000</td>\n",
       "      <td>93.000000</td>\n",
       "      <td>0.000000</td>\n",
       "      <td>0.000000</td>\n",
       "      <td>0.0</td>\n",
       "      <td>0.000000</td>\n",
       "      <td>453.000000</td>\n",
       "      <td>...</td>\n",
       "      <td>0.419355</td>\n",
       "      <td>0.000000</td>\n",
       "      <td>0.000000</td>\n",
       "      <td>0.0</td>\n",
       "      <td>0.000000</td>\n",
       "      <td>0.456989</td>\n",
       "      <td>0.003135</td>\n",
       "      <td>0.042503</td>\n",
       "      <td>0.0</td>\n",
       "      <td>0.114754</td>\n",
       "    </tr>\n",
       "    <tr>\n",
       "      <th>75%</th>\n",
       "      <td>7.215654e+08</td>\n",
       "      <td>2.016052e+13</td>\n",
       "      <td>1.0</td>\n",
       "      <td>1715.000000</td>\n",
       "      <td>253.000000</td>\n",
       "      <td>12.000000</td>\n",
       "      <td>0.000000</td>\n",
       "      <td>0.0</td>\n",
       "      <td>43.000000</td>\n",
       "      <td>1167.500000</td>\n",
       "      <td>...</td>\n",
       "      <td>0.453685</td>\n",
       "      <td>0.020739</td>\n",
       "      <td>0.000000</td>\n",
       "      <td>0.0</td>\n",
       "      <td>0.003194</td>\n",
       "      <td>0.474541</td>\n",
       "      <td>0.011230</td>\n",
       "      <td>0.056349</td>\n",
       "      <td>0.0</td>\n",
       "      <td>0.250193</td>\n",
       "    </tr>\n",
       "    <tr>\n",
       "      <th>max</th>\n",
       "      <td>7.318231e+08</td>\n",
       "      <td>2.016073e+13</td>\n",
       "      <td>1.0</td>\n",
       "      <td>36704.000000</td>\n",
       "      <td>6167.000000</td>\n",
       "      <td>1619.000000</td>\n",
       "      <td>265.000000</td>\n",
       "      <td>0.0</td>\n",
       "      <td>6461.000000</td>\n",
       "      <td>29072.000000</td>\n",
       "      <td>...</td>\n",
       "      <td>0.499863</td>\n",
       "      <td>0.400000</td>\n",
       "      <td>0.452991</td>\n",
       "      <td>0.0</td>\n",
       "      <td>0.022727</td>\n",
       "      <td>1.000000</td>\n",
       "      <td>0.340909</td>\n",
       "      <td>0.117647</td>\n",
       "      <td>0.0</td>\n",
       "      <td>1.113636</td>\n",
       "    </tr>\n",
       "  </tbody>\n",
       "</table>\n",
       "<p>8 rows × 55 columns</p>\n",
       "</div>"
      ],
      "text/plain": [
       "             rev_id  creation_timestamp  archived         chars  \\\n",
       "count  7.500000e+01        7.500000e+01      75.0     75.000000   \n",
       "mean   7.055759e+08        2.015705e+13       1.0   2311.813333   \n",
       "std    1.687496e+07        4.548500e+09       0.0   5458.414872   \n",
       "min    6.770522e+08        2.015082e+13       1.0      1.000000   \n",
       "25%    6.905391e+08        2.015111e+13       1.0    168.000000   \n",
       "50%    7.073848e+08        2.016023e+13       1.0    631.000000   \n",
       "75%    7.215654e+08        2.016052e+13       1.0   1715.000000   \n",
       "max    7.318231e+08        2.016073e+13       1.0  36704.000000   \n",
       "\n",
       "       whitespace_chars  markup_chars   cjk_chars  entity_chars    url_chars  \\\n",
       "count         75.000000     75.000000   75.000000          75.0    75.000000   \n",
       "mean         331.066667     49.960000    3.533333           0.0   167.786667   \n",
       "std          812.644953    225.294908   30.599564           0.0   768.499737   \n",
       "min            0.000000      0.000000    0.000000           0.0     0.000000   \n",
       "25%           29.500000      0.000000    0.000000           0.0     0.000000   \n",
       "50%           93.000000      0.000000    0.000000           0.0     0.000000   \n",
       "75%          253.000000     12.000000    0.000000           0.0    43.000000   \n",
       "max         6167.000000   1619.000000  265.000000           0.0  6461.000000   \n",
       "\n",
       "         word_chars         ...          whitespaces_norm  markups_norm  \\\n",
       "count     75.000000         ...                 75.000000     75.000000   \n",
       "mean    1634.026667         ...                  0.396819      0.025265   \n",
       "std     3945.208764         ...                  0.097645      0.061800   \n",
       "min        1.000000         ...                  0.000000      0.000000   \n",
       "25%      126.500000         ...                  0.384018      0.000000   \n",
       "50%      453.000000         ...                  0.419355      0.000000   \n",
       "75%     1167.500000         ...                  0.453685      0.020739   \n",
       "max    29072.000000         ...                  0.499863      0.400000   \n",
       "\n",
       "       cjks_norm  entities_norm  urls_norm  words_norm  uppercase_words_norm  \\\n",
       "count  75.000000           75.0  75.000000   75.000000             75.000000   \n",
       "mean    0.006040            0.0   0.002316    0.454844              0.013982   \n",
       "std     0.052307            0.0   0.004710    0.081163              0.043556   \n",
       "min     0.000000            0.0   0.000000    0.210256              0.000000   \n",
       "25%     0.000000            0.0   0.000000    0.430794              0.000000   \n",
       "50%     0.000000            0.0   0.000000    0.456989              0.003135   \n",
       "75%     0.000000            0.0   0.003194    0.474541              0.011230   \n",
       "max     0.452991            0.0   0.022727    1.000000              0.340909   \n",
       "\n",
       "       punctuations_norm  breaks_norm  longest_token_norm  \n",
       "count          75.000000         75.0           75.000000  \n",
       "mean            0.042309          0.0            0.205263  \n",
       "std             0.026546          0.0            0.250185  \n",
       "min             0.000000          0.0            0.001913  \n",
       "25%             0.023999          0.0            0.042273  \n",
       "50%             0.042503          0.0            0.114754  \n",
       "75%             0.056349          0.0            0.250193  \n",
       "max             0.117647          0.0            1.113636  \n",
       "\n",
       "[8 rows x 55 columns]"
      ]
     },
     "execution_count": 19,
     "metadata": {},
     "output_type": "execute_result"
    }
   ],
   "source": [
    "df.describe()"
   ]
  },
  {
   "cell_type": "code",
   "execution_count": 20,
   "metadata": {
    "collapsed": false
   },
   "outputs": [
    {
     "data": {
      "text/plain": [
       "array([[<matplotlib.axes._subplots.AxesSubplot object at 0x7f31c8d50710>,\n",
       "        <matplotlib.axes._subplots.AxesSubplot object at 0x7f31c8c7db38>],\n",
       "       [<matplotlib.axes._subplots.AxesSubplot object at 0x7f31c8c88828>,\n",
       "        <matplotlib.axes._subplots.AxesSubplot object at 0x7f31c6be92b0>]], dtype=object)"
      ]
     },
     "execution_count": 20,
     "metadata": {},
     "output_type": "execute_result"
    },
    {
     "data": {
      "image/png": "[encoded data removed]",
      "text/plain": [
       "<matplotlib.figure.Figure at 0x7f31c8d50978>"
      ]
     },
     "metadata": {},
     "output_type": "display_data"
    }
   ],
   "source": [
    "df.boxplot(by='draft_quality', column=['external_links', 'ref_tags', 'whitespaces_norm', 'longest_repeated_char_norm'], figsize=(15,15))"
   ]
  },
  {
   "cell_type": "code",
   "execution_count": 21,
   "metadata": {
    "collapsed": false
   },
   "outputs": [
    {
     "name": "stdout",
     "output_type": "stream",
     "text": [
      "Feature ranking:\n",
      "1. feature 49 (0.048787)\n",
      "2. feature 31 (0.045785)\n",
      "3. feature 42 (0.040480)\n",
      "4. feature 38 (0.033654)\n",
      "5. feature 41 (0.033084)\n",
      "6. feature 12 (0.033045)\n",
      "7. feature 8 (0.032515)\n",
      "8. feature 24 (0.031702)\n",
      "9. feature 22 (0.031495)\n",
      "10. feature 35 (0.030968)\n",
      "11. feature 20 (0.029690)\n",
      "12. feature 7 (0.028881)\n",
      "13. feature 46 (0.028815)\n",
      "14. feature 40 (0.028371)\n",
      "15. feature 36 (0.027828)\n",
      "16. feature 23 (0.027645)\n",
      "17. feature 0 (0.027449)\n",
      "18. feature 19 (0.026808)\n",
      "19. feature 6 (0.026189)\n",
      "20. feature 13 (0.025778)\n",
      "21. feature 47 (0.025613)\n",
      "22. feature 51 (0.025340)\n",
      "23. feature 11 (0.024404)\n",
      "24. feature 48 (0.023871)\n",
      "25. feature 18 (0.023631)\n",
      "26. feature 10 (0.023285)\n",
      "27. feature 1 (0.023002)\n",
      "28. feature 37 (0.021291)\n",
      "29. feature 17 (0.020924)\n",
      "30. feature 32 (0.020282)\n",
      "31. feature 28 (0.019252)\n",
      "32. feature 5 (0.018532)\n",
      "33. feature 26 (0.018427)\n",
      "34. feature 43 (0.017161)\n",
      "35. feature 14 (0.014858)\n",
      "36. feature 2 (0.011967)\n",
      "37. feature 29 (0.009797)\n",
      "38. feature 27 (0.008311)\n",
      "39. feature 30 (0.007093)\n",
      "40. feature 15 (0.001569)\n",
      "41. feature 33 (0.000889)\n",
      "42. feature 3 (0.000767)\n",
      "43. feature 44 (0.000766)\n",
      "44. feature 39 (0.000000)\n",
      "45. feature 16 (0.000000)\n",
      "46. feature 34 (0.000000)\n",
      "47. feature 21 (0.000000)\n",
      "48. feature 9 (0.000000)\n",
      "49. feature 45 (0.000000)\n",
      "50. feature 4 (0.000000)\n",
      "51. feature 50 (0.000000)\n",
      "52. feature 25 (0.000000)\n"
     ]
    },
    {
     "data": {
      "image/png": "[encoded data removed]",
      "text/plain": [
       "<matplotlib.figure.Figure at 0x7f31c6a7ac18>"
      ]
     },
     "metadata": {},
     "output_type": "display_data"
    }
   ],
   "source": [
    "\n",
    "X = df[features]\n",
    "y = df[target]\n",
    "# Build a forest and compute the feature importances\n",
    "forest = ExtraTreesClassifier(n_estimators=250,\n",
    "                              random_state=0)\n",
    "\n",
    "forest.fit(X, y)\n",
    "importances = forest.feature_importances_\n",
    "std = np.std([tree.feature_importances_ for tree in forest.estimators_],\n",
    "             axis=0)\n",
    "indices = np.argsort(importances)[::-1]\n",
    "\n",
    "# Print the feature ranking\n",
    "print(\"Feature ranking:\")\n",
    "\n",
    "for f in range(X.shape[1]):\n",
    "    print(\"%d. feature %d (%f)\" % (f + 1, indices[f], importances[indices[f]]))\n",
    "\n",
    "# Plot the feature importances of the forest\n",
    "plt.figure()\n",
    "plt.title(\"Feature importances\")\n",
    "plt.bar(range(X.shape[1]), importances[indices],\n",
    "       color=\"r\", yerr=std[indices], align=\"center\")\n",
    "plt.xticks(range(X.shape[1]), indices)\n",
    "plt.xlim([-1, X.shape[1]])\n",
    "plt.show()"
   ]
  },
  {
   "cell_type": "code",
   "execution_count": 22,
   "metadata": {
    "collapsed": false
   },
   "outputs": [
    {
     "data": {
      "text/plain": [
       "1.0"
      ]
     },
     "execution_count": 22,
     "metadata": {},
     "output_type": "execute_result"
    }
   ],
   "source": [
    "forest.score(X,y)"
   ]
  },
  {
   "cell_type": "markdown",
   "metadata": {},
   "source": [
    "### Univariate Selection"
   ]
  },
  {
   "cell_type": "code",
   "execution_count": 23,
   "metadata": {
    "collapsed": false
   },
   "outputs": [
    {
     "name": "stdout",
     "output_type": "stream",
     "text": [
      "[  1.21181914e+04   3.43480387e+02   1.66958687e+03   5.30000000e+02\n",
      "              nan   1.69586631e+04   4.24289131e+03   5.75900990e+02\n",
      "   4.58051635e+01              nan   2.86614173e+00   1.75225663e+03\n",
      "   1.27789474e+02   2.86531485e+02   9.43257957e+02   5.30000000e+02\n",
      "              nan   2.47869565e+02   4.95796198e+02   1.35363344e+02\n",
      "   3.68792373e+01              nan   1.26442403e+03   1.47293869e+01\n",
      "   2.54033536e+03              nan   2.59559322e+02   4.69588629e+02\n",
      "   1.17694444e+02   1.40971429e+02   9.92352941e+01   5.60449245e-02\n",
      "   7.10438701e-01   4.66960352e-01              nan   1.66404708e+00\n",
      "   2.59905456e-02   2.20812921e-01   1.87301396e-01              nan\n",
      "   1.83804595e+00   9.40823038e-02   1.61861986e-01   5.91254042e-01\n",
      "   9.05982906e-01              nan   1.17471543e-01   4.18547839e-02\n",
      "   2.82942520e-01   8.80110451e-02              nan   3.88146133e-01]\n",
      "[ True False  True False False  True  True False False False False  True\n",
      " False False False False False False False False False False False False\n",
      "  True False False False False False False False False False False False\n",
      " False False False False False False False False False False False False\n",
      " False False False False]\n"
     ]
    },
    {
     "name": "stderr",
     "output_type": "stream",
     "text": [
      "/root/.local/lib/python3.4/site-packages/sklearn/feature_selection/univariate_selection.py:165: RuntimeWarning: invalid value encountered in true_divide\n",
      "  chisq /= f_exp\n"
     ]
    },
    {
     "data": {
      "text/plain": [
       "Index(['chars', 'markup_chars', 'url_chars', 'word_chars', 'tokens',\n",
       "       'content_chars'],\n",
       "      dtype='object')"
      ]
     },
     "execution_count": 23,
     "metadata": {},
     "output_type": "execute_result"
    }
   ],
   "source": [
    "from sklearn.feature_selection import SelectKBest\n",
    "from sklearn.feature_selection import chi2\n",
    "modelKbest = SelectKBest(chi2, k=6)\n",
    "fit=modelKbest.fit(df[features], df[target])\n",
    "newFeatures = fit.transform(df[features])\n",
    "print(fit.scores_)\n",
    "#print(newFeatures[0:5,:])\n",
    "print(fit.get_support())\n",
    "features[fit.get_support()]"
   ]
  },
  {
   "cell_type": "markdown",
   "metadata": {},
   "source": [
    "### PCA"
   ]
  },
  {
   "cell_type": "code",
   "execution_count": 28,
   "metadata": {
    "collapsed": false
   },
   "outputs": [
    {
     "name": "stdout",
     "output_type": "stream",
     "text": [
      "[ 0.31947328  0.13826693  0.10669993  0.09154999  0.07189913  0.058532\n",
      "  0.04216894  0.03833435  0.02857489  0.02313594]\n"
     ]
    }
   ],
   "source": [
    "from sklearn.decomposition import PCA\n",
    "from sklearn import preprocessing\n",
    "newf=preprocessing.scale(df[features]) #normalisation\n",
    "pca = PCA(n_components=10)\n",
    "pca.fit(newf)\n",
    "print(pca.explained_variance_ratio_)"
   ]
  },
  {
   "cell_type": "code",
   "execution_count": 25,
   "metadata": {
    "collapsed": true
   },
   "outputs": [],
   "source": []
  },
  {
   "cell_type": "code",
   "execution_count": null,
   "metadata": {
    "collapsed": true
   },
   "outputs": [],
   "source": []
  }
 ],
 "metadata": {
  "kernelspec": {
   "display_name": "Python 3",
   "language": "python",
   "name": "python3"
  },
  "language_info": {
   "codemirror_mode": {
    "name": "ipython",
    "version": 3
   },
   "file_extension": ".py",
   "mimetype": "text/x-python",
   "name": "python",
   "nbconvert_exporter": "python",
   "pygments_lexer": "ipython3",
   "version": "3.4.3"
  }
 },
 "nbformat": 4,
 "nbformat_minor": 0
}
