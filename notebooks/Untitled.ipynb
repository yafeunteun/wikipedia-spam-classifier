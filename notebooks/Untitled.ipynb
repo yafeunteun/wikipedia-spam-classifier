{
 "cells": [
  {
   "cell_type": "code",
   "execution_count": 1,
   "metadata": {
    "collapsed": false
   },
   "outputs": [
    {
     "name": "stdout",
     "output_type": "stream",
     "text": [
      "Requirement already satisfied (use --upgrade to upgrade): pandas in /usr/local/lib/python3.4/dist-packages\n",
      "Requirement already satisfied (use --upgrade to upgrade): numpy>=1.7.0 in /usr/lib/python3/dist-packages (from pandas)\n",
      "Requirement already satisfied (use --upgrade to upgrade): python-dateutil>=2 in /usr/local/lib/python3.4/dist-packages (from pandas)\n",
      "Requirement already satisfied (use --upgrade to upgrade): pytz>=2011k in /root/.local/lib/python3.4/site-packages (from pandas)\n",
      "Requirement already satisfied (use --upgrade to upgrade): six>=1.5 in /usr/local/lib/python3.4/dist-packages (from python-dateutil>=2->pandas)\n",
      "\u001b[33mYou are using pip version 8.1.2, however version 9.0.1 is available.\n",
      "You should consider upgrading via the 'pip install --upgrade pip' command.\u001b[0m\n",
      "Requirement already satisfied (use --upgrade to upgrade): matplotlib in /usr/local/lib/python3.4/dist-packages\n",
      "Requirement already satisfied (use --upgrade to upgrade): pyparsing!=2.0.0,!=2.0.4,!=2.1.2,>=1.5.6 in /usr/local/lib/python3.4/dist-packages (from matplotlib)\n",
      "Requirement already satisfied (use --upgrade to upgrade): numpy>=1.6 in /usr/lib/python3/dist-packages (from matplotlib)\n",
      "Requirement already satisfied (use --upgrade to upgrade): python-dateutil in /usr/local/lib/python3.4/dist-packages (from matplotlib)\n",
      "Requirement already satisfied (use --upgrade to upgrade): cycler in /usr/local/lib/python3.4/dist-packages (from matplotlib)\n",
      "Requirement already satisfied (use --upgrade to upgrade): pytz in /root/.local/lib/python3.4/site-packages (from matplotlib)\n",
      "Requirement already satisfied (use --upgrade to upgrade): six>=1.5 in /usr/local/lib/python3.4/dist-packages (from python-dateutil->matplotlib)\n",
      "\u001b[33mYou are using pip version 8.1.2, however version 9.0.1 is available.\n",
      "You should consider upgrading via the 'pip install --upgrade pip' command.\u001b[0m\n",
      "Reading package lists... Done\n",
      "Building dependency tree       \n",
      "Reading state information... Done\n",
      "The following extra packages will be installed:\n",
      "  blt libtcl8.6 libtk8.6 libxft2 libxss1\n",
      "Suggested packages:\n",
      "  blt-demo tcl8.6 tk8.6 tix python3-tk-dbg\n",
      "The following NEW packages will be installed:\n",
      "  blt libtcl8.6 libtk8.6 libxft2 libxss1 python3-tk\n",
      "0 upgraded, 6 newly installed, 0 to remove and 0 not upgraded.\n",
      "Need to get 2,151 kB of archives.\n",
      "After this operation, 8,963 kB of additional disk space will be used.\n",
      "Get:1 http://archive.ubuntu.com/ubuntu/ trusty/main libtcl8.6 amd64 8.6.1-4ubuntu1 [841 kB]\n",
      "Get:2 http://archive.ubuntu.com/ubuntu/ trusty/main libxft2 amd64 2.3.1-2 [36.2 kB]\n",
      "Get:3 http://archive.ubuntu.com/ubuntu/ trusty/main libxss1 amd64 1:1.2.2-1 [8,582 B]\n",
      "Get:4 http://archive.ubuntu.com/ubuntu/ trusty/main libtk8.6 amd64 8.6.1-3ubuntu2 [689 kB]\n",
      "Get:5 http://archive.ubuntu.com/ubuntu/ trusty/main blt amd64 2.4z-7ubuntu2 [553 kB]\n",
      "Get:6 http://archive.ubuntu.com/ubuntu/ trusty-updates/main python3-tk amd64 3.4.3-1~14.04.2 [23.5 kB]\n",
      "Fetched 2,151 kB in 5s (420 kB/s)\n",
      "Selecting previously unselected package libtcl8.6:amd64.\n",
      "(Reading database ... 34611 files and directories currently installed.)\n",
      "Preparing to unpack .../libtcl8.6_8.6.1-4ubuntu1_amd64.deb ...\n",
      "Unpacking libtcl8.6:amd64 (8.6.1-4ubuntu1) ...\n",
      "Selecting previously unselected package libxft2:amd64.\n",
      "Preparing to unpack .../libxft2_2.3.1-2_amd64.deb ...\n",
      "Unpacking libxft2:amd64 (2.3.1-2) ...\n",
      "Selecting previously unselected package libxss1:amd64.\n",
      "Preparing to unpack .../libxss1_1%3a1.2.2-1_amd64.deb ...\n",
      "Unpacking libxss1:amd64 (1:1.2.2-1) ...\n",
      "Selecting previously unselected package libtk8.6:amd64.\n",
      "Preparing to unpack .../libtk8.6_8.6.1-3ubuntu2_amd64.deb ...\n",
      "Unpacking libtk8.6:amd64 (8.6.1-3ubuntu2) ...\n",
      "Selecting previously unselected package blt.\n",
      "Preparing to unpack .../blt_2.4z-7ubuntu2_amd64.deb ...\n",
      "Unpacking blt (2.4z-7ubuntu2) ...\n",
      "Selecting previously unselected package python3-tk.\n",
      "Preparing to unpack .../python3-tk_3.4.3-1~14.04.2_amd64.deb ...\n",
      "Unpacking python3-tk (3.4.3-1~14.04.2) ...\n",
      "Setting up libtcl8.6:amd64 (8.6.1-4ubuntu1) ...\n",
      "Setting up libxft2:amd64 (2.3.1-2) ...\n",
      "Setting up libxss1:amd64 (1:1.2.2-1) ...\n",
      "Setting up libtk8.6:amd64 (8.6.1-3ubuntu2) ...\n",
      "Setting up blt (2.4z-7ubuntu2) ...\n",
      "Setting up python3-tk (3.4.3-1~14.04.2) ...\n",
      "Processing triggers for libc-bin (2.19-0ubuntu6.9) ...\n"
     ]
    }
   ],
   "source": [
    "! sudo pip install pandas\n",
    "! sudo pip install matplotlib\n",
    "! sudo apt-get -y install python3-tk"
   ]
  },
  {
   "cell_type": "code",
   "execution_count": 2,
   "metadata": {
    "collapsed": false
   },
   "outputs": [],
   "source": [
    "import pandas as pd\n",
    "import re\n",
    "import matplotlib.pyplot as plt\n",
    "import numpy as np\n",
    "%matplotlib inline"
   ]
  },
  {
   "cell_type": "code",
   "execution_count": 3,
   "metadata": {
    "collapsed": false
   },
   "outputs": [],
   "source": [
    "df = pd.read_csv(\"./data/enwiki.draft_quality.75_not_OK_sample.censored.tsv\", sep=\"\\t\")"
   ]
  },
  {
   "cell_type": "code",
   "execution_count": 4,
   "metadata": {
    "collapsed": false
   },
   "outputs": [
    {
     "data": {
      "text/html": [
       "<div>\n",
       "<table border=\"1\" class=\"dataframe\">\n",
       "  <thead>\n",
       "    <tr style=\"text-align: right;\">\n",
       "      <th></th>\n",
       "      <th>page_title</th>\n",
       "      <th>rev_id</th>\n",
       "      <th>creation_timestamp</th>\n",
       "      <th>archived</th>\n",
       "      <th>draft_quality</th>\n",
       "      <th>censored_text</th>\n",
       "    </tr>\n",
       "  </thead>\n",
       "  <tbody>\n",
       "    <tr>\n",
       "      <th>0</th>\n",
       "      <td>Government_Achuthan_girls_hss</td>\n",
       "      <td>688249460</td>\n",
       "      <td>20151030165831</td>\n",
       "      <td>1</td>\n",
       "      <td>spam</td>\n",
       "      <td>125 years ago APPU NEDUNGADI  STARTED THIS SCH...</td>\n",
       "    </tr>\n",
       "    <tr>\n",
       "      <th>1</th>\n",
       "      <td>Spiromax_EDMS</td>\n",
       "      <td>731688963</td>\n",
       "      <td>20160726220726</td>\n",
       "      <td>1</td>\n",
       "      <td>spam</td>\n",
       "      <td>Spiromax is a British technology media and com...</td>\n",
       "    </tr>\n",
       "    <tr>\n",
       "      <th>2</th>\n",
       "      <td>Steph_Curry_UA_2</td>\n",
       "      <td>693824273</td>\n",
       "      <td>20151205035603</td>\n",
       "      <td>1</td>\n",
       "      <td>spam</td>\n",
       "      <td>The Steph Curry UA two Shoes are a hot-selling...</td>\n",
       "    </tr>\n",
       "    <tr>\n",
       "      <th>3</th>\n",
       "      <td>Valletta_Cruise_Port</td>\n",
       "      <td>722151405</td>\n",
       "      <td>20160526085302</td>\n",
       "      <td>1</td>\n",
       "      <td>spam</td>\n",
       "      <td>''Valletta Cruise Port plc''' is a private com...</td>\n",
       "    </tr>\n",
       "    <tr>\n",
       "      <th>4</th>\n",
       "      <td>RWG_Mobile</td>\n",
       "      <td>731355950</td>\n",
       "      <td>20160724204124</td>\n",
       "      <td>1</td>\n",
       "      <td>spam</td>\n",
       "      <td>[[File:RWGmobile.png|thumb|RWG Mobile logo]]\\n...</td>\n",
       "    </tr>\n",
       "  </tbody>\n",
       "</table>\n",
       "</div>"
      ],
      "text/plain": [
       "                      page_title     rev_id  creation_timestamp  archived  \\\n",
       "0  Government_Achuthan_girls_hss  688249460      20151030165831         1   \n",
       "1                  Spiromax_EDMS  731688963      20160726220726         1   \n",
       "2               Steph_Curry_UA_2  693824273      20151205035603         1   \n",
       "3           Valletta_Cruise_Port  722151405      20160526085302         1   \n",
       "4                     RWG_Mobile  731355950      20160724204124         1   \n",
       "\n",
       "  draft_quality                                      censored_text  \n",
       "0          spam  125 years ago APPU NEDUNGADI  STARTED THIS SCH...  \n",
       "1          spam  Spiromax is a British technology media and com...  \n",
       "2          spam  The Steph Curry UA two Shoes are a hot-selling...  \n",
       "3          spam  ''Valletta Cruise Port plc''' is a private com...  \n",
       "4          spam  [[File:RWGmobile.png|thumb|RWG Mobile logo]]\\n...  "
      ]
     },
     "execution_count": 4,
     "metadata": {},
     "output_type": "execute_result"
    }
   ],
   "source": [
    "df.head()"
   ]
  },
  {
   "cell_type": "code",
   "execution_count": 5,
   "metadata": {
    "collapsed": false
   },
   "outputs": [],
   "source": [
    "df[\"len_text\"] = df[\"censored_text\"].apply(len)"
   ]
  },
  {
   "cell_type": "code",
   "execution_count": 6,
   "metadata": {
    "collapsed": false
   },
   "outputs": [
    {
     "data": {
      "text/html": [
       "<div>\n",
       "<table border=\"1\" class=\"dataframe\">\n",
       "  <thead>\n",
       "    <tr style=\"text-align: right;\">\n",
       "      <th></th>\n",
       "      <th>page_title</th>\n",
       "      <th>rev_id</th>\n",
       "      <th>creation_timestamp</th>\n",
       "      <th>archived</th>\n",
       "      <th>draft_quality</th>\n",
       "      <th>censored_text</th>\n",
       "      <th>len_text</th>\n",
       "    </tr>\n",
       "  </thead>\n",
       "  <tbody>\n",
       "    <tr>\n",
       "      <th>0</th>\n",
       "      <td>Government_Achuthan_girls_hss</td>\n",
       "      <td>688249460</td>\n",
       "      <td>20151030165831</td>\n",
       "      <td>1</td>\n",
       "      <td>spam</td>\n",
       "      <td>125 years ago APPU NEDUNGADI  STARTED THIS SCH...</td>\n",
       "      <td>195</td>\n",
       "    </tr>\n",
       "    <tr>\n",
       "      <th>1</th>\n",
       "      <td>Spiromax_EDMS</td>\n",
       "      <td>731688963</td>\n",
       "      <td>20160726220726</td>\n",
       "      <td>1</td>\n",
       "      <td>spam</td>\n",
       "      <td>Spiromax is a British technology media and com...</td>\n",
       "      <td>989</td>\n",
       "    </tr>\n",
       "    <tr>\n",
       "      <th>2</th>\n",
       "      <td>Steph_Curry_UA_2</td>\n",
       "      <td>693824273</td>\n",
       "      <td>20151205035603</td>\n",
       "      <td>1</td>\n",
       "      <td>spam</td>\n",
       "      <td>The Steph Curry UA two Shoes are a hot-selling...</td>\n",
       "      <td>543</td>\n",
       "    </tr>\n",
       "    <tr>\n",
       "      <th>3</th>\n",
       "      <td>Valletta_Cruise_Port</td>\n",
       "      <td>722151405</td>\n",
       "      <td>20160526085302</td>\n",
       "      <td>1</td>\n",
       "      <td>spam</td>\n",
       "      <td>''Valletta Cruise Port plc''' is a private com...</td>\n",
       "      <td>2980</td>\n",
       "    </tr>\n",
       "    <tr>\n",
       "      <th>4</th>\n",
       "      <td>RWG_Mobile</td>\n",
       "      <td>731355950</td>\n",
       "      <td>20160724204124</td>\n",
       "      <td>1</td>\n",
       "      <td>spam</td>\n",
       "      <td>[[File:RWGmobile.png|thumb|RWG Mobile logo]]\\n...</td>\n",
       "      <td>2099</td>\n",
       "    </tr>\n",
       "  </tbody>\n",
       "</table>\n",
       "</div>"
      ],
      "text/plain": [
       "                      page_title     rev_id  creation_timestamp  archived  \\\n",
       "0  Government_Achuthan_girls_hss  688249460      20151030165831         1   \n",
       "1                  Spiromax_EDMS  731688963      20160726220726         1   \n",
       "2               Steph_Curry_UA_2  693824273      20151205035603         1   \n",
       "3           Valletta_Cruise_Port  722151405      20160526085302         1   \n",
       "4                     RWG_Mobile  731355950      20160724204124         1   \n",
       "\n",
       "  draft_quality                                      censored_text  len_text  \n",
       "0          spam  125 years ago APPU NEDUNGADI  STARTED THIS SCH...       195  \n",
       "1          spam  Spiromax is a British technology media and com...       989  \n",
       "2          spam  The Steph Curry UA two Shoes are a hot-selling...       543  \n",
       "3          spam  ''Valletta Cruise Port plc''' is a private com...      2980  \n",
       "4          spam  [[File:RWGmobile.png|thumb|RWG Mobile logo]]\\n...      2099  "
      ]
     },
     "execution_count": 6,
     "metadata": {},
     "output_type": "execute_result"
    }
   ],
   "source": [
    "df.head()"
   ]
  },
  {
   "cell_type": "code",
   "execution_count": 7,
   "metadata": {
    "collapsed": true
   },
   "outputs": [],
   "source": [
    "find_urls = lambda x: re.findall('http[s]?://(?:[a-zA-Z]|[0-9]|[$-_@.&+]|[!*\\(\\),]|(?:%[0-9a-fA-F][0-9a-fA-F]))+', x)"
   ]
  },
  {
   "cell_type": "code",
   "execution_count": 8,
   "metadata": {
    "collapsed": false
   },
   "outputs": [],
   "source": [
    "df[\"urls\"] = df[\"censored_text\"].apply(find_urls)"
   ]
  },
  {
   "cell_type": "code",
   "execution_count": 9,
   "metadata": {
    "collapsed": false
   },
   "outputs": [
    {
     "data": {
      "text/html": [
       "<div>\n",
       "<table border=\"1\" class=\"dataframe\">\n",
       "  <thead>\n",
       "    <tr style=\"text-align: right;\">\n",
       "      <th></th>\n",
       "      <th>page_title</th>\n",
       "      <th>rev_id</th>\n",
       "      <th>creation_timestamp</th>\n",
       "      <th>archived</th>\n",
       "      <th>draft_quality</th>\n",
       "      <th>censored_text</th>\n",
       "      <th>len_text</th>\n",
       "      <th>urls</th>\n",
       "    </tr>\n",
       "  </thead>\n",
       "  <tbody>\n",
       "    <tr>\n",
       "      <th>0</th>\n",
       "      <td>Government_Achuthan_girls_hss</td>\n",
       "      <td>688249460</td>\n",
       "      <td>20151030165831</td>\n",
       "      <td>1</td>\n",
       "      <td>spam</td>\n",
       "      <td>125 years ago APPU NEDUNGADI  STARTED THIS SCH...</td>\n",
       "      <td>195</td>\n",
       "      <td>[https://www.facebook.com/groups/4806262819778...</td>\n",
       "    </tr>\n",
       "    <tr>\n",
       "      <th>1</th>\n",
       "      <td>Spiromax_EDMS</td>\n",
       "      <td>731688963</td>\n",
       "      <td>20160726220726</td>\n",
       "      <td>1</td>\n",
       "      <td>spam</td>\n",
       "      <td>Spiromax is a British technology media and com...</td>\n",
       "      <td>989</td>\n",
       "      <td>[]</td>\n",
       "    </tr>\n",
       "    <tr>\n",
       "      <th>2</th>\n",
       "      <td>Steph_Curry_UA_2</td>\n",
       "      <td>693824273</td>\n",
       "      <td>20151205035603</td>\n",
       "      <td>1</td>\n",
       "      <td>spam</td>\n",
       "      <td>The Steph Curry UA two Shoes are a hot-selling...</td>\n",
       "      <td>543</td>\n",
       "      <td>[]</td>\n",
       "    </tr>\n",
       "    <tr>\n",
       "      <th>3</th>\n",
       "      <td>Valletta_Cruise_Port</td>\n",
       "      <td>722151405</td>\n",
       "      <td>20160526085302</td>\n",
       "      <td>1</td>\n",
       "      <td>spam</td>\n",
       "      <td>''Valletta Cruise Port plc''' is a private com...</td>\n",
       "      <td>2980</td>\n",
       "      <td>[https://www.youtube.com/watch?v=FMThbEG95WA&lt;/...</td>\n",
       "    </tr>\n",
       "    <tr>\n",
       "      <th>4</th>\n",
       "      <td>RWG_Mobile</td>\n",
       "      <td>731355950</td>\n",
       "      <td>20160724204124</td>\n",
       "      <td>1</td>\n",
       "      <td>spam</td>\n",
       "      <td>[[File:RWGmobile.png|thumb|RWG Mobile logo]]\\n...</td>\n",
       "      <td>2099</td>\n",
       "      <td>[https://www.rwgmobile.wales/about-rwg/&lt;/ref&gt;....</td>\n",
       "    </tr>\n",
       "  </tbody>\n",
       "</table>\n",
       "</div>"
      ],
      "text/plain": [
       "                      page_title     rev_id  creation_timestamp  archived  \\\n",
       "0  Government_Achuthan_girls_hss  688249460      20151030165831         1   \n",
       "1                  Spiromax_EDMS  731688963      20160726220726         1   \n",
       "2               Steph_Curry_UA_2  693824273      20151205035603         1   \n",
       "3           Valletta_Cruise_Port  722151405      20160526085302         1   \n",
       "4                     RWG_Mobile  731355950      20160724204124         1   \n",
       "\n",
       "  draft_quality                                      censored_text  len_text  \\\n",
       "0          spam  125 years ago APPU NEDUNGADI  STARTED THIS SCH...       195   \n",
       "1          spam  Spiromax is a British technology media and com...       989   \n",
       "2          spam  The Steph Curry UA two Shoes are a hot-selling...       543   \n",
       "3          spam  ''Valletta Cruise Port plc''' is a private com...      2980   \n",
       "4          spam  [[File:RWGmobile.png|thumb|RWG Mobile logo]]\\n...      2099   \n",
       "\n",
       "                                                urls  \n",
       "0  [https://www.facebook.com/groups/4806262819778...  \n",
       "1                                                 []  \n",
       "2                                                 []  \n",
       "3  [https://www.youtube.com/watch?v=FMThbEG95WA</...  \n",
       "4  [https://www.rwgmobile.wales/about-rwg/</ref>....  "
      ]
     },
     "execution_count": 9,
     "metadata": {},
     "output_type": "execute_result"
    }
   ],
   "source": [
    "df.head()"
   ]
  },
  {
   "cell_type": "code",
   "execution_count": 10,
   "metadata": {
    "collapsed": false
   },
   "outputs": [
    {
     "data": {
      "text/plain": [
       "array(['spam', 'attack', 'vandalism'], dtype=object)"
      ]
     },
     "execution_count": 10,
     "metadata": {},
     "output_type": "execute_result"
    }
   ],
   "source": [
    "df[\"draft_quality\"].unique()"
   ]
  },
  {
   "cell_type": "code",
   "execution_count": 11,
   "metadata": {
    "collapsed": true
   },
   "outputs": [],
   "source": [
    "df[\"count_urls\"] = df[\"urls\"].apply(len)"
   ]
  },
  {
   "cell_type": "code",
   "execution_count": 12,
   "metadata": {
    "collapsed": false
   },
   "outputs": [
    {
     "data": {
      "text/html": [
       "<div>\n",
       "<table border=\"1\" class=\"dataframe\">\n",
       "  <thead>\n",
       "    <tr style=\"text-align: right;\">\n",
       "      <th></th>\n",
       "      <th>page_title</th>\n",
       "      <th>rev_id</th>\n",
       "      <th>creation_timestamp</th>\n",
       "      <th>archived</th>\n",
       "      <th>draft_quality</th>\n",
       "      <th>censored_text</th>\n",
       "      <th>len_text</th>\n",
       "      <th>urls</th>\n",
       "      <th>count_urls</th>\n",
       "    </tr>\n",
       "  </thead>\n",
       "  <tbody>\n",
       "    <tr>\n",
       "      <th>0</th>\n",
       "      <td>Government_Achuthan_girls_hss</td>\n",
       "      <td>688249460</td>\n",
       "      <td>20151030165831</td>\n",
       "      <td>1</td>\n",
       "      <td>spam</td>\n",
       "      <td>125 years ago APPU NEDUNGADI  STARTED THIS SCH...</td>\n",
       "      <td>195</td>\n",
       "      <td>[https://www.facebook.com/groups/4806262819778...</td>\n",
       "      <td>1</td>\n",
       "    </tr>\n",
       "    <tr>\n",
       "      <th>1</th>\n",
       "      <td>Spiromax_EDMS</td>\n",
       "      <td>731688963</td>\n",
       "      <td>20160726220726</td>\n",
       "      <td>1</td>\n",
       "      <td>spam</td>\n",
       "      <td>Spiromax is a British technology media and com...</td>\n",
       "      <td>989</td>\n",
       "      <td>[]</td>\n",
       "      <td>0</td>\n",
       "    </tr>\n",
       "    <tr>\n",
       "      <th>2</th>\n",
       "      <td>Steph_Curry_UA_2</td>\n",
       "      <td>693824273</td>\n",
       "      <td>20151205035603</td>\n",
       "      <td>1</td>\n",
       "      <td>spam</td>\n",
       "      <td>The Steph Curry UA two Shoes are a hot-selling...</td>\n",
       "      <td>543</td>\n",
       "      <td>[]</td>\n",
       "      <td>0</td>\n",
       "    </tr>\n",
       "    <tr>\n",
       "      <th>3</th>\n",
       "      <td>Valletta_Cruise_Port</td>\n",
       "      <td>722151405</td>\n",
       "      <td>20160526085302</td>\n",
       "      <td>1</td>\n",
       "      <td>spam</td>\n",
       "      <td>''Valletta Cruise Port plc''' is a private com...</td>\n",
       "      <td>2980</td>\n",
       "      <td>[https://www.youtube.com/watch?v=FMThbEG95WA&lt;/...</td>\n",
       "      <td>3</td>\n",
       "    </tr>\n",
       "    <tr>\n",
       "      <th>4</th>\n",
       "      <td>RWG_Mobile</td>\n",
       "      <td>731355950</td>\n",
       "      <td>20160724204124</td>\n",
       "      <td>1</td>\n",
       "      <td>spam</td>\n",
       "      <td>[[File:RWGmobile.png|thumb|RWG Mobile logo]]\\n...</td>\n",
       "      <td>2099</td>\n",
       "      <td>[https://www.rwgmobile.wales/about-rwg/&lt;/ref&gt;....</td>\n",
       "      <td>3</td>\n",
       "    </tr>\n",
       "  </tbody>\n",
       "</table>\n",
       "</div>"
      ],
      "text/plain": [
       "                      page_title     rev_id  creation_timestamp  archived  \\\n",
       "0  Government_Achuthan_girls_hss  688249460      20151030165831         1   \n",
       "1                  Spiromax_EDMS  731688963      20160726220726         1   \n",
       "2               Steph_Curry_UA_2  693824273      20151205035603         1   \n",
       "3           Valletta_Cruise_Port  722151405      20160526085302         1   \n",
       "4                     RWG_Mobile  731355950      20160724204124         1   \n",
       "\n",
       "  draft_quality                                      censored_text  len_text  \\\n",
       "0          spam  125 years ago APPU NEDUNGADI  STARTED THIS SCH...       195   \n",
       "1          spam  Spiromax is a British technology media and com...       989   \n",
       "2          spam  The Steph Curry UA two Shoes are a hot-selling...       543   \n",
       "3          spam  ''Valletta Cruise Port plc''' is a private com...      2980   \n",
       "4          spam  [[File:RWGmobile.png|thumb|RWG Mobile logo]]\\n...      2099   \n",
       "\n",
       "                                                urls  count_urls  \n",
       "0  [https://www.facebook.com/groups/4806262819778...           1  \n",
       "1                                                 []           0  \n",
       "2                                                 []           0  \n",
       "3  [https://www.youtube.com/watch?v=FMThbEG95WA</...           3  \n",
       "4  [https://www.rwgmobile.wales/about-rwg/</ref>....           3  "
      ]
     },
     "execution_count": 12,
     "metadata": {},
     "output_type": "execute_result"
    }
   ],
   "source": [
    "df.head()"
   ]
  },
  {
   "cell_type": "code",
   "execution_count": 13,
   "metadata": {
    "collapsed": false
   },
   "outputs": [],
   "source": [
    "spams = list(df[df.draft_quality == \"spam\"][\"count_urls\"])\n",
    "attacks = list(df[df.draft_quality == \"attack\"][\"count_urls\"])\n",
    "vandalisms = list(df[df.draft_quality == \"vandalism\"][\"count_urls\"])"
   ]
  },
  {
   "cell_type": "code",
   "execution_count": 14,
   "metadata": {
    "collapsed": true
   },
   "outputs": [],
   "source": [
    "data_to_plot = [spams, attacks, vandalisms]"
   ]
  },
  {
   "cell_type": "code",
   "execution_count": 21,
   "metadata": {
    "collapsed": false
   },
   "outputs": [
    {
     "name": "stderr",
     "output_type": "stream",
     "text": [
      "/usr/local/lib/python3.4/dist-packages/matplotlib/figure.py:397: UserWarning: matplotlib is currently using a non-GUI backend, so cannot show the figure\n",
      "  \"matplotlib is currently using a non-GUI backend, \"\n"
     ]
    },
    {
     "data": {
      "image/png": "[encoded data removed]",
      "text/plain": [
       "<matplotlib.figure.Figure at 0x7fb0feedc7b8>"
      ]
     },
     "metadata": {},
     "output_type": "display_data"
    }
   ],
   "source": [
    "# Create a figure instance\n",
    "fig = plt.figure()\n",
    "\n",
    "# Create an axes instance\n",
    "ax = fig.add_subplot(111)\n",
    "\n",
    "# Create the boxplot\n",
    "bp = ax.boxplot(data_to_plot)\n",
    "\n",
    "# Display the figure\n",
    "fig.show()"
   ]
  },
  {
   "cell_type": "code",
   "execution_count": 22,
   "metadata": {
    "collapsed": false
   },
   "outputs": [
    {
     "data": {
      "text/plain": [
       "0     125 years ago APPU NEDUNGADI  STARTED THIS SCH...\n",
       "1     Spiromax is a British technology media and com...\n",
       "2     The Steph Curry UA two Shoes are a hot-selling...\n",
       "3     ''Valletta Cruise Port plc''' is a private com...\n",
       "4     [[File:RWGmobile.png|thumb|RWG Mobile logo]]\\n...\n",
       "5     Transfer your files from anywhere to anywhere\\...\n",
       "6     {{Infobox organization\\n| name   = The HeroesT...\n",
       "7     Victor Jerome Beasley Jr (born July 18, 1981),...\n",
       "8     ''<big>suresh Kumar Mishra 'Uratrupt'</big>'''...\n",
       "9      == ABOUT KAMRUL HASAN KOFIL (KHK) ==\\n\\n* Ful...\n",
       "10    [http://Localizer.co Localizer.co] is a softwa...\n",
       "11    [http://www.justjoce.com/faq.html#0 Ginger Ros...\n",
       "12    <!-- Don't mess with this line! -->{{New unrev...\n",
       "13    Trailer Park Boys Mobile Game\\n\\nComing Spring...\n",
       "14    Tana Monceau is a youtube star, with over 1,34...\n",
       "15    {{AFC submission|t||ts=20160324040906|u=Yongsh...\n",
       "16    This book was written by a group called DICE w...\n",
       "17    ''[http://www.baselinemag.com/ Baseline]''' (b...\n",
       "18    Emerald marketing research is a full service c...\n",
       "19    Prawns & Fishes is the chain of restaurants st...\n",
       "20    RICHES Mosaic Interface\\u2122 https://richesmi...\n",
       "21    ''History'''\\n[http://middleeastbank.ir/ Middl...\n",
       "22    {{User LEGWAN}}\\n<!-- EDIT BELOW THIS LINE -->...\n",
       "23    Copyblogger\\nEmail Marketing\\nHOW TO PUSH SEND...\n",
       "24    Xara Skin Clinic Sydney is Located in the hear...\n",
       "25    Corin Scott is a complete nutter. He should de...\n",
       "26    An immigrant from a very poor unstable part of...\n",
       "27    Sean Tynan was born on the 2nd of July 1999 in...\n",
       "28    Jesse Tyler Ridgway (Born: September 29, 1992)...\n",
       "29    Jacob Sartorius is a VERY IMPORTANT person who...\n",
       "                            ...                        \n",
       "45    <!-- Don't mess with this line! -->{{New unrev...\n",
       "46    Styles Moody lives in San Diego California. He...\n",
       "47                        he is weird and is bad in bed\n",
       "48     == Daddy Jarvis ==\\nDaddy Jarvis is an admin ...\n",
       "49    [[File:Jervie Calibo \"Calibuto\".jpeg|thumbnail...\n",
       "50                                          {{db-band}}\n",
       "51    Chief Fresha Lutenoff of Sweden is famous for ...\n",
       "52    It is a child\\n\\nWorld renowned for his memes\\...\n",
       "53                                                    w\n",
       "54    Christopher Franz Schultchen, (born <!-- Censo...\n",
       "55    Yo cunts liking you butts\\n\\nlike sunny weathe...\n",
       "56    The Leafy Greens Movement was founded in the y...\n",
       "57                   a fuc*ing se*y motherfuc*er  actor\n",
       "58    a few useful tips to help you be a much better...\n",
       "59    Andrew Artiem Sauk is an Actor. He was born in...\n",
       "60    Asteroid Masters is a 1997 american action/adv...\n",
       "61    Krider is a LOL account of the best player in ...\n",
       "62    Irny was founded on 1777.It is now a 9 island ...\n",
       "63    \\n Name : Bhavik Bharambhe\\n age : 14\\n countr...\n",
       "64            #REDIRECT [[Lolzz]]\\n\\n{{redr|from move}}\n",
       "65    {{Infobox person\\n| name        = Damon Colema...\n",
       "66    The Canis Careyus was a fierce organism that l...\n",
       "67    Selimentosanda is a very good Japanese watch c...\n",
       "68    charlie is jesus jesus is charlie charlie is j...\n",
       "69                                      ˢᵘᶜᵏ ᵐʸ ᵃˢˢ ʳᵉˣ\n",
       "70    Nine Ball Island is a small island owned by Je...\n",
       "71    Harrison nuti, outstanding human being would b...\n",
       "72    In the island of Cyprus, Nicosian you call a r...\n",
       "73    {{multiple issues|\\n{{refimprove|date=December...\n",
       "74     Foniasaurus \\nFrom Wikipedia, the free encycl...\n",
       "Name: censored_text, dtype: object"
      ]
     },
     "execution_count": 22,
     "metadata": {},
     "output_type": "execute_result"
    }
   ],
   "source": [
    "df[\"censored_text\"]"
   ]
  },
  {
   "cell_type": "code",
   "execution_count": 40,
   "metadata": {
    "collapsed": true
   },
   "outputs": [],
   "source": [
    "w = [\"4U\",\"Claims you are a winner\",\"For instant access\",\"Accept credit cards\",\"Claims you registered with Some Kind of Partner\",\"For just $ (some amt)\",\"Act now! Don’t hesitate!\",\"Click below\",\"Free access\",\"Additional income\",\"Click here link\",\"Free cell phone\",\"Addresses on CD\",\"Click to remove\",\"Free consultation\",\"All natural\",\"Click to remove mailto\",\"Free DVD\",\"Amazing\",\"Compare rates\",\"Free grant money\",\"Apply Online\",\"Compete for your business\",\"Free hosting\",\"As seen on\",\"Confidentially on all orders\",\"Free installation\",\"Auto email removal\",\"Congratulations\",\"Free investment\",\"Avoid bankruptcy\",\"Consolidate debt and credit\",\"Free leads\",\"Be amazed\",\"Copy accurately\",\"Free membership\",\"Be your own boss\",\"Copy DVDs\",\"Free money\",\"Being a member\",\"Credit bureaus\",\"Free offer\",\"Big bucks\",\"Credit card offers\",\"Free preview\",\"Bill 1618\",\"Cures baldness\",\"Free priority mail\",\"Billing address\",\"Dear email\",\"Free quote\",\"Billion dollars\",\"Dear friend\",\"Free sample\",\"Brand new pager\",\"Dear somebody\",\"Free trial\",\"Bulk email\",\"Different reply to\",\"Free website\",\"Buy direct\",\"Dig up dirt on friends\",\"Full refund\",\"Buying judgments\",\"Direct email\",\"Get It Now\",\"Cable converter\",\"Direct marketing\",\"Get paid\",\"Call free\",\"Discusses search engine listings\",\"Get started now\",\"Call now\",\"Do it today\",\"Gift certificate\",\"Calling creditors\",\"Don’t delete\",\"Great offer\",\"Can’t live without\",\"Drastically reduced\",\"Guarantee\",\"Cancel at any time\",\"Earn per week\",\"Have you been turned down?\",\"Cannot be combined with any other offer\",\"Easy terms\",\"Hidden assets\",\"Cash bonus\",\"Eliminate bad credit\",\"Home employment\",\"Cashcashcash\",\"Email harvest\",\"Human growth hormone\",\"Casino\",\"Email marketing\",\"If only it were that easy\",\"Cell phone cancer scam\",\"Expect to earn\",\"In accordance with laws\",\"Cents on the dollar\",\"Fantastic deal\",\"Increase sales\",\"Check or money order\",\"Fast Viagra delivery\",\"Increase traffic\",\"Claims not to be selling anything\",\"Financial freedom\",\"Insurance\",\"Claims to be in accordance with some spam law\",\"Find out anything\",\"Investment decision\",\"Claims to be legal\",\"For free\",\"It's effective\",\"Join millions of Americans\",\"No questions asked\",\"Reverses aging\",\"Laser printer\",\"No selling\",\"Risk free\",\"Limited time only\",\"No strings attached\",\"Round the world\",\"Long distance phone offer\",\"Not intended\",\"S 1618\",\"Lose weight spam\",\"Off shore\",\"Safeguard notice\",\"Lower interest rates\",\"Offer expires\",\"Satisfaction guaranteed\",\"Lower monthly payment\",\"Offers coupon\",\"Save $\",\"Lowest price\",\"Offers extra cash\",\"Save big money\",\"Luxury car\",\"Offers free (often stolen) passwords\",\"Save up to\",\"Mail in order form\",\"Once in lifetime\",\"Score with babes\",\"Marketing solutions\",\"One hundred percent free\",\"Section 301\",\"Mass email\",\"One hundred percent guaranteed\",\"See for yourself\",\"Meet singles\",\"One time mailing\",\"Sent in compliance\",\"Member stuff\",\"Online biz opportunity\",\"Serious cash\",\"Message contains disclaimer\",\"Online pharmacy\",\"Serious only\",\"MLM\",\"Only $\",\"Shopping spree\",\"Money back\",\"Opportunity\",\"Sign up free today\",\"Money making\",\"Opt in\",\"Social security number\",\"Month trial offer\",\"Order now\",\"Special promotion\",\"More Internet traffic\",\"Order status\",\"Stainless steel\",\"Mortgage rates\",\"Orders shipped by priority mail\",\"Stock alert\",\"Multi level marketing\",\"Outstanding values\",\"Stock disclaimer statement\",\"Name brand\",\"Pennies a day\",\"Stock pick\",\"New customers only\",\"People just leave money laying around\",\"Stop snoring\",\"New domain extensions\",\"Please read\",\"Strong buy\",\"Nigerian\",\"Potential earnings\",\"Stuff on sale\",\"No age restrictions\",\"Print form signature\",\"Subject to credit\",\"No catch\",\"Print out and fax\",\"Supplies are limited\",\"No claim forms\",\"Produced and sent out\",\"Take action now\",\"No cost\",\"Profits\",\"Talks about hidden charges\",\"No credit check\",\"Promise you …!\",\"Talks about prizes\",\"No disappointment\",\"Pure profit\",\"Tells you it’s an ad\",\"No experience\",\"Real thing\",\"Terms and conditions\",\"No fees\",\"Refinance home\",\"The best rates\",\"No gimmick\",\"Removal instructions\",\"The following form\",\"No inventory\",\"Remove in quotes\",\"They keep your money — no refund!\",\"No investment\",\"Remove subject\",\"They’re just giving it away\",\"No medical exams\",\"Removes wrinkles\",\"This isn’t junk\",\"No middleman\",\"Reply remove subject\",\"This isn’t spam\",\"No obligation\",\"Requires initial investment\",\"University diplomas\",\"No purchase necessary\",\"Reserves the right\",\"Unlimited\",\"Unsecured credit/debt\",\"We honor all\",\"Will not believe your eyes\",\"Urgent\",\"Weekend getaway\",\"Winner\",\"US dollars\",\"What are you waiting for?\",\"Winning\",\"Vacation offers\",\"While supplies last\",\"Work at home\",\"Viagra and other drugs\",\"While you sleep\",\"You have been selected\",\"Wants credit card\",\"Who really wins?\",\"Your income\",\"We hate spam\",\"Why pay more?\"]"
   ]
  },
  {
   "cell_type": "code",
   "execution_count": 41,
   "metadata": {
    "collapsed": true
   },
   "outputs": [],
   "source": [
    "w = [word.lower() for word in w]"
   ]
  },
  {
   "cell_type": "code",
   "execution_count": null,
   "metadata": {
    "collapsed": false
   },
   "outputs": [],
   "source": []
  },
  {
   "cell_type": "code",
   "execution_count": 45,
   "metadata": {
    "collapsed": false
   },
   "outputs": [],
   "source": [
    "df[\"nb_spam_word\"] = df[\"censored_text\"].apply(lambda x: np.sum([x.lower().count(word) for word in w] ))"
   ]
  },
  {
   "cell_type": "code",
   "execution_count": 46,
   "metadata": {
    "collapsed": false
   },
   "outputs": [],
   "source": [
    "df[\"freq_spam_word\"] = df[\"nb_spam_word\"] / df[\"len_text\"]"
   ]
  },
  {
   "cell_type": "code",
   "execution_count": 47,
   "metadata": {
    "collapsed": false
   },
   "outputs": [
    {
     "data": {
      "text/plain": [
       "0     0.000000\n",
       "1     0.000000\n",
       "2     0.000000\n",
       "3     0.000000\n",
       "4     0.000000\n",
       "5     0.000000\n",
       "6     0.000797\n",
       "7     0.000000\n",
       "8     0.000000\n",
       "9     0.000000\n",
       "10    0.000000\n",
       "11    0.000163\n",
       "12    0.000000\n",
       "13    0.000000\n",
       "14    0.000000\n",
       "15    0.000244\n",
       "16    0.000000\n",
       "17    0.000000\n",
       "18    0.000000\n",
       "19    0.000000\n",
       "20    0.000000\n",
       "21    0.000000\n",
       "22    0.000000\n",
       "23    0.004876\n",
       "24    0.000000\n",
       "25    0.000000\n",
       "26    0.000000\n",
       "27    0.000000\n",
       "28    0.000027\n",
       "29    0.000000\n",
       "        ...   \n",
       "45    0.000000\n",
       "46    0.000000\n",
       "47    0.000000\n",
       "48    0.000000\n",
       "49    0.000000\n",
       "50    0.000000\n",
       "51    0.000000\n",
       "52    0.000000\n",
       "53    0.000000\n",
       "54    0.000000\n",
       "55    0.000000\n",
       "56    0.000000\n",
       "57    0.000000\n",
       "58    0.000738\n",
       "59    0.000000\n",
       "60    0.000000\n",
       "61    0.000000\n",
       "62    0.000000\n",
       "63    0.000000\n",
       "64    0.000000\n",
       "65    0.000000\n",
       "66    0.000000\n",
       "67    0.000000\n",
       "68    0.000000\n",
       "69    0.000000\n",
       "70    0.000000\n",
       "71    0.000000\n",
       "72    0.001115\n",
       "73    0.000000\n",
       "74    0.000000\n",
       "Name: freq_spam_word, dtype: float64"
      ]
     },
     "execution_count": 47,
     "metadata": {},
     "output_type": "execute_result"
    }
   ],
   "source": [
    "df[\"freq_spam_word\"]"
   ]
  },
  {
   "cell_type": "code",
   "execution_count": null,
   "metadata": {
    "collapsed": true
   },
   "outputs": [],
   "source": []
  }
 ],
 "metadata": {
  "kernelspec": {
   "display_name": "Python 3",
   "language": "python",
   "name": "python3"
  },
  "language_info": {
   "codemirror_mode": {
    "name": "ipython",
    "version": 3
   },
   "file_extension": ".py",
   "mimetype": "text/x-python",
   "name": "python",
   "nbconvert_exporter": "python",
   "pygments_lexer": "ipython3",
   "version": "3.4.3"
  }
 },
 "nbformat": 4,
 "nbformat_minor": 0
}
